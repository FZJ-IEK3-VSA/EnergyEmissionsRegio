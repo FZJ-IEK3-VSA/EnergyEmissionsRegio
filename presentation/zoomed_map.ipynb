{
 "cells": [
  {
   "cell_type": "code",
   "execution_count": null,
   "id": "4ed1dfc1",
   "metadata": {},
   "outputs": [],
   "source": [
    "import os\n",
    "import numpy as np\n",
    "import geopandas as gpd\n",
    "import matplotlib.pyplot as plt\n",
    "from energyemissionsregio.config import SHP_PATH"
   ]
  },
  {
   "cell_type": "code",
   "execution_count": null,
   "id": "139fdf05",
   "metadata": {},
   "outputs": [],
   "source": [
    "\n",
    "# Load the built-in world map dataset\n",
    "world = gpd.read_file(gpd.datasets.get_path('naturalearth_lowres'))\n",
    "\n",
    "# Plot the map\n",
    "fig, ax = plt.subplots(figsize=(12, 6))\n",
    "world.plot(ax=ax, column='continent', legend=True, cmap='Set3', edgecolor='black', linewidth=0.5)\n",
    "\n",
    "# Add title and show\n",
    "ax.set_title(\"World Map\", fontsize=15)\n",
    "plt.axis('off')\n",
    "plt.show()"
   ]
  },
  {
   "cell_type": "code",
   "execution_count": null,
   "id": "a45d07b1",
   "metadata": {},
   "outputs": [],
   "source": [
    "lau = gpd.read_file(os.path.join(SHP_PATH, \"LAU_ES_4326.shp\"))"
   ]
  },
  {
   "cell_type": "code",
   "execution_count": null,
   "id": "c02eec95",
   "metadata": {},
   "outputs": [],
   "source": [
    "# Define a limited set of nice distinct colors (you can use more or fewer)\n",
    "palette = plt.cm.Set3.colors  # 12 pleasant, soft colors\n",
    "n_colors = len(palette)\n",
    "\n",
    "# Assign a random color index to each municipality\n",
    "lau[\"color_id\"] = np.random.randint(0, n_colors, len(lau))"
   ]
  },
  {
   "cell_type": "code",
   "execution_count": null,
   "id": "53ff1fc2",
   "metadata": {},
   "outputs": [],
   "source": [
    "# Plot the map\n",
    "fig, ax = plt.subplots(figsize=(12, 6))\n",
    "lau.plot(ax=ax, color=[palette[i] for i in lau[\"color_id\"]], edgecolor='black', linewidth=0.2)\n",
    "\n",
    "plt.axis('off')\n",
    "\n",
    "# Show plot\n",
    "plt.tight_layout()\n",
    "\n",
    "plt.savefig(os.path.join(\"..\", \"figures\", \"presentation\", \"zoomed_map.png\"),\n",
    "            format='png', bbox_inches=\"tight\", dpi=200)\n",
    "\n",
    "plt.show()"
   ]
  },
  {
   "cell_type": "code",
   "execution_count": null,
   "id": "1128c687",
   "metadata": {},
   "outputs": [],
   "source": []
  }
 ],
 "metadata": {
  "language_info": {
   "name": "python"
  }
 },
 "nbformat": 4,
 "nbformat_minor": 5
}
