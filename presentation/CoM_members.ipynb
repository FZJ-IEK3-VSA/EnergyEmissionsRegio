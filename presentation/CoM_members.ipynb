{
 "cells": [
  {
   "cell_type": "code",
   "execution_count": null,
   "id": "3acf5a97",
   "metadata": {},
   "outputs": [],
   "source": [
    "import os\n",
    "import numpy as np\n",
    "import pandas as pd\n",
    "import geopandas as gpd\n",
    "from energyemissionsregio.config import SHP_PATH\n",
    "import matplotlib.pyplot as plt\n",
    "from cmcrameri import cm"
   ]
  },
  {
   "cell_type": "code",
   "execution_count": null,
   "id": "4e3a9d8f",
   "metadata": {},
   "outputs": [],
   "source": [
    "nuts0 = gpd.read_file(os.path.join(SHP_PATH, \"NUTS0.shp\"))\n",
    "lau = gpd.read_file(os.path.join(SHP_PATH, \"LAU.shp\"))"
   ]
  },
  {
   "cell_type": "code",
   "execution_count": null,
   "id": "33b1fa35",
   "metadata": {},
   "outputs": [],
   "source": [
    "lau[\"country_code\"] = lau[\"code\"].str[:2]"
   ]
  },
  {
   "cell_type": "code",
   "execution_count": null,
   "id": "99daec3e",
   "metadata": {},
   "outputs": [],
   "source": [
    "n_laus = lau[[\"country_code\"]].copy()\n",
    "n_laus[\"n_laus\"] = 1\n",
    "\n",
    "n_laus = n_laus.groupby(\"country_code\").sum().reset_index()"
   ]
  },
  {
   "cell_type": "code",
   "execution_count": null,
   "id": "02fd7311",
   "metadata": {},
   "outputs": [],
   "source": [
    "nuts0 = nuts0.merge(n_laus, left_on = \"code\", right_on='country_code', how='left')"
   ]
  },
  {
   "cell_type": "code",
   "execution_count": null,
   "id": "5a03b63d",
   "metadata": {},
   "outputs": [],
   "source": [
    "CoM_eu_countries = ['Belgium', 'Bulgaria',  'Cyprus', 'Italy', 'Czech Republic',\n",
    "       'Germany', 'Denmark',  'Estonia', 'Spain', 'Finland', 'France',\n",
    "       'Greece', 'Hungary','Ireland', 'Croatia', 'Lithuania', 'Luxembourg', 'Latvia', \n",
    "       'Romania', 'Malta', 'The Netherlands', 'Poland', 'Portugal', \n",
    "       'Sweden', 'Slovenia', 'Slovakia', 'Austria',]"
   ]
  },
  {
   "cell_type": "code",
   "execution_count": null,
   "id": "35890c19",
   "metadata": {},
   "outputs": [],
   "source": [
    "com_df = pd.read_csv(os.path.join(\"..\", \"data\", \"cities_2025-05-23.csv\"))"
   ]
  },
  {
   "cell_type": "code",
   "execution_count": null,
   "id": "d54b55b4",
   "metadata": {},
   "outputs": [],
   "source": [
    "# com_eu_df = com_df[com_df['country'].isin(CoM_eu_countries)][['country', 'name', 'emissionsTotal', 'emissionsBuildings', 'emissionsTransportation', 'emissionsIndustry', 'emissionsWaste', 'emissionsOther',]]\n",
    "\n",
    "com_eu_df = com_df[com_df['country'].isin(CoM_eu_countries)][['country']]"
   ]
  },
  {
   "cell_type": "code",
   "execution_count": null,
   "id": "ff20e9b5",
   "metadata": {},
   "outputs": [],
   "source": [
    "com_eu_df[\"n_signatories\"] = 1"
   ]
  },
  {
   "cell_type": "code",
   "execution_count": null,
   "id": "0aeadf27",
   "metadata": {},
   "outputs": [],
   "source": [
    "com_eu_n_signatories = com_eu_df.groupby(\"country\").sum().reset_index()"
   ]
  },
  {
   "cell_type": "code",
   "execution_count": null,
   "id": "973ff48b",
   "metadata": {},
   "outputs": [],
   "source": [
    "com_eu_n_signatories['country'] = com_eu_n_signatories['country'].replace({\n",
    "    'Czech Republic': 'Czechia',\n",
    "    'The Netherlands': 'Netherlands',\n",
    "})"
   ]
  },
  {
   "cell_type": "code",
   "execution_count": null,
   "id": "37ee88c3",
   "metadata": {},
   "outputs": [],
   "source": [
    "nuts0 = nuts0.merge(com_eu_n_signatories, left_on = \"name\", right_on='country', how='left')"
   ]
  },
  {
   "cell_type": "code",
   "execution_count": null,
   "id": "fb9ebc9a",
   "metadata": {},
   "outputs": [],
   "source": [
    "nuts0.crs"
   ]
  },
  {
   "cell_type": "code",
   "execution_count": null,
   "id": "6ed23d1c",
   "metadata": {},
   "outputs": [],
   "source": [
    "nuts0 = nuts0.to_crs(\"epsg:4326\")"
   ]
  },
  {
   "cell_type": "code",
   "execution_count": null,
   "id": "3dbe4fb9",
   "metadata": {},
   "outputs": [],
   "source": [
    "nuts0['centroid'] = nuts0.geometry.centroid\n",
    "\n",
    "# Extract x and y from centroid\n",
    "nuts0['x'] = nuts0['centroid'].x\n",
    "nuts0['y'] = nuts0['centroid'].y\n",
    "\n",
    "# Plot base map\n",
    "fig, ax = plt.subplots(figsize=(6, 5))\n",
    "fig.patch.set_alpha(0)  # Transparent figure background\n",
    "ax.set_facecolor('none')  # Transparent axes background\n",
    "# nuts0.plot(ax=ax, color=\"white\", edgecolor='black')\n",
    "\n",
    "# Plot bubbles at centroids\n",
    "scatter = ax.scatter(\n",
    "    nuts0['x'], nuts0['y'],\n",
    "    s=nuts0['n_laus'] * 0.2,                # scale size\n",
    "    c=nuts0['n_signatories'], cmap=cm.batlow_r,    # color map\n",
    "    alpha=0.6, edgecolors='black'\n",
    ")\n",
    "\n",
    "# Add colorbar\n",
    "cbar = plt.colorbar(scatter, ax=ax)\n",
    "\n",
    "\n",
    "# Final touches\n",
    "\n",
    "ax.axis('off')\n",
    "\n",
    "plt.savefig(os.path.join(\"..\", \"figures\", \"presentation\", \"com_signatories.png\"),\n",
    "            format='png', bbox_inches=\"tight\", dpi=300, transparent=True)\n",
    "\n",
    "plt.show()"
   ]
  },
  {
   "cell_type": "code",
   "execution_count": null,
   "id": "63c6e127",
   "metadata": {},
   "outputs": [],
   "source": []
  }
 ],
 "metadata": {
  "language_info": {
   "name": "python"
  }
 },
 "nbformat": 4,
 "nbformat_minor": 5
}
