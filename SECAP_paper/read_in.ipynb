{
 "cells": [
  {
   "cell_type": "code",
   "execution_count": null,
   "id": "c0d6efc0",
   "metadata": {},
   "outputs": [],
   "source": [
    "import os \n",
    "import pandas as pd"
   ]
  },
  {
   "cell_type": "code",
   "execution_count": null,
   "id": "dac7610a",
   "metadata": {},
   "outputs": [],
   "source": [
    "df1 = pd.read_excel(os.path.join(\"..\", \"data\", \"SECAP_paper\", \"df1_Signatories_4th Release - March 2023.xlsx\"),\n",
    "                engine='openpyxl', sheet_name= \"1\")"
   ]
  },
  {
   "cell_type": "code",
   "execution_count": null,
   "id": "d6659c05",
   "metadata": {},
   "outputs": [],
   "source": [
    "df1_filtered = df1[df1[\"country_code\"] == \"es\"][[\"organisation_id\", \"organisation_name\"]].copy()"
   ]
  },
  {
   "cell_type": "code",
   "execution_count": null,
   "id": "4feaa637",
   "metadata": {},
   "outputs": [],
   "source": [
    "df1_filtered"
   ]
  },
  {
   "cell_type": "code",
   "execution_count": null,
   "id": "a3932b71",
   "metadata": {},
   "outputs": [],
   "source": [
    "df2_2 = pd.read_excel(os.path.join(\"..\", \"data\", \"SECAP_paper\", \"df2_Action_Plans_4th Release - March 2023.xlsx\"),\n",
    "                engine='openpyxl', sheet_name= \"2\")"
   ]
  },
  {
   "cell_type": "code",
   "execution_count": null,
   "id": "a8611d5f",
   "metadata": {},
   "outputs": [],
   "source": [
    "df2_2_filtered = df2_2[[\"organisation_id\", \"action_plan_id\"]].copy()"
   ]
  },
  {
   "cell_type": "code",
   "execution_count": null,
   "id": "d060e616",
   "metadata": {},
   "outputs": [],
   "source": [
    "merge_df = pd.merge(df1_filtered, df2_2_filtered, on = \"organisation_id\", how=\"left\")"
   ]
  },
  {
   "cell_type": "code",
   "execution_count": null,
   "id": "2a351e93",
   "metadata": {},
   "outputs": [],
   "source": [
    "merge_df[merge_df.isna().any(axis=1)]"
   ]
  },
  {
   "cell_type": "code",
   "execution_count": null,
   "id": "c2bb9226",
   "metadata": {},
   "outputs": [],
   "source": [
    "df2_2A_1 = pd.read_excel(os.path.join(\"..\", \"data\", \"SECAP_paper\", \"df2_Action_Plans_4th Release - March 2023.xlsx\"),\n",
    "                engine='openpyxl', sheet_name= \"2A_1\")"
   ]
  },
  {
   "cell_type": "code",
   "execution_count": null,
   "id": "cc4aade7",
   "metadata": {},
   "outputs": [],
   "source": [
    "df2_2A_1_filtered = df2_2A_1[[\"action_plan_id\", \"co2_target_CoM2030\"]].copy()"
   ]
  },
  {
   "cell_type": "code",
   "execution_count": null,
   "id": "636e7d44",
   "metadata": {},
   "outputs": [],
   "source": [
    "df2_2A_1_filtered"
   ]
  },
  {
   "cell_type": "code",
   "execution_count": null,
   "id": "b6477dc8",
   "metadata": {},
   "outputs": [],
   "source": [
    "merge_df = pd.merge(merge_df, df2_2A_1_filtered, on = \"action_plan_id\", how = \"left\")"
   ]
  },
  {
   "cell_type": "code",
   "execution_count": null,
   "id": "8e7aaa6e",
   "metadata": {},
   "outputs": [],
   "source": [
    "merge_df"
   ]
  },
  {
   "cell_type": "code",
   "execution_count": null,
   "id": "3ea8ef3a",
   "metadata": {},
   "outputs": [],
   "source": [
    "merge_df[~merge_df[\"action_plan_id\"].isna()]"
   ]
  },
  {
   "cell_type": "code",
   "execution_count": null,
   "id": "26c0d756",
   "metadata": {},
   "outputs": [],
   "source": [
    "merge_df[~(merge_df[\"co2_target_CoM2030\"].isna()) & (merge_df[\"co2_target_CoM2030\"] != \"-\")]"
   ]
  },
  {
   "cell_type": "code",
   "execution_count": null,
   "id": "0ef61304",
   "metadata": {},
   "outputs": [],
   "source": [
    "merge_df"
   ]
  },
  {
   "cell_type": "code",
   "execution_count": null,
   "id": "c24ceb79",
   "metadata": {},
   "outputs": [],
   "source": [
    "df2_2A_2 = pd.read_excel(os.path.join(\"..\", \"data\", \"SECAP_paper\", \"df2_Action_Plans_4th Release - March 2023.xlsx\"),\n",
    "                engine='openpyxl', sheet_name= \"2A_2\")"
   ]
  },
  {
   "cell_type": "code",
   "execution_count": null,
   "id": "ee353976",
   "metadata": {},
   "outputs": [],
   "source": [
    "df2_2A_2_filtered = df2_2A_2[df2_2A_2[\"target_year\"] == 2030][[\"action_plan_id\", \n",
    "                                                               \"action_sector\", \n",
    "                                                               \"estimates_co2_reduction\", \n",
    "                                                               \"estimates_energy_savings\", \"target_year\"]].copy() "
   ]
  },
  {
   "cell_type": "code",
   "execution_count": null,
   "id": "fac07dd2",
   "metadata": {},
   "outputs": [],
   "source": [
    "merge_df = pd.merge(merge_df, df2_2A_2_filtered, on = \"action_plan_id\", how = \"left\")"
   ]
  },
  {
   "cell_type": "code",
   "execution_count": null,
   "id": "0bd3451b",
   "metadata": {},
   "outputs": [],
   "source": [
    "merge_df[~(merge_df.isna().any(axis=1)) & (merge_df[\"action_sector\"] == \"residential\")]"
   ]
  },
  {
   "cell_type": "code",
   "execution_count": null,
   "id": "960f1ea7",
   "metadata": {},
   "outputs": [],
   "source": []
  }
 ],
 "metadata": {
  "language_info": {
   "name": "python"
  }
 },
 "nbformat": 4,
 "nbformat_minor": 5
}
