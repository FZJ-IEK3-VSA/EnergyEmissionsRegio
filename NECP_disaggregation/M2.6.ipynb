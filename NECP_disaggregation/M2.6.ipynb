{
 "cells": [
  {
   "cell_type": "markdown",
   "id": "c0682465",
   "metadata": {},
   "source": [
    "IMPROVEMENTS IN TECHNOLOGY AND PROCESS MANAGEMENT SYSTEMS OF NON-INDUSTRIES ENERGY INTENSIVE"
   ]
  },
  {
   "cell_type": "code",
   "execution_count": null,
   "id": "f076dd79",
   "metadata": {},
   "outputs": [],
   "source": [
    "import os \n",
    "import pandas as pd\n",
    "from energyemissionsregio.utils import solve_proxy_equation"
   ]
  },
  {
   "cell_type": "code",
   "execution_count": null,
   "id": "affbb7a8",
   "metadata": {},
   "outputs": [],
   "source": [
    "final_energy_savings = 9283.5  #ktoe"
   ]
  },
  {
   "cell_type": "markdown",
   "id": "c3ba8ae8",
   "metadata": {},
   "source": [
    "proxies"
   ]
  },
  {
   "cell_type": "code",
   "execution_count": null,
   "id": "61dfc7c8",
   "metadata": {},
   "outputs": [],
   "source": [
    "proxies = [\"final_energy_consumption_in_machinery_industries\",\n",
    "        \"final_energy_consumption_in_food_beverages_and_tobacco_industries\",\n",
    "        \"final_energy_consumption_in_transport_equipment_industries\",\n",
    "        \"final_energy_consumption_in_construction\",\n",
    "        \"final_energy_consumption_in_textile_and_leather_industries\"]\n",
    "\n",
    "proxy_data_dict = {}\n",
    "\n",
    "for proxy in proxies:\n",
    "    proxy_data = pd.read_csv(os.path.join(\"..\", \"data\", \"disaggregated_data\", \"FEC\", f\"{proxy}.csv\"))\n",
    "    proxy_data = proxy_data[proxy_data[\"region_code\"].str.startswith(\"ES\")].copy()\n",
    "    proxy_data[\"value_confidence_level\"] = 5 # VERY HIGH\n",
    "    proxy_data_dict[proxy] = proxy_data"
   ]
  },
  {
   "cell_type": "code",
   "execution_count": null,
   "id": "5a5bb725",
   "metadata": {},
   "outputs": [],
   "source": [
    "proxy_equation = \"final_energy_consumption_in_machinery_industries + final_energy_consumption_in_food_beverages_and_tobacco_industries + final_energy_consumption_in_transport_equipment_industries + final_energy_consumption_in_construction + final_energy_consumption_in_textile_and_leather_industries\"\n",
    "solved_proxy_df = solve_proxy_equation(proxy_equation, proxy_data_dict)"
   ]
  },
  {
   "cell_type": "code",
   "execution_count": null,
   "id": "6a63af74",
   "metadata": {},
   "outputs": [],
   "source": [
    "solved_proxy_df"
   ]
  },
  {
   "cell_type": "code",
   "execution_count": null,
   "id": "bab61366",
   "metadata": {},
   "outputs": [],
   "source": [
    "solved_proxy_df[\"share\"] = solved_proxy_df[\"value\"] / solved_proxy_df[\"value\"].sum()\n",
    "solved_proxy_df[\"value\"] = solved_proxy_df[\"share\"] * final_energy_savings"
   ]
  },
  {
   "cell_type": "code",
   "execution_count": null,
   "id": "21c8e4b4",
   "metadata": {},
   "outputs": [],
   "source": [
    "final_df = solved_proxy_df[[\"region_code\", \"value\"]].copy()\n",
    "\n",
    "final_df.to_csv(os.path.join(\"..\", \"data\", \"NECP_disaggregation\", \"disaggregated_data\",  f\"FES_M2.6_non_energy_intensive_industries.csv\"), index=False)"
   ]
  },
  {
   "cell_type": "code",
   "execution_count": null,
   "id": "454beb47",
   "metadata": {},
   "outputs": [],
   "source": []
  }
 ],
 "metadata": {
  "language_info": {
   "name": "python"
  }
 },
 "nbformat": 4,
 "nbformat_minor": 5
}
