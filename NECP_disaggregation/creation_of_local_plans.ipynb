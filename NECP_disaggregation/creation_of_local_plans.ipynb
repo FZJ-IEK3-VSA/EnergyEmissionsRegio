{
 "cells": [
  {
   "cell_type": "code",
   "execution_count": null,
   "id": "53c4fcd3",
   "metadata": {},
   "outputs": [],
   "source": [
    "import os \n",
    "import pandas as pd\n",
    "import geopandas as gpd\n",
    "from energyemissionsregio.config import SHP_PATH"
   ]
  },
  {
   "cell_type": "code",
   "execution_count": null,
   "id": "24848429",
   "metadata": {},
   "outputs": [],
   "source": [
    "necp_data = pd.read_excel(os.path.join(\"..\", \"data\", \"NECP_disaggregation\", \"necp_data.xlsx\"), sheet_name=\"NECP_measures\")"
   ]
  },
  {
   "cell_type": "code",
   "execution_count": null,
   "id": "382f4e63",
   "metadata": {},
   "outputs": [],
   "source": [
    "necp_data = necp_data[necp_data[\"Is considered for disaggregation?\"] == \"Yes\"].copy()\n",
    "necp_data.drop(columns=\"Is considered for disaggregation?\", inplace=True)"
   ]
  },
  {
   "cell_type": "code",
   "execution_count": null,
   "id": "790bfcf6",
   "metadata": {},
   "outputs": [],
   "source": [
    "lau_shp = gpd.read_file(os.path.join(SHP_PATH, \"LAU.shp\"))\n",
    "lau_shp = lau_shp[lau_shp[\"code\"].str.startswith(\"ES\")].copy()"
   ]
  },
  {
   "cell_type": "code",
   "execution_count": null,
   "id": "b1384e93",
   "metadata": {},
   "outputs": [],
   "source": [
    "# adding region names as new columns to NECP data\n",
    "for region_name in list(lau_shp[\"name\"]):\n",
    "    necp_data[region_name] = None"
   ]
  },
  {
   "cell_type": "code",
   "execution_count": null,
   "id": "471a879f",
   "metadata": {},
   "outputs": [],
   "source": [
    "measure_target = \"Minimum wind turbine capacity increase by 2026, compared to 2020 (MW)\"\n",
    "\n",
    "data = pd.read_csv(os.path.join(\"..\", \"data\", \"NECP_disaggregation\", \"disaggregated_data\",  f\"planned_capacity_wind.csv\"))\n",
    "\n",
    "data = pd.merge(data, lau_shp, left_on=\"region_code\", right_on=\"code\")\n",
    "# Fill disaggregated wind turbine capacities\n",
    "index = necp_data[necp_data[\"Measure target description\"] == measure_target].index[0]\n",
    "\n",
    "for _, row in data.iterrows():\n",
    "    region = row[\"name\"]\n",
    "    value = row[\"value\"]\n",
    "    necp_data.at[index, region] = value  "
   ]
  },
  {
   "cell_type": "code",
   "execution_count": null,
   "id": "f45da9da",
   "metadata": {},
   "outputs": [],
   "source": [
    "measure_target = 'Minimum photovoltaics capacity increase by 2026, compared to 2020 (MW)'\n",
    "\n",
    "data = pd.read_csv(os.path.join(\"..\", \"data\", \"NECP_disaggregation\", \"disaggregated_data\",  f\"planned_capacity_photovoltaic.csv\"))\n",
    "data = pd.merge(data, lau_shp, left_on=\"region_code\", right_on=\"code\")\n",
    "\n",
    "index = necp_data[necp_data[\"Measure target description\"] == measure_target].index[0]\n",
    "\n",
    "for _, row in data.iterrows():\n",
    "    region = row[\"name\"]\n",
    "    value = row[\"value\"]\n",
    "    necp_data.at[index, region] = value "
   ]
  },
  {
   "cell_type": "code",
   "execution_count": null,
   "id": "60fd2ae5",
   "metadata": {},
   "outputs": [],
   "source": [
    "measure_target = 'Minimum solar thermoelectric capacity increase by 2026, compared to 2020 (MW)'\n",
    "\n",
    "data = pd.read_csv(os.path.join(\"..\", \"data\", \"NECP_disaggregation\", \"disaggregated_data\",  f\"planned_capacity_solar_thermoelectric.csv\"))\n",
    "data = pd.merge(data, lau_shp, left_on=\"region_code\", right_on=\"code\")\n",
    "\n",
    "index = necp_data[necp_data[\"Measure target description\"] == measure_target].index[0]\n",
    "\n",
    "for _, row in data.iterrows():\n",
    "    region = row[\"name\"]\n",
    "    value = row[\"value\"]\n",
    "    necp_data.at[index, region] = value "
   ]
  },
  {
   "cell_type": "code",
   "execution_count": null,
   "id": "5a72c8b2",
   "metadata": {},
   "outputs": [],
   "source": [
    "measure_target = 'Minimum biomass capacity increase by 2026, compared to 2020 (MW)'\n",
    "\n",
    "data = pd.read_csv(os.path.join(\"..\", \"data\", \"NECP_disaggregation\", \"disaggregated_data\",  f\"planned_capacity_biomass.csv\"))\n",
    "data = pd.merge(data, lau_shp, left_on=\"region_code\", right_on=\"code\")\n",
    "\n",
    "index = necp_data[necp_data[\"Measure target description\"] == measure_target].index[0]\n",
    "\n",
    "for _, row in data.iterrows():\n",
    "    region = row[\"name\"]\n",
    "    value = row[\"value\"]\n",
    "    necp_data.at[index, region] = value "
   ]
  },
  {
   "cell_type": "code",
   "execution_count": null,
   "id": "8aa295ee",
   "metadata": {},
   "outputs": [],
   "source": [
    "measure_target = 'Minimum capacity increase of other technologies (biogas, hydraulic, tidal, etc.) by 2026, compared to 2020 (MW)'\n",
    "\n",
    "data = pd.read_csv(os.path.join(\"..\", \"data\", \"NECP_disaggregation\", \"disaggregated_data\",  f\"planned_capacity_other_renewables.csv\"))\n",
    "data = pd.merge(data, lau_shp, left_on=\"region_code\", right_on=\"code\")\n",
    "\n",
    "index = necp_data[necp_data[\"Measure target description\"] == measure_target].index[0]\n",
    "\n",
    "for _, row in data.iterrows():\n",
    "    region = row[\"name\"]\n",
    "    value = row[\"value\"]\n",
    "    necp_data.at[index, region] = value "
   ]
  },
  {
   "cell_type": "code",
   "execution_count": null,
   "id": "5261f047",
   "metadata": {},
   "outputs": [],
   "source": [
    "measure_target = 'Self-consumption installations by 2030 (GW)'\n",
    "\n",
    "data = pd.read_csv(os.path.join(\"..\", \"data\", \"NECP_disaggregation\", \"disaggregated_data\",  f\"planned_rooftop_pv_capacity.csv\"))\n",
    "data = pd.merge(data, lau_shp, left_on=\"region_code\", right_on=\"code\")\n",
    "\n",
    "index = necp_data[necp_data[\"Measure target description\"] == measure_target].index[0]\n",
    "\n",
    "for _, row in data.iterrows():\n",
    "    region = row[\"name\"]\n",
    "    value = row[\"value\"]\n",
    "    necp_data.at[index, region] = value "
   ]
  },
  {
   "cell_type": "code",
   "execution_count": null,
   "id": "1cc0a867",
   "metadata": {},
   "outputs": [],
   "source": [
    "measure_name= \"LOW-EMISSION ZONES AND SUSTAINABLE URBAN MOBILITY\"\n",
    "\n",
    "data = pd.read_csv(os.path.join(\"..\", \"data\", \"NECP_disaggregation\", \"disaggregated_data\", \"FES_M2.1_low_emission_zones.csv\"))\n",
    "data = pd.merge(data, lau_shp, left_on=\"region_code\", right_on=\"code\")\n",
    "\n",
    "index = necp_data[necp_data[\"Measure name\"] == measure_name].index[0]\n",
    "\n",
    "for _, row in data.iterrows():\n",
    "    region = row[\"name\"]\n",
    "    value = row[\"value\"]\n",
    "    necp_data.at[index, region] = value "
   ]
  },
  {
   "cell_type": "code",
   "execution_count": null,
   "id": "db7efe46",
   "metadata": {},
   "outputs": [],
   "source": [
    "measure_name= \"REFURBISHMENT OF THE ROLLING STOCK OF MEANS OF TRANSPORT BY MORE EFFICIENT MEANS OF TRANSPORT, AND EFFICIENCY IMPROVEMENTS IN MANAGEMENT\"\n",
    "\n",
    "data = pd.read_csv(os.path.join(\"..\", \"data\", \"NECP_disaggregation\", \"disaggregated_data\", \"FES_M2.3_refurbishment_of_rolling_stock.csv\"))\n",
    "data = pd.merge(data, lau_shp, left_on=\"region_code\", right_on=\"code\")\n",
    "\n",
    "index = necp_data[necp_data[\"Measure name\"] == measure_name].index[0]\n",
    "\n",
    "for _, row in data.iterrows():\n",
    "    region = row[\"name\"]\n",
    "    value = row[\"value\"]\n",
    "    necp_data.at[index, region] = value "
   ]
  },
  {
   "cell_type": "code",
   "execution_count": null,
   "id": "457fca92",
   "metadata": {},
   "outputs": [],
   "source": [
    "measure_name= \"PROMOTION OF ELECTRIC VEHICLES\"\n",
    "\n",
    "measure_target = \"final energy savings\"\n",
    "\n",
    "data = pd.read_csv(os.path.join(\"..\", \"data\", \"NECP_disaggregation\", \"disaggregated_data\", \"FES_M2.5_promotion_of_electric_vehicles.csv\"))\n",
    "data = pd.merge(data, lau_shp, left_on=\"region_code\", right_on=\"code\")\n",
    "\n",
    "index = necp_data[(necp_data[\"Measure name\"] == measure_name) & (necp_data[\"Measure target description\"].str.contains(measure_target))].index[0]\n",
    "\n",
    "for _, row in data.iterrows():\n",
    "    region = row[\"name\"]\n",
    "    value = row[\"value\"]\n",
    "    necp_data.at[index, region] = value \n",
    "\n",
    "\n",
    "measure_target = \"(cars, vans, buses and motorcycles)\"\n",
    "\n",
    "data = pd.read_csv(os.path.join(\"..\", \"data\", \"NECP_disaggregation\", \"disaggregated_data\", \"M2.5_number_of_electric_vehicles.csv\"))\n",
    "data = pd.merge(data, lau_shp, left_on=\"region_code\", right_on=\"code\")\n",
    "\n",
    "index = necp_data[(necp_data[\"Measure name\"] == measure_name) & (necp_data[\"Measure target description\"].str.contains(measure_target))].index[0]\n",
    "\n",
    "for _, row in data.iterrows():\n",
    "    region = row[\"name\"]\n",
    "    value = row[\"value\"]\n",
    "    necp_data.at[index, region] = value \n"
   ]
  },
  {
   "cell_type": "code",
   "execution_count": null,
   "id": "d48db693",
   "metadata": {},
   "outputs": [],
   "source": [
    "measure_name= \"IMPROVEMENTS IN TECHNOLOGY AND PROCESS MANAGEMENT SYSTEMS OF NON-ENERGY INTENSIVE INDUSTRIES\"\n",
    "\n",
    "data = pd.read_csv(os.path.join(\"..\", \"data\", \"NECP_disaggregation\", \"disaggregated_data\", \"FES_M2.6_non_energy_intensive_industries.csv\"))\n",
    "data = pd.merge(data, lau_shp, left_on=\"region_code\", right_on=\"code\")\n",
    "\n",
    "index = necp_data[necp_data[\"Measure name\"] == measure_name].index[0]\n",
    "\n",
    "for _, row in data.iterrows():\n",
    "    region = row[\"name\"]\n",
    "    value = row[\"value\"]\n",
    "    necp_data.at[index, region] = value "
   ]
  },
  {
   "cell_type": "code",
   "execution_count": null,
   "id": "216dd72c",
   "metadata": {},
   "outputs": [],
   "source": [
    "measure_name= \"IMPROVEMENTS IN TECHNOLOGY AND PROCESS MANAGEMENT SYSTEMS IN ENERGY INTENSIVE INDUSTRIES\"\n",
    "\n",
    "data = pd.read_csv(os.path.join(\"..\", \"data\", \"NECP_disaggregation\", \"disaggregated_data\", \"FES_M2.7_energy_intensive_industries.csv\"))\n",
    "data = pd.merge(data, lau_shp, left_on=\"region_code\", right_on=\"code\")\n",
    "\n",
    "index = necp_data[necp_data[\"Measure name\"] == measure_name].index[0]\n",
    "\n",
    "for _, row in data.iterrows():\n",
    "    region = row[\"name\"]\n",
    "    value = row[\"value\"]\n",
    "    necp_data.at[index, region] = value "
   ]
  },
  {
   "cell_type": "code",
   "execution_count": null,
   "id": "16dc1275",
   "metadata": {},
   "outputs": [],
   "source": [
    "measure_name= \"IMPROVEMENTS IN TECHNOLOGY AND PROCESS MANAGEMENT SYSTEMS IN ENERGY INTENSIVE INDUSTRIES\"\n",
    "\n",
    "data = pd.read_csv(os.path.join(\"..\", \"data\", \"NECP_disaggregation\", \"disaggregated_data\", \"FES_M2.7_energy_intensive_industries.csv\"))\n",
    "data = pd.merge(data, lau_shp, left_on=\"region_code\", right_on=\"code\")\n",
    "\n",
    "index = necp_data[necp_data[\"Measure name\"] == measure_name].index[0]\n",
    "\n",
    "for _, row in data.iterrows():\n",
    "    region = row[\"name\"]\n",
    "    value = row[\"value\"]\n",
    "    necp_data.at[index, region] = value "
   ]
  },
  {
   "cell_type": "code",
   "execution_count": null,
   "id": "a3a67bad",
   "metadata": {},
   "outputs": [],
   "source": [
    "measure_name= \"ENERGY EFFICIENCY IN EXISTING BUILDINGS IN THE RESIDENTIAL SECTOR\"\n",
    "\n",
    "measure_target = \"final energy savings\"\n",
    "\n",
    "data = pd.read_csv(os.path.join(\"..\", \"data\", \"NECP_disaggregation\", \"disaggregated_data\", \"FES_M2.8_energy_efficiency_in_households.csv\"))\n",
    "data = pd.merge(data, lau_shp, left_on=\"region_code\", right_on=\"code\")\n",
    "\n",
    "index = necp_data[(necp_data[\"Measure name\"] == measure_name) & (necp_data[\"Measure target description\"].str.contains(measure_target))].index[0]\n",
    "\n",
    "for _, row in data.iterrows():\n",
    "    region = row[\"name\"]\n",
    "    value = row[\"value\"]\n",
    "    necp_data.at[index, region] = value \n",
    "\n",
    "\n",
    "measure_target = \"dwellings to be renovated\"\n",
    "\n",
    "data = pd.read_csv(os.path.join(\"..\", \"data\", \"NECP_disaggregation\", \"disaggregated_data\", \"M2.8_number_of_dwellings.csv\"))\n",
    "data = pd.merge(data, lau_shp, left_on=\"region_code\", right_on=\"code\")\n",
    "\n",
    "index = necp_data[(necp_data[\"Measure name\"] == measure_name) & (necp_data[\"Measure target description\"].str.contains(measure_target))].index[0]\n",
    "\n",
    "for _, row in data.iterrows():\n",
    "    region = row[\"name\"]\n",
    "    value = row[\"value\"]\n",
    "    necp_data.at[index, region] = value "
   ]
  },
  {
   "cell_type": "code",
   "execution_count": null,
   "id": "c621a5ff",
   "metadata": {},
   "outputs": [],
   "source": [
    "measure_name= \"RENEWAL OF RESIDENTIAL EQUIPMENT\"\n",
    "\n",
    "measure_target = \"final energy savings\"\n",
    "\n",
    "data = pd.read_csv(os.path.join(\"..\", \"data\", \"NECP_disaggregation\", \"disaggregated_data\", \"FES_M2.9_residential_equipment.csv\"))\n",
    "data = pd.merge(data, lau_shp, left_on=\"region_code\", right_on=\"code\")\n",
    "\n",
    "index = necp_data[(necp_data[\"Measure name\"] == measure_name) & (necp_data[\"Measure target description\"].str.contains(measure_target))].index[0]\n",
    "\n",
    "for _, row in data.iterrows():\n",
    "    region = row[\"name\"]\n",
    "    value = row[\"value\"]\n",
    "    necp_data.at[index, region] = value \n",
    "\n",
    "\n",
    "measure_target = \"Penetration of appliances\"\n",
    "\n",
    "data = pd.read_csv(os.path.join(\"..\", \"data\", \"NECP_disaggregation\", \"disaggregated_data\", \"M2.9_number_of_appliances.csv\"))\n",
    "data = pd.merge(data, lau_shp, left_on=\"region_code\", right_on=\"code\")\n",
    "\n",
    "index = necp_data[(necp_data[\"Measure name\"] == measure_name) & (necp_data[\"Measure target description\"].str.contains(measure_target))].index[0]\n",
    "\n",
    "for _, row in data.iterrows():\n",
    "    region = row[\"name\"]\n",
    "    value = row[\"value\"]\n",
    "    necp_data.at[index, region] = value "
   ]
  },
  {
   "cell_type": "code",
   "execution_count": null,
   "id": "2549fe2e",
   "metadata": {},
   "outputs": [],
   "source": [
    "measure_name= \"DISTRICT HEATING AND COOLING NETWORKS IN THE RESIDENTIAL SECTOR\"\n",
    "\n",
    "data = pd.read_csv(os.path.join(\"..\", \"data\", \"NECP_disaggregation\", \"disaggregated_data\", \"FES_M2.10_district_heating_and_cooling.csv\"))\n",
    "data = pd.merge(data, lau_shp, left_on=\"region_code\", right_on=\"code\")\n",
    "\n",
    "index = necp_data[necp_data[\"Measure name\"] == measure_name].index[0]\n",
    "\n",
    "for _, row in data.iterrows():\n",
    "    region = row[\"name\"]\n",
    "    value = row[\"value\"]\n",
    "    necp_data.at[index, region] = value "
   ]
  },
  {
   "cell_type": "code",
   "execution_count": null,
   "id": "37f9c6bc",
   "metadata": {},
   "outputs": [],
   "source": [
    "measure_name= \"ENERGY EFFICIENCY IN BUILDINGS IN THE TERTIARY SECTOR\"\n",
    "\n",
    "data = pd.read_csv(os.path.join(\"..\", \"data\", \"NECP_disaggregation\", \"disaggregated_data\", \"FES_M2.11_energy_efficiency_in_commerce.csv\"))\n",
    "data = pd.merge(data, lau_shp, left_on=\"region_code\", right_on=\"code\")\n",
    "\n",
    "index = necp_data[necp_data[\"Measure name\"] == measure_name].index[0]\n",
    "\n",
    "for _, row in data.iterrows():\n",
    "    region = row[\"name\"]\n",
    "    value = row[\"value\"]\n",
    "    necp_data.at[index, region] = value "
   ]
  },
  {
   "cell_type": "code",
   "execution_count": null,
   "id": "3d8ff91e",
   "metadata": {},
   "outputs": [],
   "source": [
    "measure_name= \"DISTRICT HEATING AND COOLING NETWORKS IN THE TERTIARY SECTOR\"\n",
    "\n",
    "data = pd.read_csv(os.path.join(\"..\", \"data\", \"NECP_disaggregation\", \"disaggregated_data\", \"FES_M2.12_district_heating_and_cooling_tertiary.csv\"))\n",
    "data = pd.merge(data, lau_shp, left_on=\"region_code\", right_on=\"code\")\n",
    "\n",
    "index = necp_data[necp_data[\"Measure name\"] == measure_name].index[0]\n",
    "\n",
    "for _, row in data.iterrows():\n",
    "    region = row[\"name\"]\n",
    "    value = row[\"value\"]\n",
    "    necp_data.at[index, region] = value "
   ]
  },
  {
   "cell_type": "code",
   "execution_count": null,
   "id": "8dc6032f",
   "metadata": {},
   "outputs": [],
   "source": [
    "measure_name= \"ENERGY EFFICIENCY IN COLD GENERATING EQUIPMENT AND LARGE AIR-CONDITIONING OF THE TERTIARY SECTOR AND PUBLIC INFRASTRUCTURE\"\n",
    "\n",
    "data = pd.read_csv(os.path.join(\"..\", \"data\", \"NECP_disaggregation\", \"disaggregated_data\", \"FES_M2.13_cold_and_heat_generation_in_commerce.csv\"))\n",
    "data = pd.merge(data, lau_shp, left_on=\"region_code\", right_on=\"code\")\n",
    "\n",
    "index = necp_data[necp_data[\"Measure name\"] == measure_name].index[0]\n",
    "\n",
    "for _, row in data.iterrows():\n",
    "    region = row[\"name\"]\n",
    "    value = row[\"value\"]\n",
    "    necp_data.at[index, region] = value "
   ]
  },
  {
   "cell_type": "markdown",
   "id": "e08189f3",
   "metadata": {},
   "source": [
    "No proxy, same value all regions"
   ]
  },
  {
   "cell_type": "code",
   "execution_count": null,
   "id": "168d00e1",
   "metadata": {},
   "outputs": [],
   "source": [
    "region_list = list(lau_shp[\"name\"].values)"
   ]
  },
  {
   "cell_type": "code",
   "execution_count": null,
   "id": "02f43ee4",
   "metadata": {},
   "outputs": [],
   "source": [
    "measure_name = \"FRAMEWORK FOR THE DEVELOPMENT OF RENEWABLE THERMAL ENERGY\"\n",
    "\n",
    "mask = (necp_data[\"Measure name\"] == measure_name)\n",
    "\n",
    "national_value = necp_data[mask][\"Spain\"].item() \n",
    "necp_data.loc[mask, region_list] = national_value"
   ]
  },
  {
   "cell_type": "code",
   "execution_count": null,
   "id": "54ada2f1",
   "metadata": {},
   "outputs": [],
   "source": [
    "measure_name = \"PUBLIC PROCUREMENT OF RENEWABLE ENERGY\"\n",
    "\n",
    "mask = (necp_data[\"Measure name\"] == measure_name)\n",
    "\n",
    "national_value = necp_data[mask][\"Spain\"].item() \n",
    "necp_data.loc[mask, region_list] = national_value"
   ]
  },
  {
   "cell_type": "code",
   "execution_count": null,
   "id": "af7f4b2f",
   "metadata": {},
   "outputs": [],
   "source": [
    "measure_name = 'DECARBONISATION OF THE INDUSTRIAL SECTOR'\n",
    "\n",
    "measure_target = \"Annual increase in the share of renewable energy\"\n",
    "\n",
    "mask = (necp_data[\"Measure name\"] == measure_name) & (necp_data[\"Measure target description\"].str.contains(measure_target))\n",
    "\n",
    "national_value = necp_data[mask][\"Spain\"].item() # no proxy, same value for all regions\n",
    "necp_data.loc[mask, region_list] = national_value\n",
    "\n",
    "measure_target = \"Contribution of renewable fuels\"\n",
    "\n",
    "mask = (necp_data[\"Measure name\"] == measure_name) & (necp_data[\"Measure target description\"].str.contains(measure_target))\n",
    "\n",
    "national_value = necp_data[mask][\"Spain\"].item() # no proxy, same value for all regions\n",
    "necp_data.loc[mask, region_list] = national_value"
   ]
  },
  {
   "cell_type": "code",
   "execution_count": null,
   "id": "8a12948a",
   "metadata": {},
   "outputs": [],
   "source": [
    "measure_name = \"PUBLIC SECTOR: ACCOUNTABILITY AND EFFICIENT PROCUREMENT ENERGY\"\n",
    "\n",
    "mask = (necp_data[\"Measure name\"] == measure_name)\n",
    "\n",
    "national_value = necp_data[mask][\"Spain\"].item() \n",
    "necp_data.loc[mask, region_list] = national_value"
   ]
  },
  {
   "cell_type": "code",
   "execution_count": null,
   "id": "64fdbfc1",
   "metadata": {},
   "outputs": [],
   "source": [
    "necp_data.to_excel(os.path.join(\"..\", \"data\", \"NECP_disaggregation\", \"necp_data_filled.xlsx\"), index=False)"
   ]
  },
  {
   "cell_type": "code",
   "execution_count": null,
   "id": "0f000323",
   "metadata": {},
   "outputs": [],
   "source": [
    "necp_data[['Dimension/Component', 'Measure number', 'Measure name',\n",
    "       'Measure description', 'Measure target description', 'Spain', \"Vitoria-Gasteiz\"]].to_excel(os.path.join(\"..\", \"data\", \"NECP_disaggregation\", \"necp_data_filled_vitoria.xlsx\"), index=False)"
   ]
  }
 ],
 "metadata": {
  "language_info": {
   "name": "python"
  }
 },
 "nbformat": 4,
 "nbformat_minor": 5
}
