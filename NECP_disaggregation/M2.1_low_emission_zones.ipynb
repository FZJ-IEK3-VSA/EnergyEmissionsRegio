{
 "cells": [
  {
   "cell_type": "code",
   "execution_count": null,
   "id": "8bddbda4",
   "metadata": {},
   "outputs": [],
   "source": [
    "import os \n",
    "import pandas as pd\n",
    "from energyemissionsregio.config import DATA_PATH"
   ]
  },
  {
   "cell_type": "code",
   "execution_count": null,
   "id": "0df548e2",
   "metadata": {},
   "outputs": [],
   "source": [
    "final_energy_savings = 6604.7 #ktoe"
   ]
  },
  {
   "cell_type": "markdown",
   "id": "6b38a9b2",
   "metadata": {},
   "source": [
    "proxy - FEC in road transport"
   ]
  },
  {
   "cell_type": "code",
   "execution_count": null,
   "id": "4a080cb2",
   "metadata": {},
   "outputs": [],
   "source": [
    "proxy_df = pd.read_csv(os.path.join(\"..\", \"data\", \"disaggregated_data\", \"FEC\", \"final_energy_consumption_in_road_transport.csv\"))\n",
    "proxy_df = proxy_df[proxy_df[\"region_code\"].str.startswith(\"ES\")]"
   ]
  },
  {
   "cell_type": "code",
   "execution_count": null,
   "id": "9109fbc8",
   "metadata": {},
   "outputs": [],
   "source": [
    "proxy_df = proxy_df[[\"region_code\", \"value\"]].copy()\n",
    "proxy_df.rename(columns={\"value\": \"proxy_value\"}, inplace=True)"
   ]
  },
  {
   "cell_type": "markdown",
   "id": "2bfae294",
   "metadata": {},
   "source": [
    "binary disaggregation criteria"
   ]
  },
  {
   "cell_type": "code",
   "execution_count": null,
   "id": "c4a2b028",
   "metadata": {},
   "outputs": [],
   "source": [
    "# population"
   ]
  },
  {
   "cell_type": "code",
   "execution_count": null,
   "id": "a9ab0ca7",
   "metadata": {},
   "outputs": [],
   "source": [
    "population = pd.read_csv(os.path.join(DATA_PATH, \"population.csv\"))\n",
    "population = population[population[\"region_code\"].str.startswith(\"ES\")]"
   ]
  },
  {
   "cell_type": "code",
   "execution_count": null,
   "id": "69a60146",
   "metadata": {},
   "outputs": [],
   "source": [
    "population = population[[\"region_code\", \"value\"]].copy()\n",
    "population.rename(columns={\"value\": \"population\"}, inplace=True)"
   ]
  },
  {
   "cell_type": "code",
   "execution_count": null,
   "id": "27489dd4",
   "metadata": {},
   "outputs": [],
   "source": [
    "proxy_df = pd.merge(proxy_df, population, on = \"region_code\")"
   ]
  },
  {
   "cell_type": "code",
   "execution_count": null,
   "id": "7e396902",
   "metadata": {},
   "outputs": [],
   "source": [
    "proxy_df['proxy_value'] = proxy_df.apply(lambda row: row['proxy_value'] if row['population'] > 20000 else 0, axis=1) # proxy applies only in municipalities with more than 20000 population"
   ]
  },
  {
   "cell_type": "code",
   "execution_count": null,
   "id": "7184739b",
   "metadata": {},
   "outputs": [],
   "source": [
    "proxy_df[proxy_df[\"proxy_value\"] > 0]"
   ]
  },
  {
   "cell_type": "code",
   "execution_count": null,
   "id": "3eefb7a5",
   "metadata": {},
   "outputs": [],
   "source": [
    "# Air pollution"
   ]
  },
  {
   "cell_type": "code",
   "execution_count": null,
   "id": "ba7bea3f",
   "metadata": {},
   "outputs": [],
   "source": [
    "pm25_limit_value = 20 # µg/m3\n",
    "no2_limit_value = 40 # µg/m3\n",
    "pm10_limit_value = 40 # µg/m3"
   ]
  },
  {
   "cell_type": "code",
   "execution_count": null,
   "id": "103a3ee0",
   "metadata": {},
   "outputs": [],
   "source": [
    "average_air_pollution_due_to_pm25 = pd.read_csv(os.path.join(DATA_PATH, \"average_air_pollution_due_to_pm25.csv\"))\n",
    "average_air_pollution_due_to_pm25 = average_air_pollution_due_to_pm25[average_air_pollution_due_to_pm25[\"region_code\"].str.startswith(\"ES\")]"
   ]
  },
  {
   "cell_type": "code",
   "execution_count": null,
   "id": "88d7aedd",
   "metadata": {},
   "outputs": [],
   "source": [
    "assert len(average_air_pollution_due_to_pm25[average_air_pollution_due_to_pm25[\"value\"] > pm25_limit_value]) == 0 "
   ]
  },
  {
   "cell_type": "code",
   "execution_count": null,
   "id": "03335527",
   "metadata": {},
   "outputs": [],
   "source": [
    "average_air_pollution_due_to_no2 = pd.read_csv(os.path.join(DATA_PATH, \"average_air_pollution_due_to_no2.csv\"))\n",
    "average_air_pollution_due_to_no2 = average_air_pollution_due_to_no2[average_air_pollution_due_to_no2[\"region_code\"].str.startswith(\"ES\")]"
   ]
  },
  {
   "cell_type": "code",
   "execution_count": null,
   "id": "e5b7ba31",
   "metadata": {},
   "outputs": [],
   "source": [
    "assert len(average_air_pollution_due_to_no2[average_air_pollution_due_to_no2[\"value\"] > no2_limit_value]) == 0 "
   ]
  },
  {
   "cell_type": "code",
   "execution_count": null,
   "id": "06191834",
   "metadata": {},
   "outputs": [],
   "source": [
    "average_air_pollution_due_to_pm10 = pd.read_csv(os.path.join(DATA_PATH, \"average_air_pollution_due_to_pm10.csv\"))\n",
    "average_air_pollution_due_to_pm10 = average_air_pollution_due_to_pm10[average_air_pollution_due_to_pm10[\"region_code\"].str.startswith(\"ES\")]"
   ]
  },
  {
   "cell_type": "code",
   "execution_count": null,
   "id": "4e24cd79",
   "metadata": {},
   "outputs": [],
   "source": [
    "assert len(average_air_pollution_due_to_pm10[average_air_pollution_due_to_pm10[\"value\"] > pm10_limit_value]) == 0 "
   ]
  },
  {
   "cell_type": "markdown",
   "id": "c05f204f",
   "metadata": {},
   "source": [
    "Disaggregation"
   ]
  },
  {
   "cell_type": "code",
   "execution_count": null,
   "id": "3f616757",
   "metadata": {},
   "outputs": [],
   "source": [
    "proxy_df[\"share\"] = proxy_df[\"proxy_value\"] / proxy_df[\"proxy_value\"].sum()"
   ]
  },
  {
   "cell_type": "code",
   "execution_count": null,
   "id": "526c2709",
   "metadata": {},
   "outputs": [],
   "source": [
    "proxy_df[\"value\"] = proxy_df[\"share\"] * final_energy_savings"
   ]
  },
  {
   "cell_type": "code",
   "execution_count": null,
   "id": "7665beb8",
   "metadata": {},
   "outputs": [],
   "source": [
    "proxy_df[proxy_df[\"value\"] > 0 ]"
   ]
  },
  {
   "cell_type": "code",
   "execution_count": null,
   "id": "fb7d6bef",
   "metadata": {},
   "outputs": [],
   "source": [
    "final_df = proxy_df[[\"region_code\", \"value\"]].copy()"
   ]
  },
  {
   "cell_type": "code",
   "execution_count": null,
   "id": "9fbcd621",
   "metadata": {},
   "outputs": [],
   "source": [
    "final_df.to_csv(os.path.join(\"..\", \"data\", \"NECP_disaggregation\", \"disaggregated_data\",  f\"FES_M2.1_low_emission_zones.csv\"), index=False)"
   ]
  },
  {
   "cell_type": "code",
   "execution_count": null,
   "id": "5ebe3859",
   "metadata": {},
   "outputs": [],
   "source": []
  }
 ],
 "metadata": {
  "language_info": {
   "name": "python"
  }
 },
 "nbformat": 4,
 "nbformat_minor": 5
}
