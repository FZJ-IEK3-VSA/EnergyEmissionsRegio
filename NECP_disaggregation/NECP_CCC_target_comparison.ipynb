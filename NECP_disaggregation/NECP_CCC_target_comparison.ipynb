{
 "cells": [
  {
   "cell_type": "markdown",
   "id": "1c2161bf",
   "metadata": {},
   "source": [
    "Emissions to FEC Conversion for CCC measure targets"
   ]
  },
  {
   "cell_type": "code",
   "execution_count": null,
   "id": "e1165845",
   "metadata": {},
   "outputs": [],
   "source": [
    "# consumption in 2020 (GWh)\n",
    "total_FEC = 672.2 \n",
    "electricity_FEC = 4.2 \n",
    "natural_gas_FEC = 0  \n",
    "diesel_and_petrol_FEC = 636.5\n",
    "other_FEC = 31.5 # other includes Biofuels contained in diesel and gasoline. "
   ]
  },
  {
   "cell_type": "code",
   "execution_count": null,
   "id": "ed8b29dc",
   "metadata": {},
   "outputs": [],
   "source": [
    "# emissions in 2020 (ktCO2e)\n",
    "total_emissions = 174.8\n",
    "electricity_emissions = 0.6\n",
    "natural_gas_emissions = 0  \n",
    "diesel_and_petrol_emissions = 168.6\n",
    "other_emissions= 5.6 # other includes Biofuels contained in diesel and gasoline. "
   ]
  },
  {
   "cell_type": "code",
   "execution_count": null,
   "id": "c63eb1d3",
   "metadata": {},
   "outputs": [],
   "source": [
    "# emission factors (ktCO2e / GWh)\n",
    "electricity_ef = round(electricity_emissions / electricity_FEC, 3)\n",
    "diesel_and_petrol_ef = round(diesel_and_petrol_emissions / diesel_and_petrol_FEC, 3)\n",
    "other_ef = round(other_emissions / other_FEC, 3)"
   ]
  },
  {
   "cell_type": "code",
   "execution_count": null,
   "id": "437c5d71",
   "metadata": {},
   "outputs": [],
   "source": [
    "# emissions share \n",
    "electricity_emissions_share = (electricity_emissions / total_emissions)\n",
    "diesel_and_petrol_emissions_share = (diesel_and_petrol_emissions / total_emissions)\n",
    "other_emissions_share = (other_emissions / total_emissions) "
   ]
  },
  {
   "cell_type": "code",
   "execution_count": null,
   "id": "7de91142",
   "metadata": {},
   "outputs": [],
   "source": [
    "electricity_emissions_share"
   ]
  },
  {
   "cell_type": "markdown",
   "id": "2e55d781",
   "metadata": {},
   "source": [
    "Low-emission zones"
   ]
  },
  {
   "cell_type": "code",
   "execution_count": null,
   "id": "442d37bd",
   "metadata": {},
   "outputs": [],
   "source": [
    "LEZ_emission_reduction = 32 + 8 + 5 + 21 # ktCO2e\n",
    "# (TR-01, TR-02, TR-03, TR-04, TR-05, TR-06) + (TR-07, TR-08, TR-09) + (TR-10) + (TR-18, TR-19, TR-20)"
   ]
  },
  {
   "cell_type": "code",
   "execution_count": null,
   "id": "dccd1cbc",
   "metadata": {},
   "outputs": [],
   "source": [
    "LEZ_emission_reduction"
   ]
  },
  {
   "cell_type": "code",
   "execution_count": null,
   "id": "e8c7f2cf",
   "metadata": {},
   "outputs": [],
   "source": [
    "LEZ_emission_reduction_electricity = LEZ_emission_reduction * electricity_emissions_share\n",
    "LEZ_emission_reduction_diesel_and_petrol = LEZ_emission_reduction * diesel_and_petrol_emissions_share\n",
    "LEZ_emission_reduction_other = LEZ_emission_reduction * other_emissions_share"
   ]
  },
  {
   "cell_type": "code",
   "execution_count": null,
   "id": "d6737568",
   "metadata": {},
   "outputs": [],
   "source": [
    "# FEC calculation from emissions and emission factors (GWh)\n",
    "LEZ_FEC_reduction_electricity = LEZ_emission_reduction_electricity / electricity_ef\n",
    "LEZ_FEC_reduction_diesel_and_petrol = LEZ_emission_reduction_diesel_and_petrol / diesel_and_petrol_ef\n",
    "LEZ_FEC_reduction_other = LEZ_emission_reduction_other / other_ef"
   ]
  },
  {
   "cell_type": "code",
   "execution_count": null,
   "id": "dc5de16a",
   "metadata": {},
   "outputs": [],
   "source": [
    "LEZ_FEC_reduction_total = LEZ_FEC_reduction_electricity + LEZ_FEC_reduction_diesel_and_petrol + LEZ_FEC_reduction_other"
   ]
  },
  {
   "cell_type": "code",
   "execution_count": null,
   "id": "7b3c33ce",
   "metadata": {},
   "outputs": [],
   "source": [
    "LEZ_FEC_reduction_total_ktoe = LEZ_FEC_reduction_total * 0.08598452"
   ]
  },
  {
   "cell_type": "markdown",
   "id": "52b0f473",
   "metadata": {},
   "source": [
    "Promotion of electric vehicles"
   ]
  },
  {
   "cell_type": "code",
   "execution_count": null,
   "id": "28b09c9e",
   "metadata": {},
   "outputs": [],
   "source": [
    "EV_emission_reduction  = 10 + 9 + 9 \n",
    "# (TR-11, TR-12, TR-13, TR-14, TR-15) + (TR-16, TR-17) + TR-21"
   ]
  },
  {
   "cell_type": "code",
   "execution_count": null,
   "id": "b053915f",
   "metadata": {},
   "outputs": [],
   "source": [
    "EV_emission_reduction_electricity = EV_emission_reduction * electricity_emissions_share\n",
    "EV_emission_reduction_diesel_and_petrol = EV_emission_reduction * diesel_and_petrol_emissions_share\n",
    "EV_emission_reduction_other = EV_emission_reduction * other_emissions_share"
   ]
  },
  {
   "cell_type": "code",
   "execution_count": null,
   "id": "9cd46d0c",
   "metadata": {},
   "outputs": [],
   "source": [
    "# FEC calculation from emissions and emission factors (GWh)\n",
    "EV_FEC_reduction_electricity = EV_emission_reduction_electricity / electricity_ef\n",
    "EV_FEC_reduction_diesel_and_petrol = EV_emission_reduction_diesel_and_petrol / diesel_and_petrol_ef\n",
    "EV_FEC_reduction_other = EV_emission_reduction_other / other_ef"
   ]
  },
  {
   "cell_type": "code",
   "execution_count": null,
   "id": "edd01be8",
   "metadata": {},
   "outputs": [],
   "source": [
    "EV_FEC_reduction_total = EV_FEC_reduction_electricity + EV_FEC_reduction_diesel_and_petrol + EV_FEC_reduction_other"
   ]
  },
  {
   "cell_type": "code",
   "execution_count": null,
   "id": "5c0ec7c5",
   "metadata": {},
   "outputs": [],
   "source": [
    "EV_FEC_reduction_total_ktoe = EV_FEC_reduction_total * 0.08598452"
   ]
  },
  {
   "cell_type": "markdown",
   "id": "58928a3f",
   "metadata": {},
   "source": [
    "Population"
   ]
  },
  {
   "cell_type": "code",
   "execution_count": null,
   "id": "47224a3e",
   "metadata": {},
   "outputs": [],
   "source": [
    "import os\n",
    "import pandas as pd\n",
    "import geopandas as gpd\n",
    "from energyemissionsregio.config import DATA_PATH"
   ]
  },
  {
   "cell_type": "code",
   "execution_count": null,
   "id": "0a175fa2",
   "metadata": {},
   "outputs": [],
   "source": [
    "lau_gdf = gpd.read_file(os.path.join(DATA_PATH, \"..\", \"..\", \"01_raw\", \"LAU_RG_01M_2019_3035.shp\"))"
   ]
  },
  {
   "cell_type": "code",
   "execution_count": null,
   "id": "180f83df",
   "metadata": {},
   "outputs": [],
   "source": [
    "whole_es_pop = lau_gdf[lau_gdf[\"CNTR_CODE\"] == \"ES\"][\"POP_2019\"].sum()"
   ]
  },
  {
   "cell_type": "code",
   "execution_count": null,
   "id": "2e393a21",
   "metadata": {},
   "outputs": [],
   "source": [
    "population_df = pd.read_csv(\n",
    "    os.path.join(DATA_PATH, \"..\", \"..\", \"02_processed\", \"intermediate_population.csv\")\n",
    ")"
   ]
  },
  {
   "cell_type": "code",
   "execution_count": null,
   "id": "e98a1049",
   "metadata": {},
   "outputs": [],
   "source": [
    "es_pop_no_canaries = population_df[population_df[\"code\"].str.startswith(\"ES\")][\"value\"].sum()"
   ]
  },
  {
   "cell_type": "code",
   "execution_count": null,
   "id": "4368e805",
   "metadata": {},
   "outputs": [],
   "source": [
    "(whole_es_pop - es_pop_no_canaries)/ whole_es_pop"
   ]
  },
  {
   "cell_type": "code",
   "execution_count": null,
   "id": "d3f8e3ce",
   "metadata": {},
   "outputs": [],
   "source": [
    "whole_es_pop\n"
   ]
  },
  {
   "cell_type": "code",
   "execution_count": null,
   "id": "2cd8dc6e",
   "metadata": {},
   "outputs": [],
   "source": [
    "import os\n",
    "import matplotlib.pyplot as plt\n",
    "import matplotlib.gridspec as gridspec\n",
    "\n",
    "# Sample data\n",
    "titles = ['Final energy savings from the\\n\"Low-emission zones and\\nsustainable urban mobility\"\\nmeasure', \n",
    "          'Final energy savings from the\\n\"Promotion of electric\\nvehicles\" measure', \n",
    "          'Number of dwellings to be\\nrefurbished under the\\n\"Energy efficiency in existing\\nbuildings in the residential\\nsector\" measure']\n",
    "\n",
    "y_labels = ['(ktoe)', \n",
    "          '(ktoe)', \n",
    "          '(number)']\n",
    "\n",
    "bar_labels = ['NECP disaggregated\\nvalue', 'CCC value']\n",
    "bar_values = [\n",
    "    [105.74, LEZ_FEC_reduction_total_ktoe],\n",
    "    [28.87, EV_FEC_reduction_total_ktoe],\n",
    "    [9721, 2750]\n",
    "]\n",
    "\n",
    "# Colors\n",
    "colors = ['darkorange', 'navy']\n",
    "\n",
    "# Create figure and a GridSpec\n",
    "fig = plt.figure(figsize=(12, 4))\n",
    "gs = gridspec.GridSpec(1, 3, figure=fig, wspace=0.4)\n",
    "\n",
    "# Loop through subplots\n",
    "for i in range(3):\n",
    "    ax = fig.add_subplot(gs[0, i])\n",
    "    bars = ax.bar(bar_labels, bar_values[i], color=colors)\n",
    "    ax.set_title(titles[i])\n",
    "    ax.set_ylabel(y_labels[i])\n",
    "    plt.xticks(rotation=45, ha=\"right\") \n",
    "    ax.yaxis.grid(True, linestyle='--', linewidth=0.5, color='gray', alpha=0.2)  # Light, dashed grid\n",
    "\n",
    "# Show plot\n",
    "plt.tight_layout()\n",
    "\n",
    "plt.savefig(os.path.join(\"..\", \"figures\", \"NECP_disaggregation\", \"target_comparison.png\"),\n",
    "            format='png', bbox_inches=\"tight\", dpi=200)\n",
    "\n",
    "plt.show()\n"
   ]
  },
  {
   "cell_type": "code",
   "execution_count": null,
   "id": "ef1c3cc3",
   "metadata": {},
   "outputs": [],
   "source": []
  }
 ],
 "metadata": {
  "language_info": {
   "name": "python"
  }
 },
 "nbformat": 4,
 "nbformat_minor": 5
}
