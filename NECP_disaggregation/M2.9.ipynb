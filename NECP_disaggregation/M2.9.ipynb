{
 "cells": [
  {
   "cell_type": "markdown",
   "id": "7f5e47b0",
   "metadata": {},
   "source": [
    "RENEWAL OF RESIDENTIAL EQUIPMENT"
   ]
  },
  {
   "cell_type": "code",
   "execution_count": null,
   "id": "38f0578e",
   "metadata": {},
   "outputs": [],
   "source": [
    "import os \n",
    "import pandas as pd"
   ]
  },
  {
   "cell_type": "markdown",
   "id": "7a9b6a91",
   "metadata": {},
   "source": [
    "Proxy"
   ]
  },
  {
   "cell_type": "code",
   "execution_count": null,
   "id": "a4831f28",
   "metadata": {},
   "outputs": [],
   "source": [
    "proxy_df = pd.read_csv(os.path.join(\"..\", \"data\", \"disaggregated_data\", \"FEC\", \"final_energy_consumption_in_households.csv\"))\n",
    "proxy_df = proxy_df[proxy_df[\"region_code\"].str.startswith(\"ES\")]\n",
    "\n",
    "proxy_df[\"share\"] = proxy_df[\"value\"] / proxy_df[\"value\"].sum()"
   ]
  },
  {
   "cell_type": "markdown",
   "id": "126e2c26",
   "metadata": {},
   "source": [
    "Final energy savings"
   ]
  },
  {
   "cell_type": "code",
   "execution_count": null,
   "id": "1d922d2a",
   "metadata": {},
   "outputs": [],
   "source": [
    "final_energy_savings = 1745 #ktoe"
   ]
  },
  {
   "cell_type": "code",
   "execution_count": null,
   "id": "3b626e22",
   "metadata": {},
   "outputs": [],
   "source": [
    "proxy_df[\"value\"] = proxy_df[\"share\"] * final_energy_savings"
   ]
  },
  {
   "cell_type": "code",
   "execution_count": null,
   "id": "b92734ae",
   "metadata": {},
   "outputs": [],
   "source": [
    "final_df = proxy_df[[\"region_code\", \"value\"]].copy()\n",
    "\n",
    "final_df.to_csv(os.path.join(\"..\", \"data\", \"NECP_disaggregation\", \"disaggregated_data\",  \"FES_M2.9_residential_equipment.csv\"), index=False)"
   ]
  },
  {
   "cell_type": "markdown",
   "id": "da634f05",
   "metadata": {},
   "source": [
    "Number of appliances of high energy efficiency to be penetrated"
   ]
  },
  {
   "cell_type": "code",
   "execution_count": null,
   "id": "eb8dc475",
   "metadata": {},
   "outputs": [],
   "source": [
    "number_of_appliances = 24430000"
   ]
  },
  {
   "cell_type": "code",
   "execution_count": null,
   "id": "959d2334",
   "metadata": {},
   "outputs": [],
   "source": [
    "proxy_df[\"value\"] = proxy_df[\"share\"] * number_of_appliances"
   ]
  },
  {
   "cell_type": "code",
   "execution_count": null,
   "id": "b171b0a2",
   "metadata": {},
   "outputs": [],
   "source": [
    "proxy_df[\"value\"] = proxy_df[\"value\"].astype(int) # number of appliances should be int"
   ]
  },
  {
   "cell_type": "code",
   "execution_count": null,
   "id": "2c0e74fb",
   "metadata": {},
   "outputs": [],
   "source": [
    "proxy_df[\"value\"].sum() # value is slightly lower than original value due to int conversion"
   ]
  },
  {
   "cell_type": "code",
   "execution_count": null,
   "id": "5ed56752",
   "metadata": {},
   "outputs": [],
   "source": [
    "final_df = proxy_df[[\"region_code\", \"value\"]].copy()\n",
    "\n",
    "final_df.to_csv(os.path.join(\"..\", \"data\", \"NECP_disaggregation\", \"disaggregated_data\",  f\"M2.9_number_of_appliances.csv\"), index=False)"
   ]
  },
  {
   "cell_type": "code",
   "execution_count": null,
   "id": "f616c050",
   "metadata": {},
   "outputs": [],
   "source": []
  }
 ],
 "metadata": {
  "language_info": {
   "name": "python"
  }
 },
 "nbformat": 4,
 "nbformat_minor": 5
}
