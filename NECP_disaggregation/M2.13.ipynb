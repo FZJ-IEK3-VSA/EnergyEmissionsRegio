{
 "cells": [
  {
   "cell_type": "markdown",
   "id": "7f5e47b0",
   "metadata": {},
   "source": [
    "ENERGY EFFICIENCY IN COLD GENERATING EQUIPMENT AND LARGE AIR-CONDITIONING OF THE TERTIARY SECTOR AND PUBLIC INFRASTRUCTURE"
   ]
  },
  {
   "cell_type": "code",
   "execution_count": null,
   "id": "38f0578e",
   "metadata": {},
   "outputs": [],
   "source": [
    "import os \n",
    "import pandas as pd"
   ]
  },
  {
   "cell_type": "markdown",
   "id": "7a9b6a91",
   "metadata": {},
   "source": [
    "Proxy"
   ]
  },
  {
   "cell_type": "code",
   "execution_count": null,
   "id": "a4831f28",
   "metadata": {},
   "outputs": [],
   "source": [
    "proxy_df = pd.read_csv(os.path.join(\"..\", \"data\", \"disaggregated_data\", \"FEC\", \"final_energy_consumption_in_commerce.csv\"))\n",
    "proxy_df = proxy_df[proxy_df[\"region_code\"].str.startswith(\"ES\")]\n",
    "\n",
    "proxy_df[\"share\"] = proxy_df[\"value\"] / proxy_df[\"value\"].sum()"
   ]
  },
  {
   "cell_type": "markdown",
   "id": "126e2c26",
   "metadata": {},
   "source": [
    "Final energy savings"
   ]
  },
  {
   "cell_type": "code",
   "execution_count": null,
   "id": "1d922d2a",
   "metadata": {},
   "outputs": [],
   "source": [
    "final_energy_savings = 4388.7 #ktoe"
   ]
  },
  {
   "cell_type": "code",
   "execution_count": null,
   "id": "3b626e22",
   "metadata": {},
   "outputs": [],
   "source": [
    "proxy_df[\"value\"] = proxy_df[\"share\"] * final_energy_savings"
   ]
  },
  {
   "cell_type": "code",
   "execution_count": null,
   "id": "b92734ae",
   "metadata": {},
   "outputs": [],
   "source": [
    "final_df = proxy_df[[\"region_code\", \"value\"]].copy()\n",
    "\n",
    "final_df.to_csv(os.path.join(\"..\", \"data\", \"NECP_disaggregation\", \"disaggregated_data\", \"FES_M2.13_cold_and_heat_generation_in_commerce.csv\"), index=False)"
   ]
  },
  {
   "cell_type": "code",
   "execution_count": null,
   "id": "86f55db9",
   "metadata": {},
   "outputs": [],
   "source": []
  }
 ],
 "metadata": {
  "language_info": {
   "name": "python"
  }
 },
 "nbformat": 4,
 "nbformat_minor": 5
}
