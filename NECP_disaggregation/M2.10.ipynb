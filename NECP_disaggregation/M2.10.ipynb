{
 "cells": [
  {
   "cell_type": "markdown",
   "id": "4d07c3f8",
   "metadata": {},
   "source": [
    "DISTRICT HEATING AND COOLING NETWORKS IN THE RESIDENTIAL SECTOR"
   ]
  },
  {
   "cell_type": "code",
   "execution_count": null,
   "id": "2575683e",
   "metadata": {},
   "outputs": [],
   "source": [
    "import os \n",
    "import pandas as pd\n",
    "import geopandas as gpd\n",
    "from energyemissionsregio.config import DATA_PATH\n",
    "from energyemissionsregio.disaggregation import distribute_data_equally\n",
    "from energyemissionsregio.utils import solve_proxy_equation"
   ]
  },
  {
   "cell_type": "code",
   "execution_count": null,
   "id": "8728e932",
   "metadata": {},
   "outputs": [],
   "source": [
    "final_energy_savings = 599 #ktoe"
   ]
  },
  {
   "cell_type": "markdown",
   "id": "b5f3e12a",
   "metadata": {},
   "source": [
    "proxy"
   ]
  },
  {
   "cell_type": "code",
   "execution_count": null,
   "id": "8d0fd911",
   "metadata": {},
   "outputs": [],
   "source": [
    "proxies = [\"final_energy_consumption_in_machinery_industries\",\n",
    "        \"final_energy_consumption_in_food_beverages_and_tobacco_industries\",\n",
    "        \"final_energy_consumption_in_transport_equipment_industries\",\n",
    "        \"final_energy_consumption_in_construction\",\n",
    "        \"final_energy_consumption_in_textile_and_leather_industries\",\n",
    "        \"final_energy_consumption_in_households\"]\n",
    "\n",
    "proxy_data_dict = {}\n",
    "\n",
    "for proxy in proxies:\n",
    "    proxy_data = pd.read_csv(os.path.join(\"..\", \"data\", \"disaggregated_data\", \"FEC\", f\"{proxy}.csv\"))\n",
    "    proxy_data = proxy_data[proxy_data[\"region_code\"].str.startswith(\"ES\")].copy()\n",
    "    proxy_data[\"value_confidence_level\"] = 5 # VERY HIGH\n",
    "    proxy_data_dict[proxy] = proxy_data"
   ]
  },
  {
   "cell_type": "code",
   "execution_count": null,
   "id": "59e46112",
   "metadata": {},
   "outputs": [],
   "source": [
    "var_name = \"cproj_annual_mean_temperature_cooling_degree_days\""
   ]
  },
  {
   "cell_type": "code",
   "execution_count": null,
   "id": "68f292dc",
   "metadata": {},
   "outputs": [],
   "source": [
    "proxy_data = pd.read_csv(os.path.join(DATA_PATH, \"..\", \"climate_projections\", \"ES\", var_name, \"2020.csv\"))\n",
    "proxy_data = proxy_data[proxy_data[\"climate_experiment\"] == \"RCP4.5\"].copy()\n",
    "\n",
    "proxy_data.drop(columns=\"climate_experiment\", inplace=True)\n"
   ]
  },
  {
   "cell_type": "code",
   "execution_count": null,
   "id": "12a4cdba",
   "metadata": {},
   "outputs": [],
   "source": [
    "target_var = \"cproj_annual_mean_temperature_cooling_degree_days\"\n",
    "\n",
    "target_data = pd.read_csv(os.path.join(DATA_PATH, \"..\", \"climate_projections\", \"ES\", target_var, \"2020.csv\"))\n",
    "target_data = target_data[target_data[\"climate_experiment\"] == \"RCP4.5\"].copy()\n",
    "\n",
    "target_data.drop(columns=\"climate_experiment\", inplace=True)\n",
    "\n",
    "target_data[\"value_confidence_level\"] = 5"
   ]
  },
  {
   "cell_type": "code",
   "execution_count": null,
   "id": "b4b6cd82",
   "metadata": {},
   "outputs": [],
   "source": [
    "regions_gdf = gpd.read_file(os.path.join(DATA_PATH, \"..\", \"..\", \"02_processed\", \"shapefiles\", \"LAU.shp\"))\n",
    "lau_regions = regions_gdf[regions_gdf[\"code\"].str.startswith(\"ES\")][[\"code\"]].copy()"
   ]
  },
  {
   "cell_type": "code",
   "execution_count": null,
   "id": "fd615fd1",
   "metadata": {},
   "outputs": [],
   "source": [
    "proxy_confidence_level = 3"
   ]
  },
  {
   "cell_type": "code",
   "execution_count": null,
   "id": "4f1a5310",
   "metadata": {},
   "outputs": [],
   "source": [
    "disagg_data = distribute_data_equally(target_data, \"NUTS3\", lau_regions, proxy_confidence_level)"
   ]
  },
  {
   "cell_type": "code",
   "execution_count": null,
   "id": "456f93c6",
   "metadata": {},
   "outputs": [],
   "source": [
    "disagg_data"
   ]
  },
  {
   "cell_type": "code",
   "execution_count": null,
   "id": "165a401a",
   "metadata": {},
   "outputs": [],
   "source": [
    "proxy_data_dict[\"cooling_degree_days\"] = disagg_data"
   ]
  },
  {
   "cell_type": "code",
   "execution_count": null,
   "id": "c9315e3e",
   "metadata": {},
   "outputs": [],
   "source": [
    "proxy_data_dict[\"cooling_degree_days\"] "
   ]
  },
  {
   "cell_type": "code",
   "execution_count": null,
   "id": "53ec8681",
   "metadata": {},
   "outputs": [],
   "source": [
    "proxy_equation = \"\"\"final_energy_consumption_in_machinery_industries +  final_energy_consumption_in_food_beverages_and_tobacco_industries + final_energy_consumption_in_transport_equipment_industries + final_energy_consumption_in_construction + final_energy_consumption_in_textile_and_leather_industries + (final_energy_consumption_in_households * cooling_degree_days)\"\"\"\n",
    "\n",
    "proxy_df = solve_proxy_equation(proxy_equation, proxy_data_dict)"
   ]
  },
  {
   "cell_type": "code",
   "execution_count": null,
   "id": "45cf9e7a",
   "metadata": {},
   "outputs": [],
   "source": [
    "proxy_df"
   ]
  },
  {
   "cell_type": "markdown",
   "id": "189e0cb2",
   "metadata": {},
   "source": [
    "binary disaggregation criteria"
   ]
  },
  {
   "cell_type": "code",
   "execution_count": null,
   "id": "3e1aa08e",
   "metadata": {},
   "outputs": [],
   "source": [
    "population = pd.read_csv(os.path.join(DATA_PATH, \"population.csv\"))\n",
    "population = population[population[\"region_code\"].str.startswith(\"ES\")]"
   ]
  },
  {
   "cell_type": "code",
   "execution_count": null,
   "id": "33281e98",
   "metadata": {},
   "outputs": [],
   "source": [
    "population = population[[\"region_code\", \"value\"]].copy()\n",
    "population.rename(columns={\"value\": \"population\"}, inplace=True)"
   ]
  },
  {
   "cell_type": "code",
   "execution_count": null,
   "id": "fa9d9f26",
   "metadata": {},
   "outputs": [],
   "source": [
    "proxy_df = pd.merge(proxy_df, population, on = \"region_code\")"
   ]
  },
  {
   "cell_type": "code",
   "execution_count": null,
   "id": "cb51ed45",
   "metadata": {},
   "outputs": [],
   "source": [
    "proxy_df['value'] = proxy_df.apply(lambda row: row['value'] if row['population'] > 45000 else 0, axis=1) "
   ]
  },
  {
   "cell_type": "code",
   "execution_count": null,
   "id": "a742c3b6",
   "metadata": {},
   "outputs": [],
   "source": [
    "proxy_df[proxy_df[\"value\"] > 0]"
   ]
  },
  {
   "cell_type": "markdown",
   "id": "8221cb15",
   "metadata": {},
   "source": [
    "Disaggregation"
   ]
  },
  {
   "cell_type": "code",
   "execution_count": null,
   "id": "9d415015",
   "metadata": {},
   "outputs": [],
   "source": [
    "proxy_df[\"share\"] = proxy_df[\"value\"] / proxy_df[\"value\"].sum()\n",
    "\n",
    "proxy_df[\"value\"] = proxy_df[\"share\"] * final_energy_savings"
   ]
  },
  {
   "cell_type": "code",
   "execution_count": null,
   "id": "e086462e",
   "metadata": {},
   "outputs": [],
   "source": [
    "final_df = proxy_df[[\"region_code\", \"value\"]].copy()"
   ]
  },
  {
   "cell_type": "code",
   "execution_count": null,
   "id": "fcb6e8c0",
   "metadata": {},
   "outputs": [],
   "source": [
    "final_df.to_csv(os.path.join(\"..\", \"data\", \"NECP_disaggregation\", \"disaggregated_data\",  \"FES_M2.10_district_heating_and_cooling.csv\"), index=False)"
   ]
  },
  {
   "cell_type": "code",
   "execution_count": null,
   "id": "f00550af",
   "metadata": {},
   "outputs": [],
   "source": []
  }
 ],
 "metadata": {
  "language_info": {
   "name": "python"
  }
 },
 "nbformat": 4,
 "nbformat_minor": 5
}
