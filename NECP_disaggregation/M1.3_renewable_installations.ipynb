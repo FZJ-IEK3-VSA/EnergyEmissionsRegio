{
 "cells": [
  {
   "cell_type": "code",
   "execution_count": null,
   "id": "4945193a",
   "metadata": {},
   "outputs": [],
   "source": [
    "import os \n",
    "import pandas as pd\n",
    "import geopandas as gpd\n",
    "from energyemissionsregio.config import SHP_PATH, DATA_PATH\n",
    "from energyemissionsregio.disaggregation import perform_proxy_based_disaggregation\n",
    "from energyemissionsregio.utils import solve_proxy_equation"
   ]
  },
  {
   "cell_type": "code",
   "execution_count": null,
   "id": "f0d79813",
   "metadata": {},
   "outputs": [],
   "source": [
    "# Minimum capacities (MW), cumulative increase since 2020\n",
    "planned_capacity_wind = 10000\n",
    "planned_capacity_photovoltaic = 11800\n",
    "planned_capacity_solar_thermoelectric = 600\n",
    "planned_capacity_biomass = 380\n",
    "planned_capacity_other = 60 # includes biogas, hydraulic, tidal, etc. "
   ]
  },
  {
   "cell_type": "markdown",
   "id": "7f0f03cb",
   "metadata": {},
   "source": [
    "### Onshore wind"
   ]
  },
  {
   "cell_type": "code",
   "execution_count": null,
   "id": "19ff8b23",
   "metadata": {},
   "outputs": [],
   "source": [
    "wind_potential = pd.read_csv(os.path.join(\"..\", \"data\", \"NECP_disaggregation\", \"proxies\", \"onshore_wind_potential.csv\"))\n"
   ]
  },
  {
   "cell_type": "code",
   "execution_count": null,
   "id": "8fc1aeee",
   "metadata": {},
   "outputs": [],
   "source": [
    "\n",
    "wind_potential[\"value\"] = (wind_potential[\"_sum\"] / wind_potential[\"_sum\"].sum())\n",
    "wind_potential[\"value\"]  = wind_potential[\"value\"] * planned_capacity_wind\n",
    "\n",
    "final_df = wind_potential[[\"code\", \"value\"]].copy()\n",
    "final_df.rename(columns={\"code\": \"region_code\"}, inplace=True)\n",
    "\n",
    "final_df.to_csv(os.path.join(\"..\", \"data\", \"NECP_disaggregation\", \"disaggregated_data\",  f\"planned_capacity_wind.csv\"), index=False)"
   ]
  },
  {
   "cell_type": "markdown",
   "id": "7105afa3",
   "metadata": {},
   "source": [
    "### Photovoltaic"
   ]
  },
  {
   "cell_type": "code",
   "execution_count": null,
   "id": "93c1e308",
   "metadata": {},
   "outputs": [],
   "source": [
    "solar_potential = pd.read_csv(os.path.join(\"..\", \"data\", \"NECP_disaggregation\", \"proxies\", \"open_field_solar_thermal_potential.csv\"))"
   ]
  },
  {
   "cell_type": "code",
   "execution_count": null,
   "id": "92bec5fd",
   "metadata": {},
   "outputs": [],
   "source": [
    "solar_potential[\"value\"] = (solar_potential[\"_sum\"] / solar_potential[\"_sum\"].sum())\n",
    "solar_potential[\"value\"]  = solar_potential[\"value\"] * planned_capacity_photovoltaic\n",
    "\n",
    "final_df = solar_potential[[\"code\", \"value\"]].copy()\n",
    "final_df.rename(columns={\"code\": \"region_code\"}, inplace=True)\n",
    "\n",
    "final_df.to_csv(os.path.join(\"..\", \"data\", \"NECP_disaggregation\", \"disaggregated_data\",  f\"planned_capacity_photovoltaic.csv\"), index=False)"
   ]
  },
  {
   "cell_type": "markdown",
   "id": "93c04b02",
   "metadata": {},
   "source": [
    "### Solar thermoelectric"
   ]
  },
  {
   "cell_type": "code",
   "execution_count": null,
   "id": "20fc22e9",
   "metadata": {},
   "outputs": [],
   "source": [
    "solar_potential[\"value\"] = (solar_potential[\"_sum\"] / solar_potential[\"_sum\"].sum())\n",
    "solar_potential[\"value\"]  = solar_potential[\"value\"] * planned_capacity_solar_thermoelectric\n",
    "\n",
    "final_df = solar_potential[[\"code\", \"value\"]].copy()\n",
    "final_df.rename(columns={\"code\": \"region_code\"}, inplace=True)\n",
    "\n",
    "final_df.to_csv(os.path.join(\"..\", \"data\", \"NECP_disaggregation\", \"disaggregated_data\",  f\"planned_capacity_solar_thermoelectric.csv\"), index=False)"
   ]
  },
  {
   "cell_type": "markdown",
   "id": "1e554ecb",
   "metadata": {},
   "source": [
    "### Biomass"
   ]
  },
  {
   "cell_type": "code",
   "execution_count": null,
   "id": "860fdeac",
   "metadata": {},
   "outputs": [],
   "source": [
    "nuts3_shp = gpd.read_file(os.path.join(SHP_PATH, \"NUTS3.shp\"))\n",
    "nuts3_shp = nuts3_shp[nuts3_shp[\"code\"].str.startswith(\"ES\")].copy()"
   ]
  },
  {
   "cell_type": "markdown",
   "id": "4c537e6f",
   "metadata": {},
   "source": [
    "Agricultural residues"
   ]
  },
  {
   "cell_type": "code",
   "execution_count": null,
   "id": "0b307c7b",
   "metadata": {},
   "outputs": [],
   "source": [
    "# get agricultural biomass potential, which is at NUTS3 level \n",
    "agr_biomass_potential = pd.read_csv(os.path.join(\"..\", \"data\", \"NECP_disaggregation\", \"proxies\", \"agricultural_residues.csv\"))"
   ]
  },
  {
   "cell_type": "code",
   "execution_count": null,
   "id": "ccc97d4d",
   "metadata": {},
   "outputs": [],
   "source": [
    "agr_biomass_potential[agr_biomass_potential[\"code\"].str.startswith(\"ES\")][\"value\"].isna().any()"
   ]
  },
  {
   "cell_type": "code",
   "execution_count": null,
   "id": "c0510677",
   "metadata": {},
   "outputs": [],
   "source": [
    "agr_biomass_potential = agr_biomass_potential[agr_biomass_potential[\"code\"].str.startswith(\"ES\")][[\"code\", \"value\"]].copy()"
   ]
  },
  {
   "cell_type": "code",
   "execution_count": null,
   "id": "74c70b29",
   "metadata": {},
   "outputs": [],
   "source": [
    "agr_biomass_potential = agr_biomass_potential.groupby(\"code\").sum().reset_index()"
   ]
  },
  {
   "cell_type": "code",
   "execution_count": null,
   "id": "101e21fb",
   "metadata": {},
   "outputs": [],
   "source": [
    "# ensuring no NAs in the data\n",
    "final_df_agr = pd.merge(nuts3_shp, agr_biomass_potential, on=\"code\", how=\"left\")\n",
    "final_df_agr.isna().any()"
   ]
  },
  {
   "cell_type": "code",
   "execution_count": null,
   "id": "e1a860a0",
   "metadata": {},
   "outputs": [],
   "source": [
    "final_df_agr = final_df_agr[[\"code\", \"value\"]].copy()\n",
    "final_df_agr.rename(columns={\"code\": \"region_code\"}, inplace=True)\n",
    "final_df_agr[\"value_confidence_level\"] = 5 # VERY HIGH"
   ]
  },
  {
   "cell_type": "code",
   "execution_count": null,
   "id": "2f379e7a",
   "metadata": {},
   "outputs": [],
   "source": [
    "# disaggregate to LAU \n",
    "proxy_data = pd.read_csv(os.path.join(\"..\", \"data\", \"imputed_data\", \"es_utilized_agricultural_area.csv\"))"
   ]
  },
  {
   "cell_type": "code",
   "execution_count": null,
   "id": "870650a5",
   "metadata": {},
   "outputs": [],
   "source": [
    "proxy_data = proxy_data[proxy_data[\"region_code\"].str.startswith(\"ES\")].copy()"
   ]
  },
  {
   "cell_type": "code",
   "execution_count": null,
   "id": "475801c4",
   "metadata": {},
   "outputs": [],
   "source": [
    "final_df_agr_lau = perform_proxy_based_disaggregation(final_df_agr, proxy_data, source_resolution=\"NUTS3\", proxy_confidence_level=4)\n"
   ]
  },
  {
   "cell_type": "code",
   "execution_count": null,
   "id": "c51aa97a",
   "metadata": {},
   "outputs": [],
   "source": [
    "final_df_agr_lau"
   ]
  },
  {
   "cell_type": "markdown",
   "id": "a4b1bfae",
   "metadata": {},
   "source": [
    "Forest residues"
   ]
  },
  {
   "cell_type": "code",
   "execution_count": null,
   "id": "c738d010",
   "metadata": {},
   "outputs": [],
   "source": [
    "# get forest biomass potential, which is at NUTS3 level \n",
    "fst_biomass_potential = pd.read_csv(os.path.join(\"..\", \"data\", \"NECP_disaggregation\", \"proxies\", \"forest_residues.csv\"))"
   ]
  },
  {
   "cell_type": "code",
   "execution_count": null,
   "id": "0dc6f177",
   "metadata": {},
   "outputs": [],
   "source": [
    "fst_biomass_potential[\"source\"].unique()"
   ]
  },
  {
   "cell_type": "code",
   "execution_count": null,
   "id": "922b0f4e",
   "metadata": {},
   "outputs": [],
   "source": [
    "fst_biomass_potential[fst_biomass_potential[\"code\"].str.startswith(\"ES\")][\"value\"].isna().any()"
   ]
  },
  {
   "cell_type": "code",
   "execution_count": null,
   "id": "6a97ed59",
   "metadata": {},
   "outputs": [],
   "source": [
    "fst_biomass_potential = fst_biomass_potential[fst_biomass_potential[\"code\"].str.startswith(\"ES\")][[\"code\", \"value\"]].copy()"
   ]
  },
  {
   "cell_type": "code",
   "execution_count": null,
   "id": "207844d2",
   "metadata": {},
   "outputs": [],
   "source": [
    "# ensuring no NAs in the data\n",
    "final_df_fst = pd.merge(nuts3_shp, fst_biomass_potential, on=\"code\", how=\"left\")\n",
    "final_df_fst.isna().any()"
   ]
  },
  {
   "cell_type": "code",
   "execution_count": null,
   "id": "22e18a55",
   "metadata": {},
   "outputs": [],
   "source": [
    "final_df_fst = final_df_fst[[\"code\", \"value\"]].copy()\n",
    "final_df_fst.rename(columns={\"code\": \"region_code\"}, inplace=True)\n",
    "\n",
    "final_df_fst[\"value_confidence_level\"] = 5 # VERY HIGH"
   ]
  },
  {
   "cell_type": "code",
   "execution_count": null,
   "id": "a389c7a3",
   "metadata": {},
   "outputs": [],
   "source": [
    "# disaggregate to LAU \n",
    "proxies = [\"broad_leaved_forest_cover\", \"coniferous_forest_cover\", \"mixed_forest_cover\", \"natural_grasslands_cover\", \"moors_and_heathland_cover\", \"sclerophyllous_vegetation_cover\", \"transitional_woodland_shrub_cover\"]\n",
    "proxy_data_dict = {}\n",
    "for proxy in proxies:\n",
    "    proxy_data = pd.read_csv(os.path.join(DATA_PATH, f\"{proxy}.csv\"))\n",
    "    proxy_data = proxy_data[proxy_data[\"region_code\"].str.startswith(\"ES\")][[\"region_code\", \"value\"]].copy()\n",
    "    proxy_data[\"value_confidence_level\"] = 5 # VERY HIGH\n",
    "    proxy_data_dict[proxy] = proxy_data"
   ]
  },
  {
   "cell_type": "code",
   "execution_count": null,
   "id": "d3e1711f",
   "metadata": {},
   "outputs": [],
   "source": [
    "proxy_equation = \"broad_leaved_forest_cover + coniferous_forest_cover + mixed_forest_cover + natural_grasslands_cover + moors_and_heathland_cover + sclerophyllous_vegetation_cover + transitional_woodland_shrub_cover\"\n",
    "solved_proxy_df = solve_proxy_equation(proxy_equation, proxy_data_dict)"
   ]
  },
  {
   "cell_type": "code",
   "execution_count": null,
   "id": "2e837db4",
   "metadata": {},
   "outputs": [],
   "source": [
    "solved_proxy_df"
   ]
  },
  {
   "cell_type": "code",
   "execution_count": null,
   "id": "f3e5c316",
   "metadata": {},
   "outputs": [],
   "source": [
    "final_df_fst_lau = perform_proxy_based_disaggregation(final_df_fst, solved_proxy_df, source_resolution=\"NUTS3\", proxy_confidence_level=4)"
   ]
  },
  {
   "cell_type": "code",
   "execution_count": null,
   "id": "74bd4a1a",
   "metadata": {},
   "outputs": [],
   "source": [
    "final_df_fst_lau[\"value\"].sum()"
   ]
  },
  {
   "cell_type": "markdown",
   "id": "f306cbc7",
   "metadata": {},
   "source": [
    "disaggregated NECP biomass potential"
   ]
  },
  {
   "cell_type": "code",
   "execution_count": null,
   "id": "3e836617",
   "metadata": {},
   "outputs": [],
   "source": [
    "biomass_potential = pd.merge(final_df_agr_lau, final_df_fst_lau, on=\"region_code\")"
   ]
  },
  {
   "cell_type": "code",
   "execution_count": null,
   "id": "31f49df4",
   "metadata": {},
   "outputs": [],
   "source": [
    "biomass_potential[\"value\"] = biomass_potential[\"value_x\"] + biomass_potential[\"value_y\"] "
   ]
  },
  {
   "cell_type": "code",
   "execution_count": null,
   "id": "7ee00ab8",
   "metadata": {},
   "outputs": [],
   "source": [
    "biomass_potential[\"share\"] = (biomass_potential[\"value\"] / biomass_potential[\"value\"].sum())\n",
    "biomass_potential[\"value\"]  = biomass_potential[\"share\"] * planned_capacity_biomass\n",
    "\n",
    "final_df = biomass_potential[[\"region_code\", \"value\"]].copy()\n",
    "\n",
    "final_df.to_csv(os.path.join(\"..\", \"data\", \"NECP_disaggregation\", \"disaggregated_data\",  f\"planned_capacity_biomass.csv\"), index=False)"
   ]
  },
  {
   "cell_type": "markdown",
   "id": "f75b2d88",
   "metadata": {},
   "source": [
    "### Other"
   ]
  },
  {
   "cell_type": "code",
   "execution_count": null,
   "id": "4c8c7905",
   "metadata": {},
   "outputs": [],
   "source": [
    "population = pd.read_csv(os.path.join(DATA_PATH, \"population.csv\"))\n",
    "population = population[population[\"region_code\"].str.startswith(\"ES\")]"
   ]
  },
  {
   "cell_type": "code",
   "execution_count": null,
   "id": "194844aa",
   "metadata": {},
   "outputs": [],
   "source": [
    "population"
   ]
  },
  {
   "cell_type": "code",
   "execution_count": null,
   "id": "d8b00899",
   "metadata": {},
   "outputs": [],
   "source": [
    "population[\"share\"] = (population[\"value\"] / population[\"value\"].sum())\n",
    "population[\"value\"]  = population[\"share\"] * planned_capacity_other\n",
    "\n",
    "final_df = population[[\"region_code\", \"value\"]].copy()\n",
    "\n",
    "final_df.to_csv(os.path.join(\"..\", \"data\", \"NECP_disaggregation\", \"disaggregated_data\",  f\"planned_capacity_other_renewables.csv\"), index=False)"
   ]
  },
  {
   "cell_type": "code",
   "execution_count": null,
   "id": "bad48cb9",
   "metadata": {},
   "outputs": [],
   "source": []
  }
 ],
 "metadata": {
  "language_info": {
   "name": "python"
  }
 },
 "nbformat": 4,
 "nbformat_minor": 5
}
