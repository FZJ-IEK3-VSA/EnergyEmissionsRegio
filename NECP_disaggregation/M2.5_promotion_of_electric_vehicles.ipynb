{
 "cells": [
  {
   "cell_type": "code",
   "execution_count": null,
   "id": "be63863e",
   "metadata": {},
   "outputs": [],
   "source": [
    "import os \n",
    "import pandas as pd"
   ]
  },
  {
   "cell_type": "markdown",
   "id": "b2c9be96",
   "metadata": {},
   "source": [
    "Proxy"
   ]
  },
  {
   "cell_type": "code",
   "execution_count": null,
   "id": "298e5998",
   "metadata": {},
   "outputs": [],
   "source": [
    "proxy_df = pd.read_csv(os.path.join(\"..\", \"data\", \"disaggregated_data\", \"FEC\", \"final_energy_consumption_in_road_transport.csv\"))\n",
    "proxy_df = proxy_df[proxy_df[\"region_code\"].str.startswith(\"ES\")]\n",
    "\n",
    "proxy_df[\"share\"] = proxy_df[\"value\"] / proxy_df[\"value\"].sum()"
   ]
  },
  {
   "cell_type": "markdown",
   "id": "b143b65b",
   "metadata": {},
   "source": [
    "Final energy savings"
   ]
  },
  {
   "cell_type": "code",
   "execution_count": null,
   "id": "9575c3e1",
   "metadata": {},
   "outputs": [],
   "source": [
    "final_energy_savings = 3841.2 #ktoe"
   ]
  },
  {
   "cell_type": "code",
   "execution_count": null,
   "id": "35f207bd",
   "metadata": {},
   "outputs": [],
   "source": [
    "proxy_df[\"value\"] = proxy_df[\"share\"] * final_energy_savings"
   ]
  },
  {
   "cell_type": "code",
   "execution_count": null,
   "id": "714f53f2",
   "metadata": {},
   "outputs": [],
   "source": [
    "final_df = proxy_df[[\"region_code\", \"value\"]].copy()\n",
    "\n",
    "final_df.to_csv(os.path.join(\"..\", \"data\", \"NECP_disaggregation\", \"disaggregated_data\",  f\"FES_M2.5_promotion_of_electric_vehicles.csv\"), index=False)"
   ]
  },
  {
   "cell_type": "markdown",
   "id": "287c3978",
   "metadata": {},
   "source": [
    "### Number of electric vehicles (cars, vans, buses and motorcycles)"
   ]
  },
  {
   "cell_type": "code",
   "execution_count": null,
   "id": "f4032359",
   "metadata": {},
   "outputs": [],
   "source": [
    "number_of_evs = 5450000"
   ]
  },
  {
   "cell_type": "code",
   "execution_count": null,
   "id": "d3f43220",
   "metadata": {},
   "outputs": [],
   "source": [
    "proxy_df[\"value\"] = proxy_df[\"share\"] * number_of_evs"
   ]
  },
  {
   "cell_type": "code",
   "execution_count": null,
   "id": "baf08f1c",
   "metadata": {},
   "outputs": [],
   "source": [
    "proxy_df[\"value\"] = proxy_df[\"value\"].astype(int) # number of vehicles should be int"
   ]
  },
  {
   "cell_type": "code",
   "execution_count": null,
   "id": "a0cced62",
   "metadata": {},
   "outputs": [],
   "source": [
    "proxy_df[\"value\"].sum() # value is slightly lower than original value due to int conversion"
   ]
  },
  {
   "cell_type": "code",
   "execution_count": null,
   "id": "bf985cc5",
   "metadata": {},
   "outputs": [],
   "source": [
    "final_df = proxy_df[[\"region_code\", \"value\"]].copy()\n",
    "\n",
    "final_df.to_csv(os.path.join(\"..\", \"data\", \"NECP_disaggregation\", \"disaggregated_data\",  \"M2.5_number_of_electric_vehicles.csv\"), index=False)"
   ]
  },
  {
   "cell_type": "code",
   "execution_count": null,
   "id": "1ffcef27",
   "metadata": {},
   "outputs": [],
   "source": []
  }
 ],
 "metadata": {
  "language_info": {
   "name": "python"
  }
 },
 "nbformat": 4,
 "nbformat_minor": 5
}
