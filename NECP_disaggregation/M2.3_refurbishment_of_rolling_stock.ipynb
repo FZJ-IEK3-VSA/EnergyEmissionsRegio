{
 "cells": [
  {
   "cell_type": "code",
   "execution_count": null,
   "id": "5700495c",
   "metadata": {},
   "outputs": [],
   "source": [
    "import os \n",
    "import pandas as pd"
   ]
  },
  {
   "cell_type": "code",
   "execution_count": null,
   "id": "6065a1b0",
   "metadata": {},
   "outputs": [],
   "source": [
    "final_energy_savings = 3105 #ktoe"
   ]
  },
  {
   "cell_type": "markdown",
   "id": "856aa317",
   "metadata": {},
   "source": [
    "proxies"
   ]
  },
  {
   "cell_type": "code",
   "execution_count": null,
   "id": "70632607",
   "metadata": {},
   "outputs": [],
   "source": [
    "proxy_df_1 = pd.read_csv(os.path.join(\"..\", \"data\", \"disaggregated_data\", \"FEC\", \"final_energy_consumption_in_road_transport.csv\"))\n",
    "proxy_df_1 = proxy_df_1[proxy_df_1[\"region_code\"].str.startswith(\"ES\")]\n",
    "\n",
    "proxy_df_2 = pd.read_csv(os.path.join(\"..\", \"data\", \"disaggregated_data\", \"FEC\", \"final_energy_consumption_in_rail_transport.csv\"))\n",
    "proxy_df_2 = proxy_df_2[proxy_df_2[\"region_code\"].str.startswith(\"ES\")]\n",
    "\n",
    "proxy_df_3 = pd.read_csv(os.path.join(\"..\", \"data\", \"disaggregated_data\", \"FEC\", \"final_energy_consumption_in_domestic_navigation.csv\"))\n",
    "proxy_df_3 = proxy_df_3[proxy_df_3[\"region_code\"].str.startswith(\"ES\")]"
   ]
  },
  {
   "cell_type": "code",
   "execution_count": null,
   "id": "71c840db",
   "metadata": {},
   "outputs": [],
   "source": [
    "proxy_df = pd.merge(proxy_df_1, proxy_df_2, on=\"region_code\")"
   ]
  },
  {
   "cell_type": "code",
   "execution_count": null,
   "id": "44d36330",
   "metadata": {},
   "outputs": [],
   "source": [
    "proxy_df[\"value\"] = proxy_df[\"value_x\"] + proxy_df[\"value_y\"]\n",
    "proxy_df.drop(columns=[\"value_x\", \"value_y\"], inplace=True)"
   ]
  },
  {
   "cell_type": "code",
   "execution_count": null,
   "id": "5ed60cfb",
   "metadata": {},
   "outputs": [],
   "source": [
    "proxy_df = pd.merge(proxy_df_3, proxy_df, on=\"region_code\")"
   ]
  },
  {
   "cell_type": "code",
   "execution_count": null,
   "id": "210869fb",
   "metadata": {},
   "outputs": [],
   "source": [
    "proxy_df[\"value\"] = proxy_df[\"value_x\"] + proxy_df[\"value_y\"]\n",
    "proxy_df.drop(columns=[\"value_x\", \"value_y\"], inplace=True)"
   ]
  },
  {
   "cell_type": "code",
   "execution_count": null,
   "id": "9d35e44e",
   "metadata": {},
   "outputs": [],
   "source": [
    "proxy_df"
   ]
  },
  {
   "cell_type": "markdown",
   "id": "ef93004c",
   "metadata": {},
   "source": [
    "disaggregation"
   ]
  },
  {
   "cell_type": "code",
   "execution_count": null,
   "id": "8a2fd2d2",
   "metadata": {},
   "outputs": [],
   "source": [
    "proxy_df[\"share\"] = proxy_df[\"value\"] / proxy_df[\"value\"].sum()\n",
    "proxy_df[\"value\"] = proxy_df[\"share\"] * final_energy_savings"
   ]
  },
  {
   "cell_type": "code",
   "execution_count": null,
   "id": "d3c3ff64",
   "metadata": {},
   "outputs": [],
   "source": [
    "final_df = proxy_df[[\"region_code\", \"value\"]].copy()\n",
    "final_df.to_csv(os.path.join(\"..\", \"data\", \"NECP_disaggregation\", \"disaggregated_data\",  \"FES_M2.3_refurbishment_of_rolling_stock.csv\"), index=False)"
   ]
  },
  {
   "cell_type": "code",
   "execution_count": null,
   "id": "03979065",
   "metadata": {},
   "outputs": [],
   "source": []
  }
 ],
 "metadata": {
  "language_info": {
   "name": "python"
  }
 },
 "nbformat": 4,
 "nbformat_minor": 5
}
