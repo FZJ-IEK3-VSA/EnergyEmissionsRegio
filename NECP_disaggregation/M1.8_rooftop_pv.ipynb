{
 "cells": [
  {
   "cell_type": "code",
   "execution_count": null,
   "id": "a18723dc",
   "metadata": {},
   "outputs": [],
   "source": [
    "import os \n",
    "import pandas as pd"
   ]
  },
  {
   "cell_type": "code",
   "execution_count": null,
   "id": "ddd2935a",
   "metadata": {},
   "outputs": [],
   "source": [
    "planned_self_consumption_capacity = 19 # GW"
   ]
  },
  {
   "cell_type": "code",
   "execution_count": null,
   "id": "6629ce16",
   "metadata": {},
   "outputs": [],
   "source": [
    "rooftop_solar_potential = pd.read_csv(os.path.join(\"..\", \"data\", \"NECP_disaggregation\", \"proxies\", \"rooftop_solar_thermal_potential.csv\"))"
   ]
  },
  {
   "cell_type": "code",
   "execution_count": null,
   "id": "bbcb2ac5",
   "metadata": {},
   "outputs": [],
   "source": [
    "rooftop_solar_potential[\"value\"] = (rooftop_solar_potential[\"_sum\"] / rooftop_solar_potential[\"_sum\"].sum())\n",
    "rooftop_solar_potential[\"value\"]  = rooftop_solar_potential[\"value\"] * planned_self_consumption_capacity\n",
    "\n",
    "final_df = rooftop_solar_potential[[\"code\", \"value\"]].copy()\n",
    "final_df.rename(columns={\"code\": \"region_code\"}, inplace=True)\n",
    "\n",
    "final_df.to_csv(os.path.join(\"..\", \"data\", \"NECP_disaggregation\", \"disaggregated_data\",  f\"planned_rooftop_pv_capacity.csv\"), index=False)"
   ]
  },
  {
   "cell_type": "code",
   "execution_count": null,
   "id": "935d19e7",
   "metadata": {},
   "outputs": [],
   "source": []
  }
 ],
 "metadata": {
  "language_info": {
   "name": "python"
  }
 },
 "nbformat": 4,
 "nbformat_minor": 5
}
