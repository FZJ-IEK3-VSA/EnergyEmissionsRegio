{
 "cells": [
  {
   "cell_type": "code",
   "execution_count": null,
   "id": "b9c35e67",
   "metadata": {},
   "outputs": [],
   "source": [
    "import os \n",
    "import pandas as pd"
   ]
  },
  {
   "cell_type": "markdown",
   "id": "dff4a47a",
   "metadata": {},
   "source": [
    "Transport cant be compared because NECP gives Transport sector overall target but CCC only addresses road transport "
   ]
  },
  {
   "cell_type": "code",
   "execution_count": null,
   "id": "4ad23cdc",
   "metadata": {},
   "outputs": [],
   "source": [
    "buildings = 14117 #ktoe"
   ]
  },
  {
   "cell_type": "code",
   "execution_count": null,
   "id": "ae3ddd67",
   "metadata": {},
   "outputs": [],
   "source": [
    "households_df = pd.read_csv(os.path.join(\"..\", \"data\", \"disaggregated_data\", \"GHG\", \"ghg_emissions_from_fc_in_households.csv\"))\n",
    "commerce_df = pd.read_csv(os.path.join(\"..\", \"data\", \"disaggregated_data\", \"GHG\", \"ghg_emissions_from_fc_in_commerce.csv\"))\n",
    "\n",
    "households_df_es = households_df[households_df[\"region_code\"].str.startswith(\"ES\")].copy()\n",
    "commerce_df_es = commerce_df[commerce_df[\"region_code\"].str.startswith(\"ES\")].copy()\n"
   ]
  },
  {
   "cell_type": "code",
   "execution_count": null,
   "id": "c83951ef",
   "metadata": {},
   "outputs": [],
   "source": [
    "commerce_df_es"
   ]
  },
  {
   "cell_type": "code",
   "execution_count": null,
   "id": "484009fe",
   "metadata": {},
   "outputs": [],
   "source": [
    "\n",
    "proxy_df = pd.merge(households_df_es, commerce_df_es, on=\"region_code\")\n",
    "proxy_df[\"value\"] = proxy_df[\"value_x\"] + proxy_df[\"value_y\"]\n"
   ]
  },
  {
   "cell_type": "code",
   "execution_count": null,
   "id": "9686eb52",
   "metadata": {},
   "outputs": [],
   "source": [
    "\n",
    "proxy_df[\"share\"] = proxy_df[\"value\"] / proxy_df[\"value\"].sum()\n",
    "proxy_df[\"value\"] = proxy_df[\"share\"] * buildings\n"
   ]
  },
  {
   "cell_type": "code",
   "execution_count": null,
   "id": "23de3f8f",
   "metadata": {},
   "outputs": [],
   "source": [
    "proxy_df[proxy_df[\"region_code\"] == \"ES211_01059\"][\"value\"].item()"
   ]
  }
 ],
 "metadata": {
  "language_info": {
   "name": "python"
  }
 },
 "nbformat": 4,
 "nbformat_minor": 5
}
