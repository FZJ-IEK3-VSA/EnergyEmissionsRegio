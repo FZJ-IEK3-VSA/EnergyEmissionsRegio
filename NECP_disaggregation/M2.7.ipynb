{
 "cells": [
  {
   "cell_type": "markdown",
   "id": "205ea35d",
   "metadata": {},
   "source": [
    "IMPROVEMENTS IN TECHNOLOGY AND PROCESS MANAGEMENT SYSTEMS IN INDUSTRIES ENERGY INTENSIVE"
   ]
  },
  {
   "cell_type": "code",
   "execution_count": null,
   "id": "5da237aa",
   "metadata": {},
   "outputs": [],
   "source": [
    "import os \n",
    "import pandas as pd\n",
    "from energyemissionsregio.utils import solve_proxy_equation"
   ]
  },
  {
   "cell_type": "code",
   "execution_count": null,
   "id": "fc6dd56a",
   "metadata": {},
   "outputs": [],
   "source": [
    "final_energy_savings = 7045.4  #ktoe"
   ]
  },
  {
   "cell_type": "code",
   "execution_count": null,
   "id": "c6381040",
   "metadata": {},
   "outputs": [],
   "source": [
    "proxies = [\"final_energy_consumption_in_chemical_and_petrochemical_industries\",\n",
    "           \"final_energy_consumption_in_iron_and_steel_industries\",\n",
    "           \"final_energy_consumption_in_non_metallic_minerals_industries\",\n",
    "           \"final_energy_consumption_in_paper_pulp_and_printing_industries\",\n",
    "           \"final_energy_consumption_in_non_ferrous_metals_industries\",\n",
    "           \"final_energy_consumption_in_wood_and_wood_products_industries\",\n",
    "           \"final_energy_consumption_in_mining_and_quarrying_industries\"]\n",
    "\n",
    "proxy_data_dict = {}\n",
    "\n",
    "for proxy in proxies:\n",
    "    proxy_data = pd.read_csv(os.path.join(\"..\", \"data\", \"disaggregated_data\", \"FEC\", f\"{proxy}.csv\"))\n",
    "    proxy_data = proxy_data[proxy_data[\"region_code\"].str.startswith(\"ES\")].copy()\n",
    "    proxy_data[\"value_confidence_level\"] = 5 # VERY HIGH\n",
    "    proxy_data_dict[proxy] = proxy_data"
   ]
  },
  {
   "cell_type": "code",
   "execution_count": null,
   "id": "eea10e35",
   "metadata": {},
   "outputs": [],
   "source": [
    "proxy_equation = \"final_energy_consumption_in_chemical_and_petrochemical_industries + final_energy_consumption_in_iron_and_steel_industries + final_energy_consumption_in_non_metallic_minerals_industries + final_energy_consumption_in_paper_pulp_and_printing_industries + final_energy_consumption_in_non_ferrous_metals_industries + final_energy_consumption_in_wood_and_wood_products_industries + final_energy_consumption_in_mining_and_quarrying_industries\"\n",
    "solved_proxy_df = solve_proxy_equation(proxy_equation, proxy_data_dict)"
   ]
  },
  {
   "cell_type": "code",
   "execution_count": null,
   "id": "1e68ae08",
   "metadata": {},
   "outputs": [],
   "source": [
    "solved_proxy_df[\"share\"] = solved_proxy_df[\"value\"] / solved_proxy_df[\"value\"].sum()\n",
    "solved_proxy_df[\"value\"] = solved_proxy_df[\"share\"] * final_energy_savings"
   ]
  },
  {
   "cell_type": "code",
   "execution_count": null,
   "id": "575c7c1c",
   "metadata": {},
   "outputs": [],
   "source": [
    "final_df = solved_proxy_df[[\"region_code\", \"value\"]].copy()\n",
    "\n",
    "final_df.to_csv(os.path.join(\"..\", \"data\", \"NECP_disaggregation\", \"disaggregated_data\", \"FES_M2.7_energy_intensive_industries.csv\"), index=False)"
   ]
  },
  {
   "cell_type": "code",
   "execution_count": null,
   "id": "63413a8a",
   "metadata": {},
   "outputs": [],
   "source": []
  }
 ],
 "metadata": {
  "language_info": {
   "name": "python"
  }
 },
 "nbformat": 4,
 "nbformat_minor": 5
}
