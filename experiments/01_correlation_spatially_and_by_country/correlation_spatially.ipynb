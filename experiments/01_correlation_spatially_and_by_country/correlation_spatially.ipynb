{
 "cells": [
  {
   "cell_type": "code",
   "execution_count": null,
   "metadata": {},
   "outputs": [],
   "source": [
    "import os\n",
    "import pandas as pd\n",
    "from energyemissionsregio.config import DATA_PATH\n",
    "import matplotlib.pyplot as plt\n",
    "import seaborn as sns"
   ]
  },
  {
   "cell_type": "code",
   "execution_count": null,
   "metadata": {},
   "outputs": [],
   "source": [
    "var_df = pd.read_excel(\n",
    "    os.path.join(DATA_PATH, \"..\", \"..\", \"01_raw\", \"variables_with_details_and_tags.xlsx\"),\n",
    "    sheet_name=\"collected_variables_EU\",\n",
    ")"
   ]
  },
  {
   "cell_type": "markdown",
   "metadata": {},
   "source": [
    "### input variables"
   ]
  },
  {
   "cell_type": "code",
   "execution_count": null,
   "metadata": {},
   "outputs": [],
   "source": [
    "vars = [\"population\", \n",
    "             \"area\", \n",
    "             'continuous_urban_fabric_cover',\n",
    "       'discontinuous_urban_fabric_cover',\n",
    "       'industrial_or_commercial_units_cover',\n",
    "       'port_areas_cover',\n",
    "       'airports_cover', 'mineral_extraction_sites_cover',\n",
    "       'dump_sites_cover', 'construction_sites_cover',\n",
    "       'green_urban_areas_cover', 'sport_and_leisure_facilities_cover',\n",
    "       'non_irrigated_arable_land_cover',\n",
    "       'permanently_irrigated_land_cover', 'rice_fields_cover',\n",
    "       'vineyards_cover', 'fruit_trees_and_berry_plantations_cover',\n",
    "       'olive_groves_cover', 'pastures_cover', 'permanent_crops_cover',\n",
    "       'complex_cultivation_patterns_cover',\n",
    "       'agriculture_with_natural_vegetation_cover',\n",
    "       'agro_forestry_areas_cover', 'broad_leaved_forest_cover',\n",
    "       'coniferous_forest_cover', 'mixed_forest_cover',\n",
    "       'natural_grasslands_cover', 'moors_and_heathland_cover',\n",
    "       'sclerophyllous_vegetation_cover',\n",
    "       'transitional_woodland_shrub_cover',\n",
    "       'beaches_dunes_and_sand_cover', 'bare_rocks_cover',\n",
    "       'sparsely_vegetated_areas_cover', 'burnt_areas_cover',\n",
    "       'glaciers_and_perpetual_snow_cover', 'inland_marshes_cover',\n",
    "       'peat_bogs_cover', 'salt_marshes_cover', 'salines_cover',\n",
    "       'intertidal_flats_cover', 'water_courses_cover',\n",
    "       'water_bodies_cover', 'coastal_lagoons_cover', 'estuaries_cover',\n",
    "       'sea_and_ocean_cover',\n",
    "       'fuel_demand_of_chemical_industries',\n",
    "       'fuel_demand_of_iron_and_steel_industries',\n",
    "       'fuel_demand_of_non_ferrous_metal_industries',\n",
    "       'fuel_demand_of_non_metallic_mineral_industries',\n",
    "       'fuel_demand_of_paper_and_printing_industries',\n",
    "       'fuel_demand_of_refineries', \n",
    "       \"railway_network\",\n",
    "       \"road_network\",\n",
    "       \"number_of_buildings\",\n",
    "       'average_air_pollution_due_to_pm2.5',\n",
    "       'average_air_pollution_due_to_no2',\n",
    "       'average_air_pollution_due_to_o3',\n",
    "       'average_air_pollution_due_to_pm10',\n",
    "       'number_of_buffaloes', 'number_of_cattle', 'number_of_pigs',\n",
    "       'number_of_sheeps', 'number_of_chickens', 'number_of_goats',\n",
    "             ]\n"
   ]
  },
  {
   "cell_type": "code",
   "execution_count": null,
   "metadata": {},
   "outputs": [],
   "source": [
    "lau_df = None\n",
    "\n",
    "for var_name in vars:\n",
    "    _df = pd.read_csv(\n",
    "        os.path.join(DATA_PATH, f\"{var_name}.csv\")\n",
    "    )\n",
    "    _df = _df[_df[\"region_code\"].str.startswith((\"ES\", \"DE\"))][[\"region_code\", \"value\"]].copy()\n",
    "    _df.rename(columns={\"value\": var_name}, inplace=True)\n",
    "\n",
    "    if lau_df is not None:\n",
    "        lau_df = pd.merge(lau_df, _df, on=\"region_code\", how=\"outer\")\n",
    "    else:\n",
    "        lau_df = _df"
   ]
  },
  {
   "cell_type": "code",
   "execution_count": null,
   "metadata": {},
   "outputs": [],
   "source": [
    "# Data sources, including Corine Land Cover, OpenStreetMap, and SEEnergies, provide spatial data either as raster files or at \n",
    "# specific X-Y coordinates. This spatial information is overlain with LAU regions and aggregated at the LAU level to create \n",
    "# regional datasets. If no data points overlap with a given LAU region, the value is set to zero\n",
    "lau_df = lau_df.fillna(0)"
   ]
  },
  {
   "cell_type": "markdown",
   "metadata": {},
   "source": [
    "### correlation between LAU variables in both countries"
   ]
  },
  {
   "cell_type": "code",
   "execution_count": null,
   "metadata": {},
   "outputs": [],
   "source": [
    "corr_df_lau = lau_df.copy()\n",
    "corr_df_lau.drop(columns=\"region_code\", inplace=True)"
   ]
  },
  {
   "cell_type": "code",
   "execution_count": null,
   "metadata": {},
   "outputs": [],
   "source": [
    "correlations_lau = corr_df_lau.corr()\n",
    "\n",
    "# Plotting the heatmap\n",
    "plt.figure(figsize=(15, 15))  # Adjust the figure size as needed\n",
    "sns.heatmap(correlations_lau, annot=False, cmap=\"Blues\", cbar=True, annot_kws={\"rotation\": 90}, vmin=-1, vmax=1)\n",
    "plt.savefig(os.path.join(\"..\", \"..\", \"figures\", f\"correlation_spatially_lau.png\"), bbox_inches='tight')  # Save the figure as a PNG file\n",
    "plt.show()"
   ]
  },
  {
   "cell_type": "markdown",
   "metadata": {},
   "source": [
    "### Correlation between LAU variables, after aggregating them to NUTS3 spatial level"
   ]
  },
  {
   "cell_type": "code",
   "execution_count": null,
   "metadata": {},
   "outputs": [],
   "source": [
    "corr_df_nuts3 = None\n",
    "\n",
    "for var_name in vars:\n",
    "    \n",
    "    _df = lau_df[[\"region_code\", var_name]].copy()\n",
    "\n",
    "    #convert LAU to NUTS3 regions\n",
    "    _df[\"region_code\"] = _df[\"region_code\"].str.split(\"_\").str[0]\n",
    "\n",
    "    # aggregate per NUTS3 region \n",
    "    agg_method = var_df[var_df[\"var_name\"] == var_name][\n",
    "            \"var_aggregation_method\"\n",
    "        ].values[0]\n",
    "\n",
    "    if agg_method == \"sum\":\n",
    "        _df = _df.groupby(\"region_code\").sum().reset_index()\n",
    "    elif agg_method in [\"mean\", \"bool\"]:\n",
    "        _df = _df.groupby(\"region_code\").mean().reset_index()\n",
    "    elif agg_method == \"max\":\n",
    "        _df = _df.groupby(\"region_code\").max().reset_index()\n",
    "    else:\n",
    "        raise ValueError(\"Unknown var aggregation method\")\n",
    "\n",
    "    if corr_df_nuts3 is not None:\n",
    "        corr_df_nuts3 = pd.merge(corr_df_nuts3, _df, on=\"region_code\", how=\"outer\")\n",
    "    else:\n",
    "        corr_df_nuts3 = _df"
   ]
  },
  {
   "cell_type": "code",
   "execution_count": null,
   "metadata": {},
   "outputs": [],
   "source": [
    "corr_df_nuts3.drop(columns=\"region_code\", inplace=True)"
   ]
  },
  {
   "cell_type": "code",
   "execution_count": null,
   "metadata": {},
   "outputs": [],
   "source": [
    "corr_df_nuts3"
   ]
  },
  {
   "cell_type": "code",
   "execution_count": null,
   "metadata": {},
   "outputs": [],
   "source": [
    "correlations_nuts3 = corr_df_nuts3.corr()\n",
    "\n",
    "# Plotting the heatmap\n",
    "plt.figure(figsize=(15, 15))  # Adjust the figure size as needed\n",
    "sns.heatmap(correlations_nuts3, annot=False, cmap=\"Blues\", cbar=True, annot_kws={\"rotation\": 90}, vmin=-1, vmax=1)\n",
    "plt.savefig(os.path.join(\"..\", \"..\", \"figures\", f\"correlation_spatially_nuts3.png\"), bbox_inches='tight')  # Save the figure as a PNG file\n",
    "plt.show()"
   ]
  },
  {
   "cell_type": "markdown",
   "metadata": {},
   "source": [
    "### Correlation difference between the variables at NUTS3 and LAU spatial levels"
   ]
  },
  {
   "cell_type": "code",
   "execution_count": null,
   "metadata": {},
   "outputs": [],
   "source": [
    "correlations_diff = correlations_nuts3 - correlations_lau"
   ]
  },
  {
   "cell_type": "code",
   "execution_count": null,
   "metadata": {},
   "outputs": [],
   "source": [
    "# Plotting the heatmap\n",
    "plt.figure(figsize=(15, 15))  # Adjust the figure size as needed\n",
    "sns.heatmap(correlations_diff.abs(), annot=False, cmap=\"Reds\", cbar=True, annot_kws={\"rotation\": 90}, vmin=0, vmax=2)\n",
    "plt.savefig(os.path.join(\"..\", \"..\", \"figures\", f\"correlation_spatially_diff.png\"), bbox_inches='tight')  # Save the figure as a PNG file\n",
    "plt.show()"
   ]
  },
  {
   "cell_type": "code",
   "execution_count": null,
   "metadata": {},
   "outputs": [],
   "source": []
  }
 ],
 "metadata": {
  "language_info": {
   "name": "python"
  }
 },
 "nbformat": 4,
 "nbformat_minor": 2
}
