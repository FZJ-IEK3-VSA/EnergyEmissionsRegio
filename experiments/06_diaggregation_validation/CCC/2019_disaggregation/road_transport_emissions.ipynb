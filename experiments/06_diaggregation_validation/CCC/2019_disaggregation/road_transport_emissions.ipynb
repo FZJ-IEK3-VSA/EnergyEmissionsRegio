{
 "cells": [
  {
   "cell_type": "code",
   "execution_count": null,
   "metadata": {},
   "outputs": [],
   "source": [
    "import os\n",
    "import pandas as pd"
   ]
  },
  {
   "cell_type": "code",
   "execution_count": null,
   "metadata": {},
   "outputs": [],
   "source": [
    "# https://ec.europa.eu/eurostat/databrowser/view/env_air_gge__custom_15823458/default/table?lang=en\n",
    "# Unit - kt\n",
    "national_cars_de_2019 = 101037.24\n",
    "national_motorcycles_de_2019 = 1436.32\n",
    "national_ldv_de_2019 = 12169.85\n",
    "national_hdv_and_buses_de_2019 = 44900.68\n",
    "\n",
    "national_cars_es_2019 = 55500.2\n",
    "national_motorcycles_es_2019 = 1876.82\n",
    "national_ldv_es_2019 = 6852.57\n",
    "national_hdv_and_buses_es_2019 = 20305.87"
   ]
  },
  {
   "cell_type": "code",
   "execution_count": null,
   "metadata": {},
   "outputs": [],
   "source": [
    "national_road_transport_de_2019 = national_cars_de_2019 + national_motorcycles_de_2019 + national_ldv_de_2019 + national_hdv_and_buses_de_2019\n",
    "national_road_transport_es_2019 = national_cars_es_2019 + national_motorcycles_es_2019 + national_ldv_es_2019 + national_hdv_and_buses_es_2019"
   ]
  },
  {
   "cell_type": "code",
   "execution_count": null,
   "metadata": {},
   "outputs": [],
   "source": [
    "disagg_road_cars_2022 = pd.read_csv(r\"C:\\Users\\s.patil\\OneDrive - Forschungszentrum Jülich GmbH\\Documents\\code\\EnergyEmissionsRegio\\data\\disaggregated_data\\GHG\\ghg_emissions_from_fc_in_road_transport_using_cars.csv\")\n",
    "\n",
    "disagg_road_motorcycles_2022 = pd.read_csv(r\"C:\\Users\\s.patil\\OneDrive - Forschungszentrum Jülich GmbH\\Documents\\code\\EnergyEmissionsRegio\\data\\disaggregated_data\\GHG\\ghg_emissions_from_fc_in_road_transport_using_motorcycles.csv\")\n",
    "\n",
    "disagg_road_freight_2022 = pd.read_csv(r\"C:\\Users\\s.patil\\OneDrive - Forschungszentrum Jülich GmbH\\Documents\\code\\EnergyEmissionsRegio\\data\\disaggregated_data\\GHG\\ghg_emissions_from_fc_in_road_freight_transport.csv\")"
   ]
  },
  {
   "cell_type": "code",
   "execution_count": null,
   "metadata": {},
   "outputs": [],
   "source": [
    "disagg_road_2022 = pd.merge(disagg_road_cars_2022, disagg_road_motorcycles_2022, on=\"region_code\")\n",
    "disagg_road_2022[\"value\"] = disagg_road_2022[\"value_x\"] + disagg_road_2022[\"value_y\"]\n",
    "\n",
    "disagg_road_2022.drop(columns=[\"value_confidence_level_x\", \"value_x\", \"value_confidence_level_y\", \"value_y\"], inplace=True)\n",
    "\n",
    "disagg_road_2022 = pd.merge(disagg_road_2022, disagg_road_freight_2022, on=\"region_code\")\n",
    "\n",
    "disagg_road_2022[\"value\"] = disagg_road_2022[\"value_x\"] + disagg_road_2022[\"value_y\"]\n",
    "\n",
    "disagg_road_2022.drop(columns=[\"value_confidence_level\", \"value_x\", \"value_y\"], inplace=True)"
   ]
  },
  {
   "cell_type": "code",
   "execution_count": null,
   "metadata": {},
   "outputs": [],
   "source": [
    "disagg_road_de_2019 = disagg_road_2022[disagg_road_2022[\"region_code\"].str.startswith(\"DE\")].copy()\n",
    "disagg_road_es_2019 = disagg_road_2022[disagg_road_2022[\"region_code\"].str.startswith(\"ES\")].copy()"
   ]
  },
  {
   "cell_type": "code",
   "execution_count": null,
   "metadata": {},
   "outputs": [],
   "source": [
    "disagg_road_de_2019[\"share\"] = disagg_road_de_2019[\"value\"] / disagg_road_de_2019[\"value\"].sum()\n",
    "disagg_road_es_2019[\"share\"] = disagg_road_es_2019[\"value\"] / disagg_road_es_2019[\"value\"].sum()"
   ]
  },
  {
   "cell_type": "code",
   "execution_count": null,
   "metadata": {},
   "outputs": [],
   "source": [
    "disagg_road_de_2019[\"disagg_value\"] = disagg_road_de_2019[\"share\"] * national_road_transport_de_2019\n",
    "disagg_road_es_2019[\"disagg_value\"] = disagg_road_es_2019[\"share\"] * national_road_transport_es_2019"
   ]
  },
  {
   "cell_type": "code",
   "execution_count": null,
   "metadata": {},
   "outputs": [],
   "source": [
    "code_name_mapping = {\"ES300_28079\": \"Madrid\",\n",
    "                    \"ES418_47186\": \"Valladolid\",\n",
    "                   \"ES523_46250\":  \"València\",\n",
    "                    \"ES211_01059\": \"Vitoria-Gasteiz\",\n",
    "                   \"ES243_50297\":  \"Zaragoza\",\n",
    "                    \"ES618_41091\": \"Sevilla\",\n",
    "                    \"ES511_08019\": \"Barcelona\", \n",
    "                    \"DE125_08221000\": \"Heidelberg\"}"
   ]
  },
  {
   "cell_type": "code",
   "execution_count": null,
   "metadata": {},
   "outputs": [],
   "source": [
    "disagg_values = disagg_road_es_2019[disagg_road_es_2019[\"region_code\"].isin(code_name_mapping.keys())]"
   ]
  },
  {
   "cell_type": "code",
   "execution_count": null,
   "metadata": {},
   "outputs": [],
   "source": [
    "disagg_values[\"region_name\"] = disagg_values[\"region_code\"].map(code_name_mapping)"
   ]
  },
  {
   "cell_type": "code",
   "execution_count": null,
   "metadata": {},
   "outputs": [],
   "source": [
    "CCC_values = {\"Madrid\": 2315.24,\n",
    "                    \"Valladolid\": 231.99,\n",
    "                   \"València\": 513.58,\n",
    "                    \"Vitoria-Gasteiz\": 197.26,\n",
    "                   \"Zaragoza\": 480.67,\n",
    "                    \"Sevilla\": 789.59,\n",
    "                    \"Barcelona\": 906}"
   ]
  },
  {
   "cell_type": "code",
   "execution_count": null,
   "metadata": {},
   "outputs": [],
   "source": [
    "disagg_values[\"CCC_value\"] = disagg_values[\"region_name\"].map(CCC_values)"
   ]
  },
  {
   "cell_type": "code",
   "execution_count": null,
   "metadata": {},
   "outputs": [],
   "source": [
    "disagg_values_clean = disagg_values[[\"region_name\", \"CCC_value\", \"disagg_value\"]]"
   ]
  },
  {
   "cell_type": "code",
   "execution_count": null,
   "metadata": {},
   "outputs": [],
   "source": [
    "disagg_values_clean.to_csv(os.path.join(\"..\", \"..\", \"..\", \"..\", \"data\", \"disaggregated_data\", \"validation\", \"road_transport_emissions.csv\"), index=False)"
   ]
  }
 ],
 "metadata": {
  "language_info": {
   "name": "python"
  }
 },
 "nbformat": 4,
 "nbformat_minor": 2
}
