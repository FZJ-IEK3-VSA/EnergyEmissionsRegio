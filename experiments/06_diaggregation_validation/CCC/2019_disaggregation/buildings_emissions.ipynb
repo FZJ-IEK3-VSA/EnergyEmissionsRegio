{
 "cells": [
  {
   "cell_type": "code",
   "execution_count": null,
   "metadata": {},
   "outputs": [],
   "source": [
    "import os\n",
    "import pandas as pd"
   ]
  },
  {
   "cell_type": "code",
   "execution_count": null,
   "metadata": {},
   "outputs": [],
   "source": [
    "# https://ec.europa.eu/eurostat/databrowser/view/env_air_gge__custom_15831997/default/table?lang=en\n",
    "# Unit - kt\n",
    "national_households_de_2019 = 95420.04\n",
    "\n",
    "national_households_es_2019 = 16032.71\n"
   ]
  },
  {
   "cell_type": "code",
   "execution_count": null,
   "metadata": {},
   "outputs": [],
   "source": [
    "\n",
    "disagg_households_2022 = pd.read_csv(r\"C:\\Users\\s.patil\\OneDrive - Forschungszentrum Jülich GmbH\\Documents\\code\\EnergyEmissionsRegio\\data\\disaggregated_data\\GHG\\ghg_emissions_from_fc_in_households.csv\")"
   ]
  },
  {
   "cell_type": "code",
   "execution_count": null,
   "metadata": {},
   "outputs": [],
   "source": [
    "disagg_households_de_2019 = disagg_households_2022[disagg_households_2022[\"region_code\"].str.startswith(\"DE\")].copy()\n",
    "disagg_households_es_2019 = disagg_households_2022[disagg_households_2022[\"region_code\"].str.startswith(\"ES\")].copy()"
   ]
  },
  {
   "cell_type": "code",
   "execution_count": null,
   "metadata": {},
   "outputs": [],
   "source": [
    "disagg_households_de_2019[\"share\"] = disagg_households_de_2019[\"value\"] / disagg_households_de_2019[\"value\"].sum()\n",
    "disagg_households_es_2019[\"share\"] = disagg_households_es_2019[\"value\"] / disagg_households_es_2019[\"value\"].sum()"
   ]
  },
  {
   "cell_type": "code",
   "execution_count": null,
   "metadata": {},
   "outputs": [],
   "source": [
    "disagg_households_de_2019[\"value\"] = disagg_households_de_2019[\"share\"] * national_households_de_2019\n",
    "disagg_households_es_2019[\"value\"] = disagg_households_es_2019[\"share\"] * national_households_es_2019"
   ]
  },
  {
   "cell_type": "code",
   "execution_count": null,
   "metadata": {},
   "outputs": [],
   "source": [
    "disagg_households_de_2019 = disagg_households_de_2019[[\"region_code\", \"value\"]].copy()\n",
    "disagg_households_es_2019 = disagg_households_es_2019[[\"region_code\", \"value\"]].copy()"
   ]
  },
  {
   "cell_type": "code",
   "execution_count": null,
   "metadata": {},
   "outputs": [],
   "source": [
    "# https://ec.europa.eu/eurostat/databrowser/view/env_air_gge__custom_15832039/default/table?lang=en\n",
    "# Unit - kt\n",
    "national_commerce_de_2019 = 26015.48\n",
    "\n",
    "national_commerce_es_2019 = 9554.94"
   ]
  },
  {
   "cell_type": "code",
   "execution_count": null,
   "metadata": {},
   "outputs": [],
   "source": [
    "national_households_es_2019 + national_commerce_es_2019"
   ]
  },
  {
   "cell_type": "code",
   "execution_count": null,
   "metadata": {},
   "outputs": [],
   "source": [
    "disagg_commerce_2022  = pd.read_csv(r\"C:\\Users\\s.patil\\OneDrive - Forschungszentrum Jülich GmbH\\Documents\\code\\EnergyEmissionsRegio\\data\\disaggregated_data\\GHG\\ghg_emissions_from_fc_in_commerce.csv\")\n"
   ]
  },
  {
   "cell_type": "code",
   "execution_count": null,
   "metadata": {},
   "outputs": [],
   "source": [
    "disagg_commerce_de_2019 = disagg_commerce_2022[disagg_commerce_2022[\"region_code\"].str.startswith(\"DE\")].copy()\n",
    "disagg_commerce_es_2019 = disagg_commerce_2022[disagg_commerce_2022[\"region_code\"].str.startswith(\"ES\")].copy()"
   ]
  },
  {
   "cell_type": "code",
   "execution_count": null,
   "metadata": {},
   "outputs": [],
   "source": [
    "disagg_commerce_de_2019[\"share\"] = disagg_commerce_de_2019[\"value\"] / disagg_commerce_de_2019[\"value\"].sum()\n",
    "disagg_commerce_es_2019[\"share\"] = disagg_commerce_es_2019[\"value\"] / disagg_commerce_es_2019[\"value\"].sum()"
   ]
  },
  {
   "cell_type": "code",
   "execution_count": null,
   "metadata": {},
   "outputs": [],
   "source": [
    "disagg_commerce_de_2019[\"value\"] = disagg_commerce_de_2019[\"share\"] * national_commerce_de_2019\n",
    "disagg_commerce_es_2019[\"value\"] = disagg_commerce_es_2019[\"share\"] * national_commerce_es_2019"
   ]
  },
  {
   "cell_type": "code",
   "execution_count": null,
   "metadata": {},
   "outputs": [],
   "source": [
    "disagg_commerce_de_2019 = disagg_commerce_de_2019[[\"region_code\", \"value\"]].copy()\n",
    "disagg_commerce_es_2019 = disagg_commerce_es_2019[[\"region_code\", \"value\"]].copy()"
   ]
  },
  {
   "cell_type": "code",
   "execution_count": null,
   "metadata": {},
   "outputs": [],
   "source": [
    "disagg_buildings_de_2019 = pd.merge(disagg_households_de_2019, disagg_commerce_de_2019, on=\"region_code\")\n",
    "disagg_buildings_de_2019[\"disagg_value\"] = disagg_buildings_de_2019[\"value_x\"]  + disagg_buildings_de_2019[\"value_y\"] \n",
    "\n",
    "disagg_buildings_es_2019 = pd.merge(disagg_households_es_2019, disagg_commerce_es_2019, on=\"region_code\")\n",
    "disagg_buildings_es_2019[\"disagg_value\"] = disagg_buildings_es_2019[\"value_x\"]  + disagg_buildings_es_2019[\"value_y\"] "
   ]
  },
  {
   "cell_type": "code",
   "execution_count": null,
   "metadata": {},
   "outputs": [],
   "source": [
    "code_name_mapping = {\"ES300_28079\": \"Madrid\",\n",
    "                    \"ES418_47186\": \"Valladolid\",\n",
    "                   \"ES523_46250\":  \"València\",\n",
    "                    \"ES211_01059\": \"Vitoria-Gasteiz\",\n",
    "                   \"ES243_50297\":  \"Zaragoza\",\n",
    "                    \"ES618_41091\": \"Sevilla\",\n",
    "                    \"ES511_08019\": \"Barcelona\", \n",
    "                    \"DE125_08221000\": \"Heidelberg\"}"
   ]
  },
  {
   "cell_type": "code",
   "execution_count": null,
   "metadata": {},
   "outputs": [],
   "source": [
    "disagg_values = disagg_buildings_es_2019[disagg_buildings_es_2019[\"region_code\"].isin(code_name_mapping.keys())]"
   ]
  },
  {
   "cell_type": "code",
   "execution_count": null,
   "metadata": {},
   "outputs": [],
   "source": [
    "disagg_values[\"region_name\"] = disagg_values[\"region_code\"].map(code_name_mapping)"
   ]
  },
  {
   "cell_type": "code",
   "execution_count": null,
   "metadata": {},
   "outputs": [],
   "source": [
    "disagg_values[[\"disagg_value\", \"region_name\"]]"
   ]
  },
  {
   "cell_type": "code",
   "execution_count": null,
   "metadata": {},
   "outputs": [],
   "source": [
    "CCC_values = {\"Madrid\": 2130.89,\n",
    "                    \"Valladolid\": 259.25,\n",
    "                   \"València\": 303.94,\n",
    "                    \"Vitoria-Gasteiz\": 230.18,\n",
    "                   \"Zaragoza\": 900.42,\n",
    "                    \"Sevilla\": 127.83,\n",
    "                    \"Barcelona\": 813}"
   ]
  },
  {
   "cell_type": "code",
   "execution_count": null,
   "metadata": {},
   "outputs": [],
   "source": [
    "disagg_values[\"CCC_value\"] = disagg_values[\"region_name\"].map(CCC_values)"
   ]
  },
  {
   "cell_type": "code",
   "execution_count": null,
   "metadata": {},
   "outputs": [],
   "source": [
    "disagg_values"
   ]
  },
  {
   "cell_type": "code",
   "execution_count": null,
   "metadata": {},
   "outputs": [],
   "source": [
    "disagg_values_clean = disagg_values[[\"region_name\", \"CCC_value\", \"disagg_value\"]]"
   ]
  },
  {
   "cell_type": "code",
   "execution_count": null,
   "metadata": {},
   "outputs": [],
   "source": [
    "disagg_values_clean.to_csv(os.path.join(\"..\", \"..\", \"..\", \"..\", \"data\", \"disaggregated_data\", \"validation\", \"buildings_emissions.csv\"), index=False)"
   ]
  },
  {
   "cell_type": "code",
   "execution_count": null,
   "metadata": {},
   "outputs": [],
   "source": [
    "disagg_buildings_de_2019[disagg_buildings_de_2019[\"region_code\"] == \"DE125_08221000\"]"
   ]
  },
  {
   "cell_type": "code",
   "execution_count": null,
   "metadata": {},
   "outputs": [],
   "source": [
    "disagg_buildings_es_2019[disagg_buildings_es_2019[\"region_code\"].str.startswith(\"ES243\")][\"value\"].sum()"
   ]
  },
  {
   "cell_type": "code",
   "execution_count": null,
   "metadata": {},
   "outputs": [],
   "source": [
    "disagg_buildings_es_2019[disagg_buildings_es_2019[\"region_code\"].str.startswith(\"ES523\")][\"value\"].sum()"
   ]
  },
  {
   "cell_type": "code",
   "execution_count": null,
   "metadata": {},
   "outputs": [],
   "source": [
    "disagg_buildings_es_2019[disagg_buildings_es_2019[\"region_code\"].str.startswith(\"ES511\")][\"value\"].sum()"
   ]
  },
  {
   "cell_type": "code",
   "execution_count": null,
   "metadata": {},
   "outputs": [],
   "source": []
  }
 ],
 "metadata": {
  "language_info": {
   "name": "python"
  }
 },
 "nbformat": 4,
 "nbformat_minor": 2
}
