{
 "cells": [
  {
   "cell_type": "code",
   "execution_count": null,
   "metadata": {},
   "outputs": [],
   "source": [
    "import os \n",
    "import pandas as pd\n",
    "import geopandas as gpd\n",
    "from energyemissionsregio.config import SHP_PATH"
   ]
  },
  {
   "cell_type": "code",
   "execution_count": null,
   "metadata": {},
   "outputs": [],
   "source": [
    "eurostat_emissions_de = pd.read_csv(os.path.join(\"..\", \"..\", \"..\", \"data\", \"NUTS0_data\", \"emissions_de.csv\"))\n",
    "eurostat_emissions_es = pd.read_csv(os.path.join(\"..\", \"..\", \"..\", \"data\", \"NUTS0_data\", \"emissions_es.csv\"))"
   ]
  },
  {
   "cell_type": "code",
   "execution_count": null,
   "metadata": {},
   "outputs": [],
   "source": [
    "edgar = pd.read_excel(\n",
    "       os.path.join( \"..\", \"..\", \"..\", \n",
    "                    \"data\", \n",
    "                    \"validation_data\", \n",
    "                    \"EDGARv8.0_total_GHG_GWP100_AR5_NUTS2_1990_2022.xlsx\"),\n",
    "        sheet_name=\"GHG by NUTS2 and Sector\",\n",
    "        header=0,\n",
    "        index_col=0,\n",
    "    )"
   ]
  },
  {
   "cell_type": "code",
   "execution_count": null,
   "metadata": {},
   "outputs": [],
   "source": [
    "edgar.reset_index(drop=True, inplace=True)\n",
    "\n",
    "edgar = edgar[(edgar[\"NUTS 2\"].str.startswith((\"ES\", \"DE\"))) & \n",
    "                         (edgar[\"NUTS 2\"].str.len() == 4)\n",
    "                        ][[\"NUTS 2\", \"Sector\", \"Y_2022\"]]"
   ]
  },
  {
   "cell_type": "code",
   "execution_count": null,
   "metadata": {},
   "outputs": [],
   "source": [
    "edgar[\"NUTS0\"] = edgar[\"NUTS 2\"].str[:2]\n",
    "edgar[\"Y_2022\"] = edgar[\"Y_2022\"] / 1000 # kton to Mt"
   ]
  },
  {
   "cell_type": "code",
   "execution_count": null,
   "metadata": {},
   "outputs": [],
   "source": [
    "edgar.drop(columns=\"NUTS 2\", inplace=True)"
   ]
  },
  {
   "cell_type": "code",
   "execution_count": null,
   "metadata": {},
   "outputs": [],
   "source": [
    "edgar.groupby([\"NUTS0\", \"Sector\"]).sum()"
   ]
  },
  {
   "cell_type": "code",
   "execution_count": null,
   "metadata": {},
   "outputs": [],
   "source": [
    "eurostat_emissions_de.drop(columns=[\"sub_sector\", \"end_use_sector\"], inplace=True)"
   ]
  },
  {
   "cell_type": "code",
   "execution_count": null,
   "metadata": {},
   "outputs": [],
   "source": [
    "eurostat_emissions_de.groupby(\"sector\").sum()"
   ]
  },
  {
   "cell_type": "code",
   "execution_count": null,
   "metadata": {},
   "outputs": [],
   "source": [
    "24.19674 + 85.50240 # commerce + households"
   ]
  },
  {
   "cell_type": "code",
   "execution_count": null,
   "metadata": {},
   "outputs": [],
   "source": [
    "eurostat_emissions_es.drop(columns=[\"sub_sector\", \"end_use_sector\"], inplace=True)"
   ]
  },
  {
   "cell_type": "code",
   "execution_count": null,
   "metadata": {},
   "outputs": [],
   "source": [
    "eurostat_emissions_es.groupby(\"sector\").sum()"
   ]
  },
  {
   "cell_type": "code",
   "execution_count": null,
   "metadata": {},
   "outputs": [],
   "source": [
    "9.13159 + 15.19001  # commerce + households"
   ]
  },
  {
   "cell_type": "code",
   "execution_count": null,
   "metadata": {},
   "outputs": [],
   "source": [
    "eurostat_emissions_de"
   ]
  },
  {
   "cell_type": "code",
   "execution_count": null,
   "metadata": {},
   "outputs": [],
   "source": []
  }
 ],
 "metadata": {
  "language_info": {
   "name": "python"
  }
 },
 "nbformat": 4,
 "nbformat_minor": 2
}
