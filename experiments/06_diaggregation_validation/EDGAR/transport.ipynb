{
 "cells": [
  {
   "cell_type": "code",
   "execution_count": null,
   "metadata": {},
   "outputs": [],
   "source": [
    "import os \n",
    "import pandas as pd\n",
    "import matplotlib.pyplot as plt\n",
    "import geopandas as gpd\n",
    "from energyemissionsregio.config import SHP_PATH"
   ]
  },
  {
   "cell_type": "code",
   "execution_count": null,
   "metadata": {},
   "outputs": [],
   "source": [
    "nuts2 = gpd.read_file(os.path.join(SHP_PATH, \"NUTS2.shp\"))\n",
    "nuts2 = nuts2[nuts2[\"code\"].str.startswith((\"ES\", \"DE\"))]"
   ]
  },
  {
   "cell_type": "code",
   "execution_count": null,
   "metadata": {},
   "outputs": [],
   "source": [
    "disagg_rail = pd.read_csv(r\"C:\\Users\\s.patil\\OneDrive - Forschungszentrum Jülich GmbH\\Documents\\code\\EnergyEmissionsRegio\\data\\disaggregated_data\\GHG\\ghg_emissions_from_fc_in_rail_transport.csv\")\n",
    "disagg_road  = pd.read_csv(r\"C:\\Users\\s.patil\\OneDrive - Forschungszentrum Jülich GmbH\\Documents\\code\\EnergyEmissionsRegio\\data\\disaggregated_data\\GHG\\ghg_emissions_from_fc_in_road_transport_using_cars.csv\")\n",
    "disagg_road_freight  = pd.read_csv(r\"C:\\Users\\s.patil\\OneDrive - Forschungszentrum Jülich GmbH\\Documents\\code\\EnergyEmissionsRegio\\data\\disaggregated_data\\GHG\\ghg_emissions_from_fc_in_road_freight_transport.csv\")\n",
    "disagg_motor_cycles  = pd.read_csv(r\"C:\\Users\\s.patil\\OneDrive - Forschungszentrum Jülich GmbH\\Documents\\code\\EnergyEmissionsRegio\\data\\disaggregated_data\\GHG\\ghg_emissions_from_fc_in_road_transport_using_motorcycles.csv\")"
   ]
  },
  {
   "cell_type": "code",
   "execution_count": null,
   "metadata": {},
   "outputs": [],
   "source": [
    "disagg_merge_1 = pd.merge(disagg_rail, disagg_road, on=\"region_code\")\n",
    "disagg_merge_1[\"value\"] = disagg_merge_1[\"value_x\"] + disagg_merge_1[\"value_y\"]\n",
    "disagg_merge_1.drop(columns=[\"value_x\", \"value_y\"], inplace=True)\n",
    "\n",
    "disagg_merge_2 = pd.merge(disagg_road_freight, disagg_motor_cycles, on=\"region_code\")\n",
    "disagg_merge_2[\"value\"] = disagg_merge_2[\"value_x\"] + disagg_merge_2[\"value_y\"]\n",
    "disagg_merge_2.drop(columns=[\"value_x\", \"value_y\"], inplace=True)\n",
    "\n",
    "disagg_merge = pd.merge(disagg_merge_1, disagg_merge_2, on=\"region_code\")\n",
    "disagg_merge[\"value\"] = disagg_merge[\"value_x\"] + disagg_merge[\"value_y\"]"
   ]
  },
  {
   "cell_type": "code",
   "execution_count": null,
   "metadata": {},
   "outputs": [],
   "source": [
    "disagg_tranport = disagg_merge[[\"region_code\", \"value\"]].copy()"
   ]
  },
  {
   "cell_type": "code",
   "execution_count": null,
   "metadata": {},
   "outputs": [],
   "source": [
    "disagg_tranport[\"NUTS2\"] = disagg_tranport[\"region_code\"].str[:4]"
   ]
  },
  {
   "cell_type": "code",
   "execution_count": null,
   "metadata": {},
   "outputs": [],
   "source": [
    "disagg_tranport.drop(columns=\"region_code\", inplace=True)"
   ]
  },
  {
   "cell_type": "code",
   "execution_count": null,
   "metadata": {},
   "outputs": [],
   "source": [
    "disagg_tranport = disagg_tranport.groupby(\"NUTS2\").sum().reset_index()"
   ]
  },
  {
   "cell_type": "code",
   "execution_count": null,
   "metadata": {},
   "outputs": [],
   "source": [
    "disagg_tranport_de = disagg_tranport[disagg_tranport[\"NUTS2\"].str.startswith(\"DE\")]\n",
    "disagg_tranport_es = disagg_tranport[disagg_tranport[\"NUTS2\"].str.startswith(\"ES\")]"
   ]
  },
  {
   "cell_type": "code",
   "execution_count": null,
   "metadata": {},
   "outputs": [],
   "source": [
    "edgar = pd.read_excel(\n",
    "       os.path.join( \"..\", \"..\", \"..\", \n",
    "                    \"data\", \n",
    "                    \"validation_data\", \n",
    "                    \"EDGARv8.0_total_GHG_GWP100_AR5_NUTS2_1990_2022.xlsx\"),\n",
    "        sheet_name=\"GHG by NUTS2 and Sector\",\n",
    "        header=0,\n",
    "        index_col=0,\n",
    "    )\n",
    "\n",
    "edgar_transport = edgar[(edgar[\"NUTS 2\"].str.startswith((\"ES\", \"DE\"))) & (edgar[\"Sector\"] == \"Transport\")][[\"NUTS 2\", \"Y_2022\"]].reset_index(drop=True)"
   ]
  },
  {
   "cell_type": "code",
   "execution_count": null,
   "metadata": {},
   "outputs": [],
   "source": [
    "edgar_transport.rename(columns={\"NUTS 2\": \"NUTS2\", \"Y_2022\": \"validation_value\"}, inplace=True)\n",
    "edgar_transport[\"validation_value\"] = edgar_transport[\"validation_value\"] /1000 # kton to Mt"
   ]
  },
  {
   "cell_type": "code",
   "execution_count": null,
   "metadata": {},
   "outputs": [],
   "source": [
    "edgar_transport_de = edgar_transport[edgar_transport[\"NUTS2\"].str.startswith(\"DE\")]\n",
    "edgar_transport_es = edgar_transport[edgar_transport[\"NUTS2\"].str.startswith(\"ES\")]"
   ]
  },
  {
   "cell_type": "code",
   "execution_count": null,
   "metadata": {},
   "outputs": [],
   "source": [
    "set(edgar_transport_de[\"NUTS2\"]) - set(disagg_tranport_de[\"NUTS2\"])"
   ]
  },
  {
   "cell_type": "code",
   "execution_count": null,
   "metadata": {},
   "outputs": [],
   "source": [
    "set(disagg_tranport_de[\"NUTS2\"]) - set(edgar_transport_de[\"NUTS2\"])"
   ]
  },
  {
   "cell_type": "code",
   "execution_count": null,
   "metadata": {},
   "outputs": [],
   "source": [
    "set(edgar_transport_es[\"NUTS2\"]) - set(disagg_tranport_es[\"NUTS2\"])"
   ]
  },
  {
   "cell_type": "code",
   "execution_count": null,
   "metadata": {},
   "outputs": [],
   "source": [
    "set(disagg_tranport_es[\"NUTS2\"]) - set(edgar_transport_es[\"NUTS2\"])"
   ]
  },
  {
   "cell_type": "code",
   "execution_count": null,
   "metadata": {},
   "outputs": [],
   "source": [
    "diff_df = pd.merge(edgar_transport, disagg_tranport, on=\"NUTS2\", how=\"outer\")"
   ]
  },
  {
   "cell_type": "code",
   "execution_count": null,
   "metadata": {},
   "outputs": [],
   "source": [
    "diff_df[\"perct_dev\"] = ((diff_df[\"validation_value\"] - diff_df[\"value\"]) / diff_df[\"validation_value\"]) * 100\n",
    "diff_df[\"abs_perct_dev\"] = abs((diff_df[\"validation_value\"] - diff_df[\"value\"]) / diff_df[\"validation_value\"]) * 100"
   ]
  },
  {
   "cell_type": "code",
   "execution_count": null,
   "metadata": {},
   "outputs": [],
   "source": [
    "diff_df = pd.merge(diff_df, nuts2, left_on=\"NUTS2\", right_on = \"code\", how=\"outer\")"
   ]
  },
  {
   "cell_type": "code",
   "execution_count": null,
   "metadata": {},
   "outputs": [],
   "source": [
    "diff_df"
   ]
  },
  {
   "cell_type": "code",
   "execution_count": null,
   "metadata": {},
   "outputs": [],
   "source": [
    "diff_df.loc[diff_df['NUTS2'] == \"ES70\", 'name'] = 'Canaries'"
   ]
  },
  {
   "cell_type": "code",
   "execution_count": null,
   "metadata": {},
   "outputs": [],
   "source": [
    "diff_df_de = diff_df[diff_df[\"NUTS2\"].str.startswith(\"DE\")]\n",
    "diff_df_es = diff_df[diff_df[\"NUTS2\"].str.startswith(\"ES\")]"
   ]
  },
  {
   "cell_type": "code",
   "execution_count": null,
   "metadata": {},
   "outputs": [],
   "source": [
    "diff_df_de.sort_values(\"abs_perct_dev\")"
   ]
  },
  {
   "cell_type": "code",
   "execution_count": null,
   "metadata": {},
   "outputs": [],
   "source": [
    "len(diff_df_de[diff_df_de[\"abs_perct_dev\"] <=20])"
   ]
  },
  {
   "cell_type": "code",
   "execution_count": null,
   "metadata": {},
   "outputs": [],
   "source": [
    "len(diff_df_de)"
   ]
  },
  {
   "cell_type": "code",
   "execution_count": null,
   "metadata": {},
   "outputs": [],
   "source": [
    "38-16"
   ]
  },
  {
   "cell_type": "code",
   "execution_count": null,
   "metadata": {},
   "outputs": [],
   "source": [
    "diff_df_es.sort_values(\"abs_perct_dev\")"
   ]
  },
  {
   "cell_type": "code",
   "execution_count": null,
   "metadata": {},
   "outputs": [],
   "source": [
    "len(diff_df_es[diff_df_es[\"abs_perct_dev\"] <=20])"
   ]
  },
  {
   "cell_type": "code",
   "execution_count": null,
   "metadata": {},
   "outputs": [],
   "source": []
  },
  {
   "cell_type": "code",
   "execution_count": null,
   "metadata": {},
   "outputs": [],
   "source": [
    "fig = plt.figure(figsize=(13, 10))\n",
    "gs = fig.add_gridspec(9, 1, wspace=0.1, hspace=0)\n",
    "\n",
    "# Germany - Deviations --------\n",
    "ax1 = plt.subplot(gs[:3, :])\n",
    "\n",
    "ax1.stem(diff_df_de['name'], diff_df_de['validation_value'], linefmt='b-', markerfmt='bo', basefmt=\" \", label='EDGAR value')\n",
    "ax1.stem(diff_df_de['name'], diff_df_de['value'], linefmt='r-', markerfmt='ro', basefmt=\" \", label='Disaggregated value')\n",
    "\n",
    "ax1.set_title(\"Germany\")\n",
    "ax1.set_ylabel('Emissions\\n(kt CO2 equivalent)')\n",
    "ax1.set_xticks([])        # Removes tick marks\n",
    "ax1.set_xticklabels([])   # Removes tick labels\n",
    "plt.grid(True, linestyle='--', alpha=0.6)\n",
    "plt.legend(loc=\"upper right\")\n",
    "# Germany - Percentage deviation  --------\n",
    "ax2 = plt.subplot(gs[3:4, :])\n",
    "\n",
    "ax2.stem(diff_df_de['name'], diff_df_de['perct_dev'], linefmt='k-', markerfmt='ko', basefmt=\" \", label='Percentage deviation')\n",
    "\n",
    "ax2.set_ylabel('Percentage\\ndeviation')\n",
    "plt.xticks(rotation=45, ha=\"right\") \n",
    "plt.grid(True, linestyle='--', alpha=0.6)\n",
    "\n",
    "# Spain - Deviations --------\n",
    "ax3 = plt.subplot(gs[6:8, :])\n",
    "\n",
    "ax3.stem(diff_df_es['name'], diff_df_es['validation_value'], linefmt='b-', markerfmt='bo', basefmt=\" \", label='EDGAR value')\n",
    "ax3.stem(diff_df_es['name'], diff_df_es['value'],linefmt='r-', markerfmt='ro', basefmt=\" \",  label='Disaggregated value')\n",
    "\n",
    "ax3.set_title(\"Spain\")\n",
    "ax3.set_ylabel('Emissions\\n(kt CO2 equivalent)')\n",
    "ax3.set_xticks([])        # Removes tick marks\n",
    "ax3.set_xticklabels([])   # Removes tick labels\n",
    "plt.grid(True, linestyle='--', alpha=0.6)\n",
    "plt.legend(loc=\"upper right\")\n",
    "# Germany - Percentage deviation  --------\n",
    "ax4 = plt.subplot(gs[8:, :])\n",
    "\n",
    "ax4.stem(diff_df_es['name'], diff_df_es['perct_dev'], linefmt='k-', markerfmt='ko', basefmt=\" \", label='Percentage deviation')\n",
    "\n",
    "ax4.set_ylabel('Percentage\\ndeviation')\n",
    "plt.xticks(rotation=45, ha=\"right\") \n",
    "plt.grid(True, linestyle='--', alpha=0.6)\n",
    "ax4.set_xlabel('Region name')\n",
    "\n",
    "\n",
    "plt.savefig(os.path.join(\"..\", \"..\",  \"..\", \"figures\", \"disaggregation_validation\", \n",
    "                            f\"edgar_transport.png\"), \n",
    "                            bbox_inches='tight')  # Save the figure as a PNG file\n"
   ]
  },
  {
   "cell_type": "code",
   "execution_count": null,
   "metadata": {},
   "outputs": [],
   "source": []
  }
 ],
 "metadata": {
  "language_info": {
   "name": "python"
  }
 },
 "nbformat": 4,
 "nbformat_minor": 2
}
