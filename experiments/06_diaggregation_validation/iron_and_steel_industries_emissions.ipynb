{
 "cells": [
  {
   "cell_type": "code",
   "execution_count": null,
   "metadata": {},
   "outputs": [],
   "source": [
    "import os \n",
    "\n",
    "import pandas as pd\n",
    "import geopandas as gpd\n",
    "from energyemissionsregio.config import DATA_PATH, SHP_PATH\n",
    "from energyemissionsregio.utils import solve_proxy_equation, get_proxy_var_list\n",
    "from energyemissionsregio.disaggregation import perform_proxy_based_disaggregation\n",
    "from energyemissionsregio.plotting_functions import plot_validation_data\n",
    "from sklearn.metrics import mean_squared_error"
   ]
  },
  {
   "cell_type": "code",
   "execution_count": null,
   "metadata": {},
   "outputs": [],
   "source": [
    "%load_ext autoreload\n",
    "%autoreload 2"
   ]
  },
  {
   "cell_type": "code",
   "execution_count": null,
   "metadata": {},
   "outputs": [],
   "source": [
    "cwd = os.getcwd()"
   ]
  },
  {
   "cell_type": "code",
   "execution_count": null,
   "metadata": {},
   "outputs": [],
   "source": [
    "nuts2_shp = gpd.read_file(os.path.join(SHP_PATH, \"NUTS2.shp\"))\n",
    "nuts2_shp = nuts2_shp[nuts2_shp[\"code\"].str.startswith((\"DE\", \"ES\"))]"
   ]
  },
  {
   "cell_type": "markdown",
   "metadata": {},
   "source": [
    "### Iron and steel industries emissions (Eurostat)"
   ]
  },
  {
   "cell_type": "code",
   "execution_count": null,
   "metadata": {},
   "outputs": [],
   "source": [
    "eurostat_data_nuts0 = pd.read_csv(os.path.join(DATA_PATH, \"ghg_emissions_from_fc_in_iron_and_steel_industries.csv\"))\n",
    "eurostat_data_nuts0 = eurostat_data_nuts0[eurostat_data_nuts0[\"region_code\"].str.startswith((\"DE\", \"ES\"))][\n",
    "    [\"region_code\", \"value\"]].copy()"
   ]
  },
  {
   "cell_type": "code",
   "execution_count": null,
   "metadata": {},
   "outputs": [],
   "source": [
    "eurostat_data_nuts0"
   ]
  },
  {
   "cell_type": "markdown",
   "metadata": {},
   "source": [
    "### EDGAR data"
   ]
  },
  {
   "cell_type": "code",
   "execution_count": null,
   "metadata": {},
   "outputs": [],
   "source": [
    "validation_data = pd.read_csv(os.path.join(cwd, \"..\", \"..\", \"data\", \n",
    "                                           \"validation_data\", \"iron_and_steel_emissions_EDGAR.csv\"))\n",
    "\n",
    "validation_data = validation_data[validation_data[\"code\"].str.startswith((\"DE\", \"ES\"))][\n",
    "    [\"code\", \"_sum\"]].copy()\n",
    "\n",
    "validation_data.rename(columns={\"code\": \"region_code\", \"_sum\": \"value\"}, inplace=True)\n",
    "\n",
    "validation_data[\"value\"] = validation_data[\"value\"]"
   ]
  },
  {
   "cell_type": "code",
   "execution_count": null,
   "metadata": {},
   "outputs": [],
   "source": [
    "target_data = validation_data.copy()\n",
    "target_data[\"region_code\"] = target_data[\"region_code\"].str[:2]\n",
    "\n",
    "target_data = target_data.groupby(\"region_code\").sum().reset_index()"
   ]
  },
  {
   "cell_type": "code",
   "execution_count": null,
   "metadata": {},
   "outputs": [],
   "source": [
    "target_data[\"value_confidence_level\"] = 5"
   ]
  },
  {
   "cell_type": "markdown",
   "metadata": {},
   "source": [
    "difference between the Eurostat data disaggregated and hotmaps data used for validation of disaggregation "
   ]
  },
  {
   "cell_type": "code",
   "execution_count": null,
   "metadata": {},
   "outputs": [],
   "source": [
    "diff_df = pd.merge(eurostat_data_nuts0, target_data, on=\"region_code\", suffixes=(\"_eurostat\", \"_edgar\"))\n",
    "\n",
    "diff_df[\"value_edgar\"] = diff_df[\"value_edgar\"]/1e6 # Tonnes to Mt\n",
    "\n",
    "diff_df[\"diff\"] = diff_df[\"value_eurostat\"] - diff_df[\"value_edgar\"]\n",
    "\n",
    "diff_df"
   ]
  },
  {
   "cell_type": "code",
   "execution_count": null,
   "metadata": {},
   "outputs": [],
   "source": [
    "proxy_equation = \"number_of_iron_and_steel_industries\""
   ]
  },
  {
   "cell_type": "code",
   "execution_count": null,
   "metadata": {},
   "outputs": [],
   "source": [
    "# read in proxy data \n",
    "proxy_var_list = get_proxy_var_list(proxy_equation)\n",
    "\n",
    "proxy_data_dict = {}\n",
    "for proxy_var in proxy_var_list:\n",
    "    if os.path.exists(os.path.join(cwd, \"..\", \"..\", \"data\", \"disaggregated_data\", f\"{proxy_var}.csv\")):\n",
    "        proxy_data = pd.read_csv(os.path.join(cwd, \"..\", \"..\", \"data\", \"disaggregated_data\", f\"{proxy_var}.csv\"))\n",
    "    else:\n",
    "        proxy_data = pd.read_csv(os.path.join(DATA_PATH, f\"{proxy_var}.csv\"))\n",
    "        proxy_data[\"value_confidence_level\"] = 5\n",
    "\n",
    "    proxy_data = proxy_data[proxy_data[\"region_code\"].str.startswith((\"DE\", \"ES\"))][[\"region_code\", \n",
    "                                                                                     \"value\", \n",
    "                                                                                     \"value_confidence_level\"]].copy()\n",
    "\n",
    "    proxy_data[\"value\"] = proxy_data[\"value\"].fillna(0)\n",
    "    proxy_data_dict.update({proxy_var: proxy_data})\n",
    "\n",
    "solved_proxy_data = solve_proxy_equation(proxy_equation, proxy_data_dict)\n",
    "\n",
    "disagg_data = perform_proxy_based_disaggregation(target_data, solved_proxy_data, \"NUTS0\", 5)"
   ]
  },
  {
   "cell_type": "code",
   "execution_count": null,
   "metadata": {},
   "outputs": [],
   "source": [
    "disagg_data[\"NUTS2\"] = disagg_data[\"region_code\"].str[:4]\n",
    "\n",
    "disagg_data_nuts2 = disagg_data[[\"NUTS2\", \"value\"]].copy()\n",
    "disagg_data_nuts2.rename(columns={\"NUTS2\": \"region_code\"}, inplace = True)\n",
    "disagg_data_nuts2 = disagg_data_nuts2.groupby(\"region_code\").sum().reset_index()"
   ]
  },
  {
   "cell_type": "code",
   "execution_count": null,
   "metadata": {},
   "outputs": [],
   "source": [
    "# calulate RMSE and country total -------------\n",
    "merged_df_mae = pd.merge(validation_data, disagg_data_nuts2, on = \"region_code\", how=\"outer\", suffixes=(\"_true\", \"_disagg\"))\n",
    "\n",
    "# merged_df_mae[\"value_true\"] = merged_df_mae[\"value_true\"] / 1e6 # tonnes to Mt\n",
    "# merged_df_mae[\"value_disagg\"] = merged_df_mae[\"value_disagg\"] / 1e6 # tonnes to Mt\n",
    "\n",
    "true_values_de = merged_df_mae[merged_df_mae[\"region_code\"].str.startswith(\"DE\")][\"value_true\"]\n",
    "disagg_values_de = merged_df_mae[merged_df_mae[\"region_code\"].str.startswith(\"DE\")][\"value_disagg\"]\n",
    "\n",
    "true_values_es = merged_df_mae[merged_df_mae[\"region_code\"].str.startswith(\"ES\")][\"value_true\"]\n",
    "disagg_values_es = merged_df_mae[merged_df_mae[\"region_code\"].str.startswith(\"ES\")][\"value_disagg\"]\n",
    "\n",
    "rmse_de = mean_squared_error(true_values_de, disagg_values_de, squared=False).round(2)\n",
    "rmse_es = mean_squared_error(true_values_es, disagg_values_es, squared=False).round(2)\n"
   ]
  },
  {
   "cell_type": "code",
   "execution_count": null,
   "metadata": {},
   "outputs": [],
   "source": [
    "# validation_data[\"value\"] = validation_data[\"value\"] / 1e6 # tonnes to Mt\n",
    "# disagg_data_nuts2[\"value\"] = disagg_data_nuts2[\"value\"] / 1e6 # tonnes to Mt"
   ]
  },
  {
   "cell_type": "code",
   "execution_count": null,
   "metadata": {},
   "outputs": [],
   "source": [
    "fig_path = os.path.join(\"..\", \"..\", \"figures\",\n",
    "                         \"disaggregation_validation\", \n",
    "                        \"validation_iron_and_steel_industries_emissions.png\")\n",
    "\n",
    "plot_validation_data(validation_data, disagg_data_nuts2, \n",
    "                     nuts2_shp, \n",
    "                     rmse_de, rmse_es, \"tonnes\", \"EDGAR\", \"log\", fig_path)"
   ]
  },
  {
   "cell_type": "code",
   "execution_count": null,
   "metadata": {},
   "outputs": [],
   "source": []
  }
 ],
 "metadata": {
  "language_info": {
   "name": "python"
  }
 },
 "nbformat": 4,
 "nbformat_minor": 2
}
