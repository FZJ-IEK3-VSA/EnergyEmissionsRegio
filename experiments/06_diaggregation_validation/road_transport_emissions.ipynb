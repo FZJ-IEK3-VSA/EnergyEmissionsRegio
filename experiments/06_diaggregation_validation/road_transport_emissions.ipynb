{
 "cells": [
  {
   "cell_type": "code",
   "execution_count": null,
   "metadata": {},
   "outputs": [],
   "source": [
    "import os \n",
    "\n",
    "import pandas as pd\n",
    "import geopandas as gpd\n",
    "from energyemissionsregio.config import DATA_PATH, SHP_PATH\n",
    "from energyemissionsregio.utils import solve_proxy_equation, get_proxy_var_list\n",
    "from energyemissionsregio.disaggregation import perform_proxy_based_disaggregation\n",
    "from energyemissionsregio.plotting_functions import plot_validation_data\n",
    "from sklearn.metrics import mean_squared_error"
   ]
  },
  {
   "cell_type": "code",
   "execution_count": null,
   "metadata": {},
   "outputs": [],
   "source": [
    "cwd = os.getcwd()"
   ]
  },
  {
   "cell_type": "code",
   "execution_count": null,
   "metadata": {},
   "outputs": [],
   "source": [
    "nuts2_shp = gpd.read_file(os.path.join(SHP_PATH, \"NUTS2.shp\"))\n",
    "nuts2_shp = nuts2_shp[nuts2_shp[\"code\"].str.startswith((\"DE\", \"ES\"))]"
   ]
  },
  {
   "cell_type": "markdown",
   "metadata": {},
   "source": [
    "### Eurostat data"
   ]
  },
  {
   "cell_type": "code",
   "execution_count": null,
   "metadata": {},
   "outputs": [],
   "source": [
    "eurostat_data_nuts0 = None\n",
    "for road_transport_var in [\"ghg_emissions_from_fc_in_road_transport_using_light_duty_trucks\",\n",
    "                           \"ghg_emissions_from_fc_in_road_transport_using_heavy_duty_trucks_and_buses\",\n",
    "                           \"ghg_emissions_from_fc_in_road_transport_using_cars\",\n",
    "                           \"ghg_emissions_from_fc_in_road_transport_using_motorcycles\"\n",
    "                           ]:\n",
    "    data_df = pd.read_csv(os.path.join(DATA_PATH, f\"{road_transport_var}.csv\"))\n",
    "    data_df.drop(columns=[\"year\"], inplace=True)\n",
    "\n",
    "    if eurostat_data_nuts0 is None:\n",
    "        eurostat_data_nuts0 = data_df\n",
    "    else:\n",
    "        eurostat_data_nuts0 = pd.merge(eurostat_data_nuts0, data_df, on=\"region_code\", how=\"inner\")\n",
    "        eurostat_data_nuts0[\"value\"] = eurostat_data_nuts0[\"value_x\"] + eurostat_data_nuts0[\"value_y\"]\n",
    "        eurostat_data_nuts0.drop(columns=[\"value_x\", \"value_y\"], inplace=True)"
   ]
  },
  {
   "cell_type": "code",
   "execution_count": null,
   "metadata": {},
   "outputs": [],
   "source": [
    "eurostat_data_nuts0 = eurostat_data_nuts0[eurostat_data_nuts0[\"region_code\"].str.startswith((\"DE\", \"ES\"))][\n",
    "    [\"region_code\", \"value\"]].copy()"
   ]
  },
  {
   "cell_type": "code",
   "execution_count": null,
   "metadata": {},
   "outputs": [],
   "source": [
    "eurostat_data_nuts0"
   ]
  },
  {
   "cell_type": "markdown",
   "metadata": {},
   "source": [
    "### EDGAR data"
   ]
  },
  {
   "cell_type": "code",
   "execution_count": null,
   "metadata": {},
   "outputs": [],
   "source": [
    "validation_data = pd.read_csv(os.path.join(cwd, \"..\", \"..\", \"data\", \n",
    "                                           \"validation_data\", \"transport_emissions_EDGAR.csv\"))\n",
    "\n",
    "validation_data = validation_data[validation_data[\"code\"].str.startswith((\"DE\", \"ES\"))][\n",
    "    [\"code\", \"_sum\"]].copy()\n",
    "\n",
    "validation_data.rename(columns={\"code\": \"region_code\", \"_sum\": \"value\"}, inplace=True)\n",
    "\n",
    "validation_data[\"value\"] = validation_data[\"value\"]"
   ]
  },
  {
   "cell_type": "code",
   "execution_count": null,
   "metadata": {},
   "outputs": [],
   "source": [
    "target_data = validation_data.copy()\n",
    "target_data[\"region_code\"] = target_data[\"region_code\"].str[:2]\n",
    "\n",
    "target_data = target_data.groupby(\"region_code\").sum().reset_index()"
   ]
  },
  {
   "cell_type": "code",
   "execution_count": null,
   "metadata": {},
   "outputs": [],
   "source": [
    "target_data[\"value_confidence_level\"] = 5"
   ]
  },
  {
   "cell_type": "markdown",
   "metadata": {},
   "source": [
    "difference between the Eurostat data disaggregated and hotmaps data used for validation of disaggregation "
   ]
  },
  {
   "cell_type": "code",
   "execution_count": null,
   "metadata": {},
   "outputs": [],
   "source": [
    "diff_df = pd.merge(eurostat_data_nuts0, target_data, on=\"region_code\", suffixes=(\"_eurostat\", \"_edgar\"))\n",
    "\n",
    "diff_df[\"value_edgar\"] = diff_df[\"value_edgar\"]/1000000 # Tonnes to Mt\n",
    "\n",
    "diff_df[\"diff\"] = diff_df[\"value_eurostat\"] - diff_df[\"value_edgar\"]\n",
    "\n",
    "diff_df"
   ]
  },
  {
   "cell_type": "markdown",
   "metadata": {},
   "source": [
    "### Disaggregation of EDGAR data"
   ]
  },
  {
   "cell_type": "code",
   "execution_count": null,
   "metadata": {},
   "outputs": [],
   "source": [
    "proxy_equations = {\n",
    "    \"DE\": \"road_transport_of_freight + \\\n",
    "            (3.83 * de_number_of_passenger_cars_emission_group_euro_1) + \\\n",
    "            (1.78 * de_number_of_passenger_cars_emission_group_euro_2) +\\\n",
    "            (1.25 * de_number_of_passenger_cars_emission_group_euro_3) + \\\n",
    "            (0.825 * de_number_of_passenger_cars_emission_group_euro_4) +\\\n",
    "            (0.735 * de_number_of_passenger_cars_emission_group_euro_5) +\\\n",
    "            (0.6745 * de_number_of_passenger_cars_emission_group_euro_6r) + \\\n",
    "            (0.6745 * de_number_of_passenger_cars_emission_group_euro_6dt) + \\\n",
    "            (0.6745 * de_number_of_passenger_cars_emission_group_euro_6d) +\\\n",
    "            (3.83 * de_number_of_passenger_cars_emission_group_euro_other) + \\\n",
    "            number_of_motorcycles\",\n",
    "\n",
    "  \"ES\": \"road_transport_of_freight + \\\n",
    "        es_average_daily_traffic_light_duty_vehicles + \\\n",
    "        number_of_motorcycles\",}"
   ]
  },
  {
   "cell_type": "code",
   "execution_count": null,
   "metadata": {},
   "outputs": [],
   "source": [
    "disagg_data_list = []\n",
    "\n",
    "for country in [\"DE\", \"ES\"]:\n",
    "    sub_target_data = target_data[target_data[\"region_code\"] == country].copy()\n",
    "\n",
    "    proxy_equation = proxy_equations[country]\n",
    "\n",
    "    proxy_var_list = get_proxy_var_list(proxy_equation)\n",
    "\n",
    "    proxy_data_dict = {}\n",
    "    for proxy_var in proxy_var_list:\n",
    "        if os.path.exists(os.path.join(cwd, \"..\", \"..\", \"data\", \"disaggregated_data\", f\"{proxy_var}.csv\")):\n",
    "            proxy_data = pd.read_csv(os.path.join(cwd, \"..\", \"..\", \"data\", \"disaggregated_data\", f\"{proxy_var}.csv\"))\n",
    "        else:\n",
    "            proxy_data = pd.read_csv(os.path.join(DATA_PATH, f\"{proxy_var}.csv\"))\n",
    "        \n",
    "        proxy_data[\"value_confidence_level\"] = 5\n",
    "\n",
    "        proxy_data = proxy_data[proxy_data[\"region_code\"].str.startswith((\"DE\", \"ES\"))][[\"region_code\", \n",
    "                                                                                        \"value\", \n",
    "                                                                                        \"value_confidence_level\"]].copy()\n",
    "\n",
    "        proxy_data[\"value\"] = proxy_data[\"value\"].fillna(0)\n",
    "        proxy_data_dict.update({proxy_var: proxy_data})\n",
    "\n",
    "    solved_proxy_data = solve_proxy_equation(proxy_equation, proxy_data_dict)\n",
    "\n",
    "    disagg_data = perform_proxy_based_disaggregation(sub_target_data, solved_proxy_data, \"NUTS0\", 5)\n",
    "\n",
    "    disagg_data_list.append(disagg_data)"
   ]
  },
  {
   "cell_type": "code",
   "execution_count": null,
   "metadata": {},
   "outputs": [],
   "source": [
    "disagg_data = pd.concat(disagg_data_list)"
   ]
  },
  {
   "cell_type": "code",
   "execution_count": null,
   "metadata": {},
   "outputs": [],
   "source": [
    "disagg_data[\"NUTS2\"] = disagg_data[\"region_code\"].str[:4]\n",
    "\n",
    "disagg_data_nuts2 = disagg_data[[\"NUTS2\", \"value\"]].copy()\n",
    "disagg_data_nuts2.rename(columns={\"NUTS2\": \"region_code\"}, inplace = True)\n",
    "disagg_data_nuts2 = disagg_data_nuts2.groupby(\"region_code\").sum().reset_index()"
   ]
  },
  {
   "cell_type": "code",
   "execution_count": null,
   "metadata": {},
   "outputs": [],
   "source": [
    "# calulate RMSE and country total -------------\n",
    "merged_df_mae = pd.merge(validation_data, disagg_data_nuts2, on = \"region_code\", how=\"outer\", suffixes=(\"_true\", \"_disagg\"))\n",
    "\n",
    "true_values_de = merged_df_mae[merged_df_mae[\"region_code\"].str.startswith(\"DE\")][\"value_true\"]\n",
    "disagg_values_de = merged_df_mae[merged_df_mae[\"region_code\"].str.startswith(\"DE\")][\"value_disagg\"]\n",
    "\n",
    "true_values_es = merged_df_mae[merged_df_mae[\"region_code\"].str.startswith(\"ES\")][\"value_true\"]\n",
    "disagg_values_es = merged_df_mae[merged_df_mae[\"region_code\"].str.startswith(\"ES\")][\"value_disagg\"]\n",
    "\n",
    "rmse_de = mean_squared_error(true_values_de, disagg_values_de, squared=False).round(2)\n",
    "rmse_es = mean_squared_error(true_values_es, disagg_values_es, squared=False).round(2)\n"
   ]
  },
  {
   "cell_type": "code",
   "execution_count": null,
   "metadata": {},
   "outputs": [],
   "source": [
    "rmse_de = \"1.53e6\"\n",
    "rmse_es = \"2.59e6\""
   ]
  },
  {
   "cell_type": "code",
   "execution_count": null,
   "metadata": {},
   "outputs": [],
   "source": [
    "de_total = \"152.99e6\"\n",
    "es_total = \"81.09e6\""
   ]
  },
  {
   "cell_type": "code",
   "execution_count": null,
   "metadata": {},
   "outputs": [],
   "source": [
    "fig_path = os.path.join(\"..\", \"..\", \"figures\", \n",
    "                        \"disaggregation_validation\", \n",
    "                        \"validation_road_transport_emissions.png\")\n",
    "\n",
    "plot_validation_data(validation_data, disagg_data_nuts2, \n",
    "                     nuts2_shp, de_total, es_total, \n",
    "                     rmse_de, rmse_es, \"tonnes\", \"EDGAR\", fig_path)"
   ]
  },
  {
   "cell_type": "code",
   "execution_count": null,
   "metadata": {},
   "outputs": [],
   "source": []
  }
 ],
 "metadata": {
  "language_info": {
   "name": "python"
  }
 },
 "nbformat": 4,
 "nbformat_minor": 2
}
