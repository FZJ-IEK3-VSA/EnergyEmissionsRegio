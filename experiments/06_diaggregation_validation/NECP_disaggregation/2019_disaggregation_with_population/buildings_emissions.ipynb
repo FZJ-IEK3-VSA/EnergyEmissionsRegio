{
 "cells": [
  {
   "cell_type": "code",
   "execution_count": null,
   "metadata": {},
   "outputs": [],
   "source": [
    "import os\n",
    "import pandas as pd\n",
    "from RegionData.data.constants import IMPORTED_DATA_PATH"
   ]
  },
  {
   "cell_type": "code",
   "execution_count": null,
   "metadata": {},
   "outputs": [],
   "source": [
    "# https://ec.europa.eu/eurostat/databrowser/view/env_air_gge__custom_15831997/default/table?lang=en\n",
    "# https://ec.europa.eu/eurostat/databrowser/view/env_air_gge__custom_15832039/default/table?lang=en\n",
    "\n",
    "# Unit - kt\n",
    "national_households_de_2019 = 95420.04\n",
    "national_commerce_de_2019 = 26015.48\n",
    "\n",
    "national_households_es_2019 = 16032.71\n",
    "national_commerce_es_2019 = 9554.94"
   ]
  },
  {
   "cell_type": "code",
   "execution_count": null,
   "metadata": {},
   "outputs": [],
   "source": [
    "national_buildings_de_2019 = national_households_de_2019 + national_commerce_de_2019\n",
    "national_buildings_es_2019 = national_households_es_2019 + national_commerce_es_2019"
   ]
  },
  {
   "cell_type": "code",
   "execution_count": null,
   "metadata": {},
   "outputs": [],
   "source": [
    "population = pd.read_csv(os.path.join(IMPORTED_DATA_PATH, \"collected_data\", \"population.csv\"))"
   ]
  },
  {
   "cell_type": "code",
   "execution_count": null,
   "metadata": {},
   "outputs": [],
   "source": [
    "disagg_buildings_de_2019 = population[population[\"region_code\"].str.startswith(\"DE\")].copy()\n",
    "disagg_buildings_es_2019 = population[population[\"region_code\"].str.startswith(\"ES\")].copy()"
   ]
  },
  {
   "cell_type": "code",
   "execution_count": null,
   "metadata": {},
   "outputs": [],
   "source": [
    "disagg_buildings_de_2019[\"share\"] = disagg_buildings_de_2019[\"value\"] / disagg_buildings_de_2019[\"value\"].sum()\n",
    "disagg_buildings_es_2019[\"share\"] = disagg_buildings_es_2019[\"value\"] / disagg_buildings_es_2019[\"value\"].sum()"
   ]
  },
  {
   "cell_type": "code",
   "execution_count": null,
   "metadata": {},
   "outputs": [],
   "source": [
    "disagg_buildings_de_2019[\"value\"] = disagg_buildings_de_2019[\"share\"] * national_buildings_de_2019\n",
    "disagg_buildings_es_2019[\"value\"] = disagg_buildings_es_2019[\"share\"] * national_buildings_es_2019"
   ]
  },
  {
   "cell_type": "code",
   "execution_count": null,
   "metadata": {},
   "outputs": [],
   "source": [
    "code_name_mapping = {\"ES300_28079\": \"Madrid\",\n",
    "                    \"ES418_47186\": \"Valladolid\",\n",
    "                   \"ES523_46250\":  \"València\",\n",
    "                    \"ES211_01059\": \"Vitoria-Gasteiz\",\n",
    "                   \"ES243_50297\":  \"Zaragoza\",\n",
    "                    \"ES618_41091\": \"Sevilla\",\n",
    "                    \"ES511_08019\": \"Barcelona\", \n",
    "                    \"DE125_08221000\": \"Heidelberg\"}"
   ]
  },
  {
   "cell_type": "code",
   "execution_count": null,
   "metadata": {},
   "outputs": [],
   "source": [
    "disagg_values = disagg_buildings_es_2019[disagg_buildings_es_2019[\"region_code\"].isin(code_name_mapping.keys())]"
   ]
  },
  {
   "cell_type": "code",
   "execution_count": null,
   "metadata": {},
   "outputs": [],
   "source": [
    "disagg_values[\"region_name\"] = disagg_values[\"region_code\"].map(code_name_mapping)"
   ]
  },
  {
   "cell_type": "code",
   "execution_count": null,
   "metadata": {},
   "outputs": [],
   "source": [
    "disagg_values[[\"value\", \"region_name\"]]"
   ]
  },
  {
   "cell_type": "code",
   "execution_count": null,
   "metadata": {},
   "outputs": [],
   "source": [
    "disagg_buildings_de_2019[disagg_buildings_de_2019[\"region_code\"] == \"DE125_08221000\"]"
   ]
  },
  {
   "cell_type": "code",
   "execution_count": null,
   "metadata": {},
   "outputs": [],
   "source": []
  }
 ],
 "metadata": {
  "language_info": {
   "name": "python"
  }
 },
 "nbformat": 4,
 "nbformat_minor": 2
}
