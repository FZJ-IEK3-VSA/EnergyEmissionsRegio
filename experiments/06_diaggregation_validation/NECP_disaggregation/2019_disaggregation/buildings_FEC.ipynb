{
 "cells": [
  {
   "cell_type": "code",
   "execution_count": null,
   "metadata": {},
   "outputs": [],
   "source": [
    "import geopandas as gpd\n",
    "import pandas as pd"
   ]
  },
  {
   "cell_type": "code",
   "execution_count": null,
   "metadata": {},
   "outputs": [],
   "source": [
    "# https://ec.europa.eu/eurostat/databrowser/view/nrg_bal_c__custom_15821806/default/table?lang=en\n",
    "# Unit - MWh\n",
    "national_households_de_2019 = 671551434\n",
    "\n",
    "national_households_es_2019 = 167999094"
   ]
  },
  {
   "cell_type": "code",
   "execution_count": null,
   "metadata": {},
   "outputs": [],
   "source": [
    "disagg_households_2022 = pd.read_csv(r\"C:\\Users\\s.patil\\OneDrive - Forschungszentrum Jülich GmbH\\Documents\\code\\EnergyEmissionsRegio\\data\\disaggregated_data\\FEC\\final_energy_consumption_in_households.csv\")"
   ]
  },
  {
   "cell_type": "code",
   "execution_count": null,
   "metadata": {},
   "outputs": [],
   "source": [
    "disagg_households_de_2019 = disagg_households_2022[disagg_households_2022[\"region_code\"].str.startswith(\"DE\")].copy()\n",
    "disagg_households_es_2019 = disagg_households_2022[disagg_households_2022[\"region_code\"].str.startswith(\"ES\")].copy()"
   ]
  },
  {
   "cell_type": "code",
   "execution_count": null,
   "metadata": {},
   "outputs": [],
   "source": [
    "disagg_households_de_2019[\"share\"] = disagg_households_de_2019[\"value\"] / disagg_households_de_2019[\"value\"].sum()\n",
    "disagg_households_es_2019[\"share\"] = disagg_households_es_2019[\"value\"] / disagg_households_es_2019[\"value\"].sum()"
   ]
  },
  {
   "cell_type": "code",
   "execution_count": null,
   "metadata": {},
   "outputs": [],
   "source": [
    "disagg_households_de_2019[\"value\"] = disagg_households_de_2019[\"share\"] * national_households_de_2019\n",
    "disagg_households_es_2019[\"value\"] = disagg_households_es_2019[\"share\"] * national_households_es_2019"
   ]
  },
  {
   "cell_type": "code",
   "execution_count": null,
   "metadata": {},
   "outputs": [],
   "source": [
    "disagg_households_de_2019 = disagg_households_de_2019[[\"region_code\", \"value\"]].copy()\n",
    "disagg_households_es_2019 = disagg_households_es_2019[[\"region_code\", \"value\"]].copy()"
   ]
  },
  {
   "cell_type": "code",
   "execution_count": null,
   "metadata": {},
   "outputs": [],
   "source": [
    "national_commerce_de_2019 = 320217678\n",
    "\n",
    "national_commerce_es_2019 = 120329115"
   ]
  },
  {
   "cell_type": "code",
   "execution_count": null,
   "metadata": {},
   "outputs": [],
   "source": [
    "disagg_commerce_2022  = pd.read_csv(r\"C:\\Users\\s.patil\\OneDrive - Forschungszentrum Jülich GmbH\\Documents\\code\\EnergyEmissionsRegio\\data\\disaggregated_data\\FEC\\final_energy_consumption_in_commerce.csv\")"
   ]
  },
  {
   "cell_type": "code",
   "execution_count": null,
   "metadata": {},
   "outputs": [],
   "source": [
    "disagg_commerce_de_2019 = disagg_commerce_2022[disagg_commerce_2022[\"region_code\"].str.startswith(\"DE\")].copy()\n",
    "disagg_commerce_es_2019 = disagg_commerce_2022[disagg_commerce_2022[\"region_code\"].str.startswith(\"ES\")].copy()"
   ]
  },
  {
   "cell_type": "code",
   "execution_count": null,
   "metadata": {},
   "outputs": [],
   "source": [
    "disagg_commerce_de_2019[\"share\"] = disagg_commerce_de_2019[\"value\"] / disagg_commerce_de_2019[\"value\"].sum()\n",
    "disagg_commerce_es_2019[\"share\"] = disagg_commerce_es_2019[\"value\"] / disagg_commerce_es_2019[\"value\"].sum()"
   ]
  },
  {
   "cell_type": "code",
   "execution_count": null,
   "metadata": {},
   "outputs": [],
   "source": [
    "disagg_commerce_de_2019[\"value\"] = disagg_commerce_de_2019[\"share\"] * national_commerce_de_2019\n",
    "disagg_commerce_es_2019[\"value\"] = disagg_commerce_es_2019[\"share\"] * national_commerce_es_2019"
   ]
  },
  {
   "cell_type": "code",
   "execution_count": null,
   "metadata": {},
   "outputs": [],
   "source": [
    "disagg_commerce_de_2019 = disagg_commerce_de_2019[[\"region_code\", \"value\"]].copy()\n",
    "disagg_commerce_es_2019 = disagg_commerce_es_2019[[\"region_code\", \"value\"]].copy()"
   ]
  },
  {
   "cell_type": "code",
   "execution_count": null,
   "metadata": {},
   "outputs": [],
   "source": [
    "disagg_buildings_de_2019 = pd.merge(disagg_households_de_2019, disagg_commerce_de_2019, on=\"region_code\")\n",
    "disagg_buildings_de_2019[\"value\"] = disagg_buildings_de_2019[\"value_x\"]  + disagg_buildings_de_2019[\"value_y\"] \n",
    "\n",
    "disagg_buildings_es_2019 = pd.merge(disagg_households_es_2019, disagg_commerce_es_2019, on=\"region_code\")\n",
    "disagg_buildings_es_2019[\"value\"] = disagg_buildings_es_2019[\"value_x\"]  + disagg_buildings_es_2019[\"value_y\"] "
   ]
  },
  {
   "cell_type": "code",
   "execution_count": null,
   "metadata": {},
   "outputs": [],
   "source": [
    "code_name_mapping = {\"ES300_28079\": \"Madrid\",\n",
    "                    \"ES418_47186\": \"Valladolid\",\n",
    "                   \"ES523_46250\":  \"València\",\n",
    "                    \"ES211_01059\": \"Vitoria-Gasteiz\",\n",
    "                   \"ES243_50297\":  \"Zaragoza\",\n",
    "                    \"ES618_41091\": \"Sevilla\",\n",
    "                    \"ES511_08019\": \"Barcelona\", \n",
    "                    \"DE125_08221000\": \"Heidelberg\"}"
   ]
  },
  {
   "cell_type": "code",
   "execution_count": null,
   "metadata": {},
   "outputs": [],
   "source": [
    "disagg_values = disagg_buildings_es_2019[disagg_buildings_es_2019[\"region_code\"].isin(code_name_mapping.keys())]"
   ]
  },
  {
   "cell_type": "code",
   "execution_count": null,
   "metadata": {},
   "outputs": [],
   "source": [
    "disagg_values[\"region_name\"] = disagg_values[\"region_code\"].map(code_name_mapping)"
   ]
  },
  {
   "cell_type": "code",
   "execution_count": null,
   "metadata": {},
   "outputs": [],
   "source": [
    "disagg_values[[\"value\", \"region_name\"]]"
   ]
  },
  {
   "cell_type": "code",
   "execution_count": null,
   "metadata": {},
   "outputs": [],
   "source": [
    "disagg_values[[\"value_x\", \"region_name\"]]"
   ]
  },
  {
   "cell_type": "code",
   "execution_count": null,
   "metadata": {},
   "outputs": [],
   "source": [
    "disagg_values[[\"value_y\", \"region_name\"]]"
   ]
  },
  {
   "cell_type": "code",
   "execution_count": null,
   "metadata": {},
   "outputs": [],
   "source": [
    "disagg_buildings_de_2019[disagg_buildings_de_2019[\"region_code\"] == \"DE125_08221000\"]"
   ]
  },
  {
   "cell_type": "code",
   "execution_count": null,
   "metadata": {},
   "outputs": [],
   "source": [
    "\n",
    "\n",
    "disagg_buildings_es_2019[disagg_buildings_es_2019[\"region_code\"].str.startswith(\"ES243\")][\"value\"].sum()"
   ]
  },
  {
   "cell_type": "code",
   "execution_count": null,
   "metadata": {},
   "outputs": [],
   "source": [
    "lau = gpd.read_file(r\"C:\\Users\\s.patil\\OneDrive - Forschungszentrum Jülich GmbH\\Documents\\code\\ETHOS.RegionData\\data\\input\\02_processed\\shapefiles\\LAU_ES.shp\")"
   ]
  },
  {
   "cell_type": "code",
   "execution_count": null,
   "metadata": {},
   "outputs": [],
   "source": [
    "lau[lau[\"code\"].str.startswith(\"ES243\")]"
   ]
  },
  {
   "cell_type": "code",
   "execution_count": null,
   "metadata": {},
   "outputs": [],
   "source": []
  }
 ],
 "metadata": {
  "language_info": {
   "name": "python"
  }
 },
 "nbformat": 4,
 "nbformat_minor": 2
}
