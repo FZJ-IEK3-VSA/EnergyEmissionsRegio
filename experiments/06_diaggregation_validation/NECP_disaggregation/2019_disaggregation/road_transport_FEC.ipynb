{
 "cells": [
  {
   "cell_type": "code",
   "execution_count": null,
   "metadata": {},
   "outputs": [],
   "source": [
    "import pandas as pd"
   ]
  },
  {
   "cell_type": "code",
   "execution_count": null,
   "metadata": {},
   "outputs": [],
   "source": [
    "# https://ec.europa.eu/eurostat/databrowser/view/nrg_bal_c__custom_15831828/default/table?lang=en\n",
    "# Unit - MWh\n",
    "national_road_transport_de_2019 = 618793280\n",
    "\n",
    "national_road_transport_es_2019 = 336774852"
   ]
  },
  {
   "cell_type": "code",
   "execution_count": null,
   "metadata": {},
   "outputs": [],
   "source": [
    "disagg_road_2022 = pd.read_csv(r\"C:\\Users\\s.patil\\OneDrive - Forschungszentrum Jülich GmbH\\Documents\\code\\EnergyEmissionsRegio\\data\\disaggregated_data\\FEC\\final_energy_consumption_in_road_transport.csv\")"
   ]
  },
  {
   "cell_type": "code",
   "execution_count": null,
   "metadata": {},
   "outputs": [],
   "source": [
    "disagg_road_de_2019 = disagg_road_2022[disagg_road_2022[\"region_code\"].str.startswith(\"DE\")].copy()\n",
    "disagg_road_es_2019 = disagg_road_2022[disagg_road_2022[\"region_code\"].str.startswith(\"ES\")].copy()"
   ]
  },
  {
   "cell_type": "code",
   "execution_count": null,
   "metadata": {},
   "outputs": [],
   "source": [
    "disagg_road_de_2019[\"share\"] = disagg_road_de_2019[\"value\"] / disagg_road_de_2019[\"value\"].sum()\n",
    "disagg_road_es_2019[\"share\"] = disagg_road_es_2019[\"value\"] / disagg_road_es_2019[\"value\"].sum()"
   ]
  },
  {
   "cell_type": "code",
   "execution_count": null,
   "metadata": {},
   "outputs": [],
   "source": [
    "disagg_road_de_2019[\"value\"] = disagg_road_de_2019[\"share\"] * national_road_transport_de_2019\n",
    "disagg_road_es_2019[\"value\"] = disagg_road_es_2019[\"share\"] * national_road_transport_es_2019"
   ]
  },
  {
   "cell_type": "code",
   "execution_count": null,
   "metadata": {},
   "outputs": [],
   "source": [
    "code_name_mapping = {\"ES300_28079\": \"Madrid\",\n",
    "                    \"ES418_47186\": \"Valladolid\",\n",
    "                   \"ES523_46250\":  \"València\",\n",
    "                    \"ES211_01059\": \"Vitoria-Gasteiz\",\n",
    "                   \"ES243_50297\":  \"Zaragoza\",\n",
    "                    \"ES618_41091\": \"Sevilla\",\n",
    "                    \"ES511_08019\": \"Barcelona\", \n",
    "                    \"DE125_08221000\": \"Heidelberg\"}"
   ]
  },
  {
   "cell_type": "code",
   "execution_count": null,
   "metadata": {},
   "outputs": [],
   "source": [
    "disagg_values = disagg_road_es_2019[disagg_road_es_2019[\"region_code\"].isin(code_name_mapping.keys())]"
   ]
  },
  {
   "cell_type": "code",
   "execution_count": null,
   "metadata": {},
   "outputs": [],
   "source": [
    "disagg_values[\"region_name\"] = disagg_values[\"region_code\"].map(code_name_mapping)"
   ]
  },
  {
   "cell_type": "code",
   "execution_count": null,
   "metadata": {},
   "outputs": [],
   "source": [
    "disagg_values[[\"value\", \"region_name\"]]"
   ]
  },
  {
   "cell_type": "code",
   "execution_count": null,
   "metadata": {},
   "outputs": [],
   "source": [
    "disagg_road_de_2019[disagg_road_de_2019[\"region_code\"] == \"DE125_08221000\"]"
   ]
  },
  {
   "cell_type": "code",
   "execution_count": null,
   "metadata": {},
   "outputs": [],
   "source": []
  }
 ],
 "metadata": {
  "language_info": {
   "name": "python"
  }
 },
 "nbformat": 4,
 "nbformat_minor": 2
}
