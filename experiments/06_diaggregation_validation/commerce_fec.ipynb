{
 "cells": [
  {
   "cell_type": "code",
   "execution_count": null,
   "metadata": {},
   "outputs": [],
   "source": [
    "import os \n",
    "\n",
    "import pandas as pd\n",
    "import geopandas as gpd\n",
    "from energyemissionsregio.config import DATA_PATH, SHP_PATH\n",
    "from energyemissionsregio.utils import solve_proxy_equation, get_proxy_var_list\n",
    "from energyemissionsregio.disaggregation import perform_proxy_based_disaggregation\n",
    "from energyemissionsregio.plotting_functions import plot_validation_data\n",
    "from sklearn.metrics import mean_squared_error"
   ]
  },
  {
   "cell_type": "code",
   "execution_count": null,
   "metadata": {},
   "outputs": [],
   "source": [
    "%load_ext autoreload\n",
    "%autoreload 2"
   ]
  },
  {
   "cell_type": "code",
   "execution_count": null,
   "metadata": {},
   "outputs": [],
   "source": [
    "cwd = os.getcwd()"
   ]
  },
  {
   "cell_type": "code",
   "execution_count": null,
   "metadata": {},
   "outputs": [],
   "source": [
    "lau_shp = gpd.read_file(os.path.join(SHP_PATH, \"LAU.shp\"))\n",
    "lau_shp = lau_shp[lau_shp[\"code\"].str.startswith((\"DE\", \"ES\"))]"
   ]
  },
  {
   "cell_type": "markdown",
   "metadata": {},
   "source": [
    "### Commerce FEC (Eurostat)"
   ]
  },
  {
   "cell_type": "code",
   "execution_count": null,
   "metadata": {},
   "outputs": [],
   "source": [
    "eurostat_data_nuts0 = pd.read_csv(os.path.join(DATA_PATH, f\"final_energy_consumption_in_commerce.csv\"))\n",
    "eurostat_data_nuts0 = eurostat_data_nuts0[eurostat_data_nuts0[\"region_code\"].str.startswith((\"DE\", \"ES\"))][\n",
    "    [\"region_code\", \"value\"]].copy()"
   ]
  },
  {
   "cell_type": "code",
   "execution_count": null,
   "metadata": {},
   "outputs": [],
   "source": [
    "eurostat_data_nuts0"
   ]
  },
  {
   "cell_type": "markdown",
   "metadata": {},
   "source": [
    "### Hotmaps data"
   ]
  },
  {
   "cell_type": "code",
   "execution_count": null,
   "metadata": {},
   "outputs": [],
   "source": [
    "validation_data = pd.read_csv(\n",
    "        os.path.join(DATA_PATH, \"heat_demand_non_residential.csv\")\n",
    "    )\n",
    "validation_data = validation_data[validation_data[\"region_code\"].str.startswith((\"DE\", \"ES\"))][\n",
    "    [\"region_code\", \"value\"]].copy()"
   ]
  },
  {
   "cell_type": "code",
   "execution_count": null,
   "metadata": {},
   "outputs": [],
   "source": [
    "target_data = validation_data.copy()\n",
    "target_data[\"region_code\"] = target_data[\"region_code\"].str[:2]\n",
    "\n",
    "target_data = target_data.groupby(\"region_code\").sum().reset_index()"
   ]
  },
  {
   "cell_type": "code",
   "execution_count": null,
   "metadata": {},
   "outputs": [],
   "source": [
    "target_data[\"value_confidence_level\"] = 5"
   ]
  },
  {
   "cell_type": "markdown",
   "metadata": {},
   "source": [
    "difference between the Eurostat data disaggregated and hotmaps data used for validation of disaggregation "
   ]
  },
  {
   "cell_type": "code",
   "execution_count": null,
   "metadata": {},
   "outputs": [],
   "source": [
    "diff_df = pd.merge(eurostat_data_nuts0, target_data, on=\"region_code\")"
   ]
  },
  {
   "cell_type": "code",
   "execution_count": null,
   "metadata": {},
   "outputs": [],
   "source": [
    "diff_df[\"diff\"] = diff_df[\"value_x\"] - diff_df[\"value_y\"]"
   ]
  },
  {
   "cell_type": "code",
   "execution_count": null,
   "metadata": {},
   "outputs": [],
   "source": [
    "diff_df"
   ]
  },
  {
   "cell_type": "markdown",
   "metadata": {},
   "source": [
    "### Disaggregation of Hotmaps data"
   ]
  },
  {
   "cell_type": "code",
   "execution_count": null,
   "metadata": {},
   "outputs": [],
   "source": [
    "proxy_equations = {\"DE\": \"de_non_residential_building_living_area*cproj_annual_mean_temperature_heating_degree_days\",\n",
    "                   \"ES\": \"es_number_of_commerical_and_service_companies*cproj_annual_mean_temperature_heating_degree_days\"}"
   ]
  },
  {
   "cell_type": "code",
   "execution_count": null,
   "metadata": {},
   "outputs": [],
   "source": [
    "disagg_data_list = []\n",
    "\n",
    "for country in [\"DE\", \"ES\"]:\n",
    "    sub_target_data = target_data[target_data[\"region_code\"] == country].copy()\n",
    "\n",
    "    proxy_equation = proxy_equations[country]\n",
    "\n",
    "    proxy_var_list = get_proxy_var_list(proxy_equation)\n",
    "\n",
    "    proxy_data_dict = {}\n",
    "    for proxy_var in proxy_var_list:\n",
    "        if os.path.exists(os.path.join(cwd, \"..\", \"..\", \"data\", \"disaggregated_data\", f\"{proxy_var}.csv\")):\n",
    "            proxy_data = pd.read_csv(os.path.join(cwd, \"..\", \"..\", \"data\", \"disaggregated_data\", f\"{proxy_var}.csv\"))\n",
    "        else:\n",
    "            proxy_data = pd.read_csv(os.path.join(DATA_PATH, f\"{proxy_var}.csv\"))\n",
    "            proxy_data[\"value_confidence_level\"] = 5\n",
    "\n",
    "        proxy_data = proxy_data[proxy_data[\"region_code\"].str.startswith(country)][[\"region_code\", \n",
    "                                                                                        \"value\",\n",
    "                                                                                        \"value_confidence_level\"]].copy()\n",
    "\n",
    "        proxy_data[\"value\"] = proxy_data[\"value\"].fillna(0)\n",
    "        proxy_data_dict.update({proxy_var: proxy_data})\n",
    "\n",
    "    solved_proxy_data = solve_proxy_equation(proxy_equation, proxy_data_dict)\n",
    "\n",
    "    disagg_data = perform_proxy_based_disaggregation(sub_target_data, solved_proxy_data, \"NUTS0\", 4)\n",
    "\n",
    "    disagg_data_list.append(disagg_data)"
   ]
  },
  {
   "cell_type": "code",
   "execution_count": null,
   "metadata": {},
   "outputs": [],
   "source": [
    "disagg_data = pd.concat(disagg_data_list)"
   ]
  },
  {
   "cell_type": "code",
   "execution_count": null,
   "metadata": {},
   "outputs": [],
   "source": [
    "# calulate MAE and country total -------------\n",
    "merged_df_mae = pd.merge(validation_data, disagg_data, on = \"region_code\", how=\"outer\", suffixes=(\"_true\", \"_disagg\"))\n",
    "\n",
    "true_values_de = merged_df_mae[merged_df_mae[\"region_code\"].str.startswith(\"DE\")][\"value_true\"]\n",
    "disagg_values_de = merged_df_mae[merged_df_mae[\"region_code\"].str.startswith(\"DE\")][\"value_disagg\"]\n",
    "\n",
    "true_values_es = merged_df_mae[merged_df_mae[\"region_code\"].str.startswith(\"ES\")][\"value_true\"]\n",
    "disagg_values_es = merged_df_mae[merged_df_mae[\"region_code\"].str.startswith(\"ES\")][\"value_disagg\"]\n",
    "\n",
    "rmse_de = mean_squared_error(true_values_de, disagg_values_de, squared=False).round(2)\n",
    "rmse_es = mean_squared_error(true_values_es, disagg_values_es, squared=False).round(2)\n"
   ]
  },
  {
   "cell_type": "code",
   "execution_count": null,
   "metadata": {},
   "outputs": [],
   "source": [
    "# de_total = \"223.99e6\"\n",
    "# es_total = \"40.83e6\"\n",
    "de_total = true_values_de.sum().round(2)\n",
    "es_total = true_values_es.sum().round(2)"
   ]
  },
  {
   "cell_type": "code",
   "execution_count": null,
   "metadata": {},
   "outputs": [],
   "source": [
    "fig_path = os.path.join(\"..\", \"..\", \"figures\", \"disaggregation_validation\", \"validation_commerce_fec.png\")\n",
    "\n",
    "\n",
    "plot_validation_data(validation_data, disagg_data, \n",
    "                     lau_shp, de_total, es_total, \n",
    "                     rmse_de, rmse_es, \"MWh\", \"Hotmaps\", \"log\", fig_path)"
   ]
  },
  {
   "cell_type": "code",
   "execution_count": null,
   "metadata": {},
   "outputs": [],
   "source": [
    "merge_df = pd.merge(disagg_data, validation_data, on=\"region_code\", suffixes=[\"_disagg\", \"_validation\"])"
   ]
  },
  {
   "cell_type": "code",
   "execution_count": null,
   "metadata": {},
   "outputs": [],
   "source": [
    "merge_df[\"diff\"] = abs(merge_df[\"value_disagg\"] - merge_df[\"value_validation\"])"
   ]
  },
  {
   "cell_type": "code",
   "execution_count": null,
   "metadata": {},
   "outputs": [],
   "source": [
    "merge_df[merge_df[\"region_code\"].str.startswith(\"DE\")].sort_values(\"diff\")"
   ]
  },
  {
   "cell_type": "code",
   "execution_count": null,
   "metadata": {},
   "outputs": [],
   "source": [
    "merge_df[merge_df[\"region_code\"].str.startswith(\"ES\")].sort_values(\"diff\")"
   ]
  },
  {
   "cell_type": "code",
   "execution_count": null,
   "metadata": {},
   "outputs": [],
   "source": []
  }
 ],
 "metadata": {
  "language_info": {
   "name": "python"
  }
 },
 "nbformat": 4,
 "nbformat_minor": 2
}
