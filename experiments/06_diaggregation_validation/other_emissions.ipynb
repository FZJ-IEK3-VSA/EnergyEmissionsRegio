{
 "cells": [
  {
   "cell_type": "code",
   "execution_count": null,
   "metadata": {},
   "outputs": [],
   "source": [
    "import os \n",
    "import numpy as np\n",
    "import pandas as pd\n",
    "import geopandas as gpd\n",
    "import matplotlib.pyplot as plt\n",
    "from mpl_toolkits.axes_grid1.inset_locator import inset_axes\n",
    "from matplotlib.colors import SymLogNorm\n",
    "from energyemissionsregio.config import SHP_PATH"
   ]
  },
  {
   "cell_type": "code",
   "execution_count": null,
   "metadata": {},
   "outputs": [],
   "source": [
    "cwd = os.getcwd()"
   ]
  },
  {
   "cell_type": "code",
   "execution_count": null,
   "metadata": {},
   "outputs": [],
   "source": [
    "lau_shp = gpd.read_file(os.path.join(SHP_PATH, \"LAU.shp\"))\n",
    "lau_shp = lau_shp[lau_shp[\"code\"].str.startswith((\"DE\", \"ES\"))]"
   ]
  },
  {
   "cell_type": "markdown",
   "metadata": {},
   "source": [
    "### Chemical industries"
   ]
  },
  {
   "cell_type": "code",
   "execution_count": null,
   "metadata": {},
   "outputs": [],
   "source": [
    "fig = plt.figure(figsize=(13, 13))\n",
    "gs = fig.add_gridspec(1, 2, wspace=0.1, hspace=0)\n",
    "\n",
    "gdf1 = pd.merge(lau_shp, \n",
    "                df1, \n",
    "                left_on=\"code\", \n",
    "                right_on=\"region_code\", \n",
    "                how=\"left\")\n",
    "\n",
    "vmin = gdf1['value'].min()\n",
    "vmax = gdf1['value'].max()\n",
    "\n",
    "norm = SymLogNorm(linthresh=0.1, vmin=vmin, vmax=vmax)\n",
    "\n",
    "# Germany --------\n",
    "ax = plt.subplot(gs[:1, :1])\n",
    "\n",
    "gdf1_de = gdf1[gdf1[\"code\"].str.startswith(\"DE\")]\n",
    "de_total = gdf1_de[\"value\"].sum()\n",
    "\n",
    "gdf1_de.plot(column='value', cmap=\"viridis_r\", linewidth=0.8, ax=ax, edgecolor='none', norm=norm)\n",
    "# Hide spines (the borders of the plot)\n",
    "ax.spines['top'].set_visible(False)\n",
    "ax.spines['right'].set_visible(False)\n",
    "ax.spines['left'].set_visible(False)\n",
    "ax.spines['bottom'].set_visible(False)\n",
    "\n",
    "# Hide ticks and tick labels\n",
    "ax.tick_params(left=False, bottom=False, labelleft=False, labelbottom=False)\n",
    "\n",
    "ax.set_title(f\"Country total = {de_total} Mt\", fontsize=15)\n",
    "\n",
    "# Spain --------\n",
    "ax = plt.subplot(gs[:1, 1:])\n",
    "\n",
    "gdf1_es = gdf1[gdf1[\"code\"].str.startswith(\"ES\")]\n",
    "\n",
    "gdf1_es.plot(column='value', cmap=\"viridis_r\", linewidth=0.8, ax=ax, edgecolor='none', norm=norm)\n",
    "es_total = gdf1_es[\"value\"].sum()\n",
    "\n",
    "ax.set_title(f\"Country total = {es_total} Mt\", fontsize=15)\n",
    "ax.axis('off')\n",
    "\n",
    "# legend\n",
    "# Add colorbar legend outside the plot\n",
    "sm = plt.cm.ScalarMappable(cmap=\"viridis_r\", norm=norm)\n",
    "sm._A = []\n",
    "axins = inset_axes(ax,\n",
    "                    width=\"60%\",  \n",
    "                    height=\"20%\",\n",
    "                    loc='lower center',\n",
    "                    bbox_to_anchor=(0.1, 0.05, 0.9, 0.05),  # Adjust for position\n",
    "                    bbox_transform=fig.transFigure,\n",
    "                    borderpad=0)\n",
    "clb = fig.colorbar(sm, cax=axins, orientation=\"horizontal\", shrink=0.8)\n",
    "clb.ax.tick_params(labelsize=15)\n",
    "clb.ax.set_title(f\"[Mt]\", fontsize=15)  \n",
    "\n",
    "plt.savefig(fig_path, format='png', bbox_inches=\"tight\", dpi=200)"
   ]
  },
  {
   "cell_type": "code",
   "execution_count": null,
   "metadata": {},
   "outputs": [],
   "source": [
    "var_details = {\"other_energy_intensive_industries\": {\"Chemical industries\": ,\n",
    "                                                  \"Paper, pulp, and printing industries\": \"ghg_emissions_from_fc_in_manufacture_of_pulp_paper_and_printing\"},\n",
    "\n",
    "            \"non_energy_intensive_industries\": {\"Food, beverages, and tobacco industries\": \"ghg_emissions_from_fc_in_food_beverages_and_tobacco_industries\",\n",
    "                                                  \"Other manufacturing industries and construction\": \"ghg_emissions_from_fc_in_other_manufacturing_industries_and_construction\"},\n",
    "\n",
    "            \"households_and_commerce\": {\"Households\": \"ghg_emissions_from_fc_in_households\",\n",
    "                                        \"Commerce\": \"ghg_emissions_from_fc_in_commerce\",},\n",
    "\n",
    "            \"agriculture\": {\"Livestock\": \"ghg_emissions_in_livestock\",\n",
    "                            \"Cultivation\": \"ghg_emissions_in_cultivation\",}\n",
    "                                                    }"
   ]
  },
  {
   "cell_type": "code",
   "execution_count": null,
   "metadata": {},
   "outputs": [],
   "source": [
    "df1 = pd.read_csv(os.path.join(cwd, \"..\", \"..\", \"data\", \"disaggregated_data\", \"GHG\", \"ghg_emissions_from_fc_in_food_beverages_and_tobacco_industries.csv\"))\n",
    "\n",
    "fig_path = os.path.join(\"..\", \"..\", \"figures\", \"validation\", \"ghg_emissions_from_fc_in_food_beverages_and_tobacco_industries.png\")"
   ]
  },
  {
   "cell_type": "code",
   "execution_count": null,
   "metadata": {},
   "outputs": [],
   "source": [
    "fig = plt.figure(figsize=(13, 13))\n",
    "gs = fig.add_gridspec(1, 2, wspace=0.1, hspace=0)\n",
    "\n",
    "gdf1 = pd.merge(lau_shp, \n",
    "                df1, \n",
    "                left_on=\"code\", \n",
    "                right_on=\"region_code\", \n",
    "                how=\"left\")\n",
    "\n",
    "vmin = gdf1['value'].min()\n",
    "vmax = gdf1['value'].max()\n",
    "\n",
    "norm = SymLogNorm(linthresh=0.1, vmin=vmin, vmax=vmax)\n",
    "\n",
    "# Germany --------\n",
    "ax = plt.subplot(gs[:1, :1])\n",
    "\n",
    "gdf1_de = gdf1[gdf1[\"code\"].str.startswith(\"DE\")]\n",
    "de_total = gdf1_de[\"value\"].sum()\n",
    "\n",
    "gdf1_de.plot(column='value', cmap=\"viridis_r\", linewidth=0.8, ax=ax, edgecolor='none', norm=norm)\n",
    "# Hide spines (the borders of the plot)\n",
    "ax.spines['top'].set_visible(False)\n",
    "ax.spines['right'].set_visible(False)\n",
    "ax.spines['left'].set_visible(False)\n",
    "ax.spines['bottom'].set_visible(False)\n",
    "\n",
    "# Hide ticks and tick labels\n",
    "ax.tick_params(left=False, bottom=False, labelleft=False, labelbottom=False)\n",
    "\n",
    "ax.set_title(f\"Country total = {de_total} Mt\", fontsize=15)\n",
    "\n",
    "# Spain --------\n",
    "ax = plt.subplot(gs[:1, 1:])\n",
    "\n",
    "gdf1_es = gdf1[gdf1[\"code\"].str.startswith(\"ES\")]\n",
    "\n",
    "gdf1_es.plot(column='value', cmap=\"viridis_r\", linewidth=0.8, ax=ax, edgecolor='none', norm=norm)\n",
    "es_total = gdf1_es[\"value\"].sum()\n",
    "\n",
    "ax.set_title(f\"Country total = {es_total} Mt\", fontsize=15)\n",
    "ax.axis('off')\n",
    "\n",
    "# legend\n",
    "# Add colorbar legend outside the plot\n",
    "sm = plt.cm.ScalarMappable(cmap=\"viridis_r\", norm=norm)\n",
    "sm._A = []\n",
    "axins = inset_axes(ax,\n",
    "                    width=\"60%\",  \n",
    "                    height=\"20%\",\n",
    "                    loc='lower center',\n",
    "                    bbox_to_anchor=(0.1, 0.05, 0.9, 0.05),  # Adjust for position\n",
    "                    bbox_transform=fig.transFigure,\n",
    "                    borderpad=0)\n",
    "clb = fig.colorbar(sm, cax=axins, orientation=\"horizontal\", shrink=0.8)\n",
    "clb.ax.tick_params(labelsize=15)\n",
    "clb.ax.set_title(f\"[Mt]\", fontsize=15)  \n",
    "\n",
    "plt.savefig(fig_path, format='png', bbox_inches=\"tight\", dpi=200)"
   ]
  },
  {
   "cell_type": "code",
   "execution_count": null,
   "metadata": {},
   "outputs": [],
   "source": [
    " \"Other transport\": {\"Rail transport\": \"ghg_emissions_from_fc_in_railways\",\n",
    "                                \"Domestic aviation\": \"ghg_emissions_from_fc_in_domestic_aviation\",\n",
    "                                \"Domestic navigation\": \"ghg_emissions_from_fc_in_domestic_navigation\"},"
   ]
  }
 ],
 "metadata": {
  "language_info": {
   "name": "python"
  }
 },
 "nbformat": 4,
 "nbformat_minor": 2
}
