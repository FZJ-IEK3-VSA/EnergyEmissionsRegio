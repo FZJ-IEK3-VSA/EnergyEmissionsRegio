{
 "cells": [
  {
   "cell_type": "code",
   "execution_count": null,
   "metadata": {},
   "outputs": [],
   "source": [
    "import os \n",
    "\n",
    "import pandas as pd\n",
    "import geopandas as gpd\n",
    "from energyemissionsregio.config import DATA_PATH, SHP_PATH\n",
    "from energyemissionsregio.utils import solve_proxy_equation, get_proxy_var_list\n",
    "from energyemissionsregio.disaggregation import perform_proxy_based_disaggregation\n",
    "from energyemissionsregio.plotting_functions import plot_validation_data\n",
    "from sklearn.metrics import mean_absolute_error"
   ]
  },
  {
   "cell_type": "code",
   "execution_count": null,
   "metadata": {},
   "outputs": [],
   "source": [
    "%load_ext autoreload\n",
    "%autoreload 2"
   ]
  },
  {
   "cell_type": "code",
   "execution_count": null,
   "metadata": {},
   "outputs": [],
   "source": [
    "cwd = os.getcwd()"
   ]
  },
  {
   "cell_type": "code",
   "execution_count": null,
   "metadata": {},
   "outputs": [],
   "source": [
    "lau_shp = gpd.read_file(os.path.join(SHP_PATH, \"LAU.shp\"))\n",
    "lau_shp = lau_shp[lau_shp[\"code\"].str.startswith((\"DE\", \"ES\"))]"
   ]
  },
  {
   "cell_type": "markdown",
   "metadata": {},
   "source": [
    "### Commerce FEC (Eurostat)"
   ]
  },
  {
   "cell_type": "code",
   "execution_count": null,
   "metadata": {},
   "outputs": [],
   "source": [
    "eurostat_data_nuts0 = pd.read_csv(os.path.join(DATA_PATH, f\"final_energy_consumption_in_commerce.csv\"))\n",
    "eurostat_data_nuts0 = eurostat_data_nuts0[eurostat_data_nuts0[\"region_code\"].str.startswith((\"DE\", \"ES\"))][\n",
    "    [\"region_code\", \"value\"]].copy()"
   ]
  },
  {
   "cell_type": "code",
   "execution_count": null,
   "metadata": {},
   "outputs": [],
   "source": [
    "eurostat_data_nuts0"
   ]
  },
  {
   "cell_type": "markdown",
   "metadata": {},
   "source": [
    "### Hotmaps data"
   ]
  },
  {
   "cell_type": "code",
   "execution_count": null,
   "metadata": {},
   "outputs": [],
   "source": [
    "validation_data = pd.read_csv(\n",
    "        os.path.join(DATA_PATH, \"heat_demand_non_residential.csv\")\n",
    "    )\n",
    "validation_data = validation_data[validation_data[\"region_code\"].str.startswith((\"DE\", \"ES\"))][\n",
    "    [\"region_code\", \"value\"]].copy()"
   ]
  },
  {
   "cell_type": "code",
   "execution_count": null,
   "metadata": {},
   "outputs": [],
   "source": [
    "target_data = validation_data.copy()\n",
    "target_data[\"region_code\"] = target_data[\"region_code\"].str[:2]\n",
    "\n",
    "target_data = target_data.groupby(\"region_code\").sum().reset_index()"
   ]
  },
  {
   "cell_type": "code",
   "execution_count": null,
   "metadata": {},
   "outputs": [],
   "source": [
    "target_data[\"value_confidence_level\"] = 5"
   ]
  },
  {
   "cell_type": "markdown",
   "metadata": {},
   "source": [
    "difference between the Eurostat data disaggregated and hotmaps data used for validation of disaggregation "
   ]
  },
  {
   "cell_type": "code",
   "execution_count": null,
   "metadata": {},
   "outputs": [],
   "source": [
    "diff_df = pd.merge(eurostat_data_nuts0, target_data, on=\"region_code\")"
   ]
  },
  {
   "cell_type": "code",
   "execution_count": null,
   "metadata": {},
   "outputs": [],
   "source": [
    "diff_df[\"diff\"] = diff_df[\"value_x\"] - diff_df[\"value_y\"]"
   ]
  },
  {
   "cell_type": "code",
   "execution_count": null,
   "metadata": {},
   "outputs": [],
   "source": [
    "diff_df"
   ]
  },
  {
   "cell_type": "markdown",
   "metadata": {},
   "source": [
    "### Disaggregation of Hotmaps data"
   ]
  },
  {
   "cell_type": "code",
   "execution_count": null,
   "metadata": {},
   "outputs": [],
   "source": [
    "proxy_equation = \"de_non_residential_building_living_area*cproj_annual_mean_temperature_heating_degree_days\""
   ]
  },
  {
   "cell_type": "code",
   "execution_count": null,
   "metadata": {},
   "outputs": [],
   "source": [
    "# read in proxy data \n",
    "proxy_var_list = get_proxy_var_list(proxy_equation)\n",
    "\n",
    "proxy_data_dict = {}\n",
    "for proxy_var in proxy_var_list:\n",
    "    if os.path.exists(os.path.join(cwd, \"..\", \"..\", \"data\", \"disaggregated_data\", f\"{proxy_var}.csv\")):\n",
    "        proxy_data = pd.read_csv(os.path.join(cwd, \"..\", \"..\", \"data\", \"disaggregated_data\", f\"{proxy_var}.csv\"))\n",
    "    else:\n",
    "        proxy_data = pd.read_csv(os.path.join(DATA_PATH, f\"{proxy_var}.csv\"))\n",
    "        proxy_data[\"value_confidence_level\"] = 5\n",
    "\n",
    "    proxy_data = proxy_data[proxy_data[\"region_code\"].str.startswith((\"DE\", \"ES\"))][[\"region_code\", \n",
    "                                                                                     \"value\",\n",
    "                                                                                     \"value_confidence_level\"]].copy()\n",
    "\n",
    "    proxy_data[\"value\"] = proxy_data[\"value\"].fillna(0)\n",
    "    proxy_data_dict.update({proxy_var: proxy_data})\n",
    "\n",
    "solved_proxy_data = solve_proxy_equation(proxy_equation, proxy_data_dict)\n",
    "\n",
    "disagg_data = perform_proxy_based_disaggregation(target_data, solved_proxy_data, \"NUTS0\", 4)"
   ]
  },
  {
   "cell_type": "code",
   "execution_count": null,
   "metadata": {},
   "outputs": [],
   "source": [
    "# calulate MAE and country total -------------\n",
    "merged_df_mae = pd.merge(validation_data, disagg_data, on = \"region_code\", how=\"outer\", suffixes=(\"_true\", \"_disagg\"))\n",
    "\n",
    "true_values_de = merged_df_mae[merged_df_mae[\"region_code\"].str.startswith(\"DE\")][\"value_true\"]\n",
    "disagg_values_de = merged_df_mae[merged_df_mae[\"region_code\"].str.startswith(\"DE\")][\"value_disagg\"]\n",
    "\n",
    "true_values_es = merged_df_mae[merged_df_mae[\"region_code\"].str.startswith(\"ES\")][\"value_true\"]\n",
    "disagg_values_es = merged_df_mae[merged_df_mae[\"region_code\"].str.startswith(\"ES\")][\"value_disagg\"]\n",
    "\n",
    "mae_de = mean_absolute_error(true_values_de, disagg_values_de).round(2)\n",
    "mae_es = mean_absolute_error(true_values_es, disagg_values_es).round(2)\n"
   ]
  },
  {
   "cell_type": "code",
   "execution_count": null,
   "metadata": {},
   "outputs": [],
   "source": [
    "de_total = \"223.99e6\"\n",
    "es_total = \"40.83e6\""
   ]
  },
  {
   "cell_type": "code",
   "execution_count": null,
   "metadata": {},
   "outputs": [],
   "source": [
    "fig_path = os.path.join(\"..\", \"..\", \"figures\", \"validation\", \"validation_commerce_fec.png\")\n",
    "\n",
    "\n",
    "plot_validation_data(validation_data, disagg_data, \n",
    "                     lau_shp, de_total, es_total, \n",
    "                     mae_de, mae_es, \"MWh\", \"Hotmaps\", fig_path)"
   ]
  },
  {
   "cell_type": "code",
   "execution_count": null,
   "metadata": {},
   "outputs": [],
   "source": []
  }
 ],
 "metadata": {
  "language_info": {
   "name": "python"
  }
 },
 "nbformat": 4,
 "nbformat_minor": 2
}
