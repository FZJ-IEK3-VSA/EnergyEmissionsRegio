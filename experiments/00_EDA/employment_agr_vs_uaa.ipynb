{
 "cells": [
  {
   "cell_type": "markdown",
   "metadata": {},
   "source": [
    "Checking if employment in agriculture and utilized agricultural area are highly correlated"
   ]
  },
  {
   "cell_type": "code",
   "execution_count": null,
   "metadata": {},
   "outputs": [],
   "source": [
    "import os\n",
    "import json\n",
    "import pandas as pd\n",
    "import geopandas as gpd\n",
    "from energyemissionsregio.config import DATA_PATH, SHP_PATH\n",
    "import matplotlib.pyplot as plt\n",
    "import seaborn as sns\n",
    "from sklearn.metrics import mean_squared_error\n"
   ]
  },
  {
   "cell_type": "code",
   "execution_count": null,
   "metadata": {},
   "outputs": [],
   "source": [
    "nuts1 = gpd.read_file(os.path.join(SHP_PATH, \"NUTS1.shp\"))\n",
    "nuts1_de = nuts1[nuts1[\"code\"].str.startswith(\"DE\")].copy()\n",
    "\n",
    "nuts1_de[\"name_small\"] = nuts1_de[\"name\"].str.lower()"
   ]
  },
  {
   "cell_type": "code",
   "execution_count": null,
   "metadata": {},
   "outputs": [],
   "source": [
    "# data from destatis for the year 2020, in hecatres \n",
    "validation_data = pd.read_csv(os.path.join(\"..\", \"..\", \"data\", \"validation_data\", \"41141-0101_de_flat.csv\"), delimiter=\";\")\n",
    "\n",
    "utilized_agri_area_de_states = validation_data[validation_data[\"value_variable_label\"] == \"Fläche\"][[\"1_variable_attribute_label\", \"value\"]].copy()\n",
    "\n",
    "utilized_agri_area_de_states[\"uaa\"] = utilized_agri_area_de_states[\"value\"] * 0.01 #hectare to sq. km."
   ]
  },
  {
   "cell_type": "code",
   "execution_count": null,
   "metadata": {},
   "outputs": [],
   "source": [
    "utilized_agri_area_de_states[\"name_small\"] = utilized_agri_area_de_states[\"1_variable_attribute_label\"].str.lower()"
   ]
  },
  {
   "cell_type": "code",
   "execution_count": null,
   "metadata": {},
   "outputs": [],
   "source": [
    "utilized_agri_area_de_states"
   ]
  },
  {
   "cell_type": "code",
   "execution_count": null,
   "metadata": {},
   "outputs": [],
   "source": [
    "final_uaa = pd.merge(nuts1_de, utilized_agri_area_de_states, on=\"name_small\", how = \"left\")"
   ]
  },
  {
   "cell_type": "code",
   "execution_count": null,
   "metadata": {},
   "outputs": [],
   "source": [
    "final_uaa"
   ]
  },
  {
   "cell_type": "code",
   "execution_count": null,
   "metadata": {},
   "outputs": [],
   "source": [
    "nuts3 = gpd.read_file(os.path.join(SHP_PATH, \"NUTS3.shp\"))\n",
    "nuts3_de = nuts3[nuts3[\"code\"].str.startswith(\"DE\")].copy()"
   ]
  },
  {
   "cell_type": "code",
   "execution_count": null,
   "metadata": {},
   "outputs": [],
   "source": [
    "employment_in_agriculture = imputed_data = pd.read_csv(os.path.join(DATA_PATH,  \"de_employment_in_agriculture.csv\"))"
   ]
  },
  {
   "cell_type": "code",
   "execution_count": null,
   "metadata": {},
   "outputs": [],
   "source": [
    "emp_final = pd.merge(nuts3_de, employment_in_agriculture, left_on = \"code\", right_on=\"region_code\", how = \"left\")"
   ]
  },
  {
   "cell_type": "code",
   "execution_count": null,
   "metadata": {},
   "outputs": [],
   "source": [
    "fig = plt.figure(figsize=(13, 5))\n",
    "gs = fig.add_gridspec(1, 2, wspace=0, hspace=0.3)\n",
    "\n",
    "ax1 = plt.subplot(gs[:, :1]) #-------------------------------\n",
    "\n",
    "final_uaa.plot(column=\"value\", cmap='Blues', legend=True,  ax=ax1, edgecolor='black')\n",
    "\n",
    "ax1.set_title('UAA', fontsize=16)\n",
    "\n",
    "ax2 = plt.subplot(gs[:, 1:2]) #-------------------------------\n",
    "\n",
    "emp_final.plot(column=\"value\", cmap='Blues', legend=True,  ax=ax2, edgecolor='black')\n",
    "\n",
    "ax2.set_title(\"Employment in agriculture\")"
   ]
  },
  {
   "cell_type": "code",
   "execution_count": null,
   "metadata": {},
   "outputs": [],
   "source": []
  }
 ],
 "metadata": {
  "language_info": {
   "name": "python"
  }
 },
 "nbformat": 4,
 "nbformat_minor": 2
}
