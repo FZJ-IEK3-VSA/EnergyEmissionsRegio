{
 "cells": [
  {
   "cell_type": "code",
   "execution_count": null,
   "metadata": {},
   "outputs": [],
   "source": [
    "import os\n",
    "import pandas as pd\n",
    "from energyemissionsregio.config import DATA_PATH, units\n",
    "import matplotlib.pyplot as plt\n",
    "import seaborn as sns"
   ]
  },
  {
   "cell_type": "code",
   "execution_count": null,
   "metadata": {},
   "outputs": [],
   "source": [
    "cwd = os.getcwd()"
   ]
  },
  {
   "cell_type": "code",
   "execution_count": null,
   "metadata": {},
   "outputs": [],
   "source": [
    "var_dict = {\"LAU\":  [\n",
    "    \"population\", \"area\", \n",
    "            \"continuous_urban_fabric_cover\", \"discontinuous_urban_fabric_cover\", \"industrial_or_commercial_units_cover\", \"port_areas_cover\", \"airports_cover\", \n",
    "            \"mineral_extraction_sites_cover\", \"dump_sites_cover\", \"construction_sites_cover\", \"green_urban_areas_cover\", \"sport_and_leisure_facilities_cover\", \"non_irrigated_arable_land_cover\", \n",
    "            \"permanently_irrigated_land_cover\", \"rice_fields_cover\", \"vineyards_cover\", \"fruit_trees_and_berry_plantations_cover\", \"olive_groves_cover\", \"pastures_cover\", \"permanent_crops_cover\", \n",
    "            \"complex_cultivation_patterns_cover\", \"agriculture_with_natural_vegetation_cover\", \"agro_forestry_areas_cover\", \"broad_leaved_forest_cover\", \"coniferous_forest_cover\",\n",
    "\"mixed_forest_cover\", \"natural_grasslands_cover\", \"moors_and_heathland_cover\", \"sclerophyllous_vegetation_cover\", \"transitional_woodland_shrub_cover\", \"beaches_dunes_and_sand_cover\", \"bare_rocks_cover\", \n",
    "\"sparsely_vegetated_areas_cover\", \"burnt_areas_cover\", \"glaciers_and_perpetual_snow_cover\", \"inland_marshes_cover\", \"peat_bogs_cover\", \"salt_marshes_cover\", \"salines_cover\", \"intertidal_flats_cover\", \n",
    "\"water_courses_cover\", \"water_bodies_cover\", \"coastal_lagoons_cover\", \"estuaries_cover\", \"sea_and_ocean_cover\", \n",
    "\"number_of_iron_and_steel_industries\", \n",
    "\"number_of_cement_industries\", \"number_of_refineries\", \"number_of_paper_and_printing_industries\", \"number_of_chemical_industries\",\n",
    "\"number_of_glass_industries\", \n",
    "\"number_of_non_ferrous_metals_industries\", \"number_of_non_metallic_minerals_industries\",\n",
    "\"average_air_pollution_due_to_pm25\", \"average_air_pollution_due_to_no2\", \"average_air_pollution_due_to_o3\", \"average_air_pollution_due_to_pm10\",\n",
    "\"number_of_buildings\", \"road_network\", \"railway_network\"\n",
    "],\n",
    "\n",
    "\"NUTS3\": [\"number_of_buffaloes\", \"number_of_cattle\", \"number_of_pigs\", \"number_of_sheeps\", \"number_of_chickens\", \"number_of_goats\", \"gross_domestic_product\", \"road_transport_of_freight\",\n",
    "              \"employment_in_agriculture_forestry_and_fishing\", \"employment_in_manufacturing\", \"employment_in_construction\", \"soil_sealing\", \n",
    "            #   \"cproj_annual_mean_temperature_heating_degree_days\",\n",
    "            #       \"cproj_annual_mean_temperature_cooling_degree_days\",\n",
    "]\n",
    "}\n"
   ]
  },
  {
   "cell_type": "code",
   "execution_count": null,
   "metadata": {},
   "outputs": [],
   "source": [
    "for resolution, var_list in var_dict.items():\n",
    "    range_and_variance_list = []\n",
    "\n",
    "    for var in var_list:\n",
    "        print(var)\n",
    "        data_df = pd.read_csv(os.path.join(DATA_PATH, f\"{var}.csv\"))\n",
    "\n",
    "        for country in [\"DE\", \"ES\"]:\n",
    "\n",
    "            sub_df = data_df[data_df[\"region_code\"].str.startswith((country))]\n",
    "\n",
    "            row = {\"country\": country, \n",
    "                'var_name': var,\n",
    "                'min_value': sub_df[\"value\"].min(), \n",
    "                'max_value': sub_df[\"value\"].max(), \n",
    "                \"variance\": sub_df[\"value\"].var()\n",
    "                }\n",
    "\n",
    "            range_and_variance_list.append(row)\n",
    "\n",
    "    range_and_variance_df = pd.DataFrame(range_and_variance_list)\n",
    "\n",
    "    range_and_variance_df.to_excel(os.path.join(cwd, \"..\", \"..\", \"data\", f\"{resolution}_var_range_and_variance.xlsx\"), index=False)"
   ]
  },
  {
   "cell_type": "code",
   "execution_count": null,
   "metadata": {},
   "outputs": [],
   "source": []
  },
  {
   "cell_type": "code",
   "execution_count": null,
   "metadata": {},
   "outputs": [],
   "source": []
  },
  {
   "cell_type": "code",
   "execution_count": null,
   "metadata": {},
   "outputs": [],
   "source": []
  }
 ],
 "metadata": {
  "language_info": {
   "name": "python"
  }
 },
 "nbformat": 4,
 "nbformat_minor": 2
}
