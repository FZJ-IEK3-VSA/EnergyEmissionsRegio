{
 "cells": [
  {
   "cell_type": "code",
   "execution_count": null,
   "metadata": {},
   "outputs": [],
   "source": [
    "import os\n",
    "import pandas as pd\n",
    "import geopandas as gpd\n",
    "from energyemissionsregio.config import SHP_PATH\n",
    "import matplotlib.pyplot as plt\n",
    "from sklearn.metrics import mean_squared_error\n"
   ]
  },
  {
   "cell_type": "markdown",
   "metadata": {},
   "source": [
    "### validation - Germany (Utilized agricultural area)"
   ]
  },
  {
   "cell_type": "code",
   "execution_count": null,
   "metadata": {},
   "outputs": [],
   "source": [
    "nuts1 = gpd.read_file(os.path.join(SHP_PATH, \"NUTS1.shp\"))\n",
    "nuts1_de = nuts1[nuts1[\"code\"].str.startswith(\"DE\")].copy()\n",
    "\n",
    "nuts1_de[\"name_small\"] = nuts1_de[\"name\"].str.lower()"
   ]
  },
  {
   "cell_type": "code",
   "execution_count": null,
   "metadata": {},
   "outputs": [],
   "source": [
    "# data from destatis for the year 2020, in hecatres \n",
    "validation_data = pd.read_csv(os.path.join(\"..\", \"..\", \"data\", \"validation_data\", \"41141-0101_de_flat.csv\"), delimiter=\";\")\n",
    "\n",
    "utilized_agri_area_de_states = validation_data[validation_data[\"value_variable_label\"] == \"Fläche\"][[\"1_variable_attribute_label\", \"value\"]].copy()\n",
    "\n",
    "utilized_agri_area_de_states[\"value\"] = utilized_agri_area_de_states[\"value\"] * 0.01 #hectare to sq. km."
   ]
  },
  {
   "cell_type": "code",
   "execution_count": null,
   "metadata": {},
   "outputs": [],
   "source": [
    "utilized_agri_area_de_states[\"name_small\"] = utilized_agri_area_de_states[\"1_variable_attribute_label\"].str.lower()"
   ]
  },
  {
   "cell_type": "code",
   "execution_count": null,
   "metadata": {},
   "outputs": [],
   "source": [
    "final_valdiation_data = pd.merge(nuts1_de, utilized_agri_area_de_states, on=\"name_small\", how = \"left\")"
   ]
  },
  {
   "cell_type": "code",
   "execution_count": null,
   "metadata": {},
   "outputs": [],
   "source": [
    "final_valdiation_data"
   ]
  },
  {
   "cell_type": "code",
   "execution_count": null,
   "metadata": {},
   "outputs": [],
   "source": [
    "imputed_data = pd.read_csv(os.path.join(\"..\", \"..\", \"data\", \"imputed_data\", \"es_utilized_agricultural_area.csv\"))"
   ]
  },
  {
   "cell_type": "code",
   "execution_count": null,
   "metadata": {},
   "outputs": [],
   "source": [
    "imputed_data_de = imputed_data[imputed_data[\"region_code\"].str.startswith(\"DE\")].copy()"
   ]
  },
  {
   "cell_type": "code",
   "execution_count": null,
   "metadata": {},
   "outputs": [],
   "source": [
    "imputed_data_de[\"NUTS2\"] = imputed_data_de[\"region_code\"].str[:3]"
   ]
  },
  {
   "cell_type": "code",
   "execution_count": null,
   "metadata": {},
   "outputs": [],
   "source": [
    "imputed_data_de_nuts2 = imputed_data_de[[\"value\", \"NUTS2\"]].groupby(\"NUTS2\").sum().reset_index()"
   ]
  },
  {
   "cell_type": "code",
   "execution_count": null,
   "metadata": {},
   "outputs": [],
   "source": [
    "imputed_data_de_nuts2"
   ]
  },
  {
   "cell_type": "code",
   "execution_count": null,
   "metadata": {},
   "outputs": [],
   "source": [
    "plot_data_1 = pd.merge(final_valdiation_data, imputed_data_de_nuts2, left_on = 'code', right_on=\"NUTS2\", how=\"left\", suffixes=[\"_validation\", \"_imputed\"])"
   ]
  },
  {
   "cell_type": "markdown",
   "metadata": {},
   "source": [
    "### validation - Spain (Number of cars)"
   ]
  },
  {
   "cell_type": "code",
   "execution_count": null,
   "metadata": {},
   "outputs": [],
   "source": [
    "nuts3 = gpd.read_file(os.path.join(SHP_PATH, \"NUTS3.shp\"))"
   ]
  },
  {
   "cell_type": "code",
   "execution_count": null,
   "metadata": {},
   "outputs": [],
   "source": [
    "vars = [\"de_number_of_passenger_cars_emission_group_euro_1\",\n",
    "        \"de_number_of_passenger_cars_emission_group_euro_2\",\n",
    "        \"de_number_of_passenger_cars_emission_group_euro_3\",\n",
    "        \"de_number_of_passenger_cars_emission_group_euro_4\",\n",
    "        \"de_number_of_passenger_cars_emission_group_euro_5\",\n",
    "        \"de_number_of_passenger_cars_emission_group_euro_6r\",\n",
    "        \"de_number_of_passenger_cars_emission_group_euro_6dt\",\n",
    "        \"de_number_of_passenger_cars_emission_group_euro_6d\",\n",
    "        \"de_number_of_passenger_cars_emission_group_euro_other\"]\n"
   ]
  },
  {
   "cell_type": "code",
   "execution_count": null,
   "metadata": {},
   "outputs": [],
   "source": [
    "imputed_data_es = None\n",
    "for var in vars:\n",
    "    temp_df = pd.read_csv(os.path.join(\"..\", \"..\", \"data\", \n",
    "                                            \"imputed_data\", \n",
    "                                            f\"{var}.csv\"))\n",
    "    \n",
    "    if imputed_data_es is None:\n",
    "        imputed_data_es = temp_df \n",
    "    else:\n",
    "        imputed_data_es = pd.merge(imputed_data_es, temp_df, on=\"region_code\", how=\"outer\")\n",
    "\n",
    "        imputed_data_es = imputed_data_es[imputed_data_es[\"region_code\"\n",
    "                                                    ].str.startswith(\"ES\")]\n",
    "\n",
    "        imputed_data_es[\"value\"] = imputed_data_es[\"value_x\"] + imputed_data_es[\"value_y\"]\n",
    "        imputed_data_es.drop(columns=[\"value_x\", \"value_y\"], inplace=True)\n",
    "\n",
    "        imputed_data_es = imputed_data_es[[\"value\", \"region_code\"]].copy()"
   ]
  },
  {
   "cell_type": "code",
   "execution_count": null,
   "metadata": {},
   "outputs": [],
   "source": [
    "imputed_data_es"
   ]
  },
  {
   "cell_type": "code",
   "execution_count": null,
   "metadata": {},
   "outputs": [],
   "source": [
    "validation_data = {\"ES211\": 3226,\n",
    "                    \"ES213\": 10699,\n",
    "                    \"ES212\": 7262\n",
    "                    }"
   ]
  },
  {
   "cell_type": "code",
   "execution_count": null,
   "metadata": {},
   "outputs": [],
   "source": [
    "validation_data = pd.DataFrame(list(validation_data.items()), columns=[\"region_code\", \"value\"])"
   ]
  },
  {
   "cell_type": "code",
   "execution_count": null,
   "metadata": {},
   "outputs": [],
   "source": [
    "region_names = nuts3.set_index(\"code\")[\"name\"].to_dict()"
   ]
  },
  {
   "cell_type": "code",
   "execution_count": null,
   "metadata": {},
   "outputs": [],
   "source": [
    "imputed_data_de_nuts2 = imputed_data_es[imputed_data_es[\"region_code\"].str.startswith(\"ES21\")].sort_values('region_code')\n",
    "\n",
    "plot_data_2 = pd.merge(validation_data, imputed_data_de_nuts2, on=\"region_code\", suffixes=[\"_validation\", \"_predicted\"] )\n"
   ]
  },
  {
   "cell_type": "code",
   "execution_count": null,
   "metadata": {},
   "outputs": [],
   "source": [
    "plot_data_2[\"region_name\"] = plot_data_2[\"region_code\"].map(region_names)"
   ]
  },
  {
   "cell_type": "code",
   "execution_count": null,
   "metadata": {},
   "outputs": [],
   "source": [
    "plot_data_2\n"
   ]
  },
  {
   "cell_type": "code",
   "execution_count": null,
   "metadata": {},
   "outputs": [],
   "source": [
    "fig = plt.figure(figsize=(15, 7))\n",
    "gs = fig.add_gridspec(2, 1, wspace=0.1, hspace=0.8)\n",
    "\n",
    "ax1 = plt.subplot(gs[:1, :])\n",
    "\n",
    "ax1.scatter(plot_data_1['1_variable_attribute_label'], \n",
    "            plot_data_1['value_imputed'], \n",
    "            color='red', \n",
    "            label='Predicted data', \n",
    "            alpha=0.7, \n",
    "           )\n",
    "\n",
    "ax1.scatter(plot_data_1['1_variable_attribute_label'], \n",
    "            plot_data_1['value_validation'], \n",
    "            color='blue', \n",
    "            label='Validation data', \n",
    "            alpha=0.7,\n",
    "           )\n",
    "\n",
    "ax1.set_xlabel('Region name')\n",
    "ax1.set_ylabel('Utilized agricultural area\\n(square kilometer)')\n",
    "plt.xticks(rotation=45, ha=\"right\") \n",
    "plt.legend(loc=\"upper left\")\n",
    "plt.grid(True, linestyle='--', alpha=0.6)\n",
    "\n",
    "ax2 = plt.subplot(gs[1:, :])\n",
    "\n",
    "ax2.scatter(plot_data_2['region_name'], \n",
    "            plot_data_2['value_validation'], \n",
    "            color='blue', \n",
    "            label='Validation data', \n",
    "            alpha=0.7)\n",
    "\n",
    "ax2.scatter(plot_data_2['region_name'], \n",
    "            plot_data_2['value_predicted'], \n",
    "            color='red', \n",
    "            label='Predicted data', \n",
    "            alpha=0.7)\n",
    "\n",
    "ax2.set_xlabel('Region name')\n",
    "ax2.set_ylabel('Number of\\npassenger cars')\n",
    "\n",
    "plt.xticks(rotation=45, ha=\"right\") \n",
    "plt.legend(loc=\"upper left\")\n",
    "plt.grid(True, linestyle='--', alpha=0.6)\n",
    "\n",
    "plt.savefig(os.path.join(\"..\", \"..\", \"figures\", \"missing_value_imputation\", \n",
    "                            f\"uaa_de_cars_es_validation.png\"), \n",
    "                            bbox_inches='tight')  # Save the figure as a PNG file\n",
    "\n",
    "# plt.legend(handles=handles, loc='upper center', bbox_to_anchor=(0.5, 0), ncol=2, fontsize=15)\n",
    "\n",
    "# plt.savefig(save_path, format=\"png\", bbox_inches=\"tight\", dpi=200)"
   ]
  },
  {
   "cell_type": "code",
   "execution_count": null,
   "metadata": {},
   "outputs": [],
   "source": []
  }
 ],
 "metadata": {
  "language_info": {
   "name": "python"
  }
 },
 "nbformat": 4,
 "nbformat_minor": 2
}
