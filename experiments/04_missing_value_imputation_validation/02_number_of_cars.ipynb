{
 "cells": [
  {
   "cell_type": "code",
   "execution_count": null,
   "metadata": {},
   "outputs": [],
   "source": [
    "import os\n",
    "import pandas as pd\n",
    "import geopandas as gpd\n",
    "from energyemissionsregio.config import SHP_PATH\n",
    "import matplotlib.pyplot as plt"
   ]
  },
  {
   "cell_type": "code",
   "execution_count": null,
   "metadata": {},
   "outputs": [],
   "source": [
    "nuts3 = gpd.read_file(os.path.join(SHP_PATH, \"NUTS3.shp\"))"
   ]
  },
  {
   "cell_type": "code",
   "execution_count": null,
   "metadata": {},
   "outputs": [],
   "source": [
    "nuts3[nuts3[\"code\"].str.startswith(\"ES\")]"
   ]
  },
  {
   "cell_type": "code",
   "execution_count": null,
   "metadata": {},
   "outputs": [],
   "source": [
    "vars = [\"de_number_of_passenger_cars_emission_group_euro_1\",\n",
    "        \"de_number_of_passenger_cars_emission_group_euro_2\",\n",
    "        \"de_number_of_passenger_cars_emission_group_euro_3\",\n",
    "        \"de_number_of_passenger_cars_emission_group_euro_4\",\n",
    "        \"de_number_of_passenger_cars_emission_group_euro_5\",\n",
    "        \"de_number_of_passenger_cars_emission_group_euro_6r\",\n",
    "        \"de_number_of_passenger_cars_emission_group_euro_6dt\",\n",
    "        \"de_number_of_passenger_cars_emission_group_euro_6d\",\n",
    "        \"de_number_of_passenger_cars_emission_group_euro_other\"]\n"
   ]
  },
  {
   "cell_type": "code",
   "execution_count": null,
   "metadata": {},
   "outputs": [],
   "source": [
    "imputed_data_es = None\n",
    "for var in vars:\n",
    "    temp_df = pd.read_csv(os.path.join(\"..\", \"..\", \"data\", \n",
    "                                            \"imputed_data\", \n",
    "                                            f\"{var}.csv\"))\n",
    "    \n",
    "    if imputed_data_es is None:\n",
    "        imputed_data_es = temp_df \n",
    "    else:\n",
    "        imputed_data_es = pd.merge(imputed_data_es, temp_df, on=\"region_code\", how=\"outer\")\n",
    "\n",
    "        imputed_data_es = imputed_data_es[imputed_data_es[\"region_code\"\n",
    "                                                    ].str.startswith(\"ES\")]\n",
    "\n",
    "        imputed_data_es[\"value\"] = imputed_data_es[\"value_x\"] + imputed_data_es[\"value_y\"]\n",
    "        imputed_data_es.drop(columns=[\"value_x\", \"value_y\"], inplace=True)\n",
    "\n",
    "        imputed_data_es = imputed_data_es[[\"value\", \"region_code\"]].copy()"
   ]
  },
  {
   "cell_type": "code",
   "execution_count": null,
   "metadata": {},
   "outputs": [],
   "source": [
    "validation_data = {\"ES211\": 3226,\n",
    "                    \"ES213\": 10699,\n",
    "                    \"ES212\": 7262\n",
    "                    }"
   ]
  },
  {
   "cell_type": "code",
   "execution_count": null,
   "metadata": {},
   "outputs": [],
   "source": [
    "validation_data = pd.DataFrame(list(validation_data.items()), columns=[\"region_code\", \"value\"])"
   ]
  },
  {
   "cell_type": "code",
   "execution_count": null,
   "metadata": {},
   "outputs": [],
   "source": [
    "# Ensure region_code is sorted consistently\n",
    "final_valdiation_data = validation_data.sort_values('region_code')\n",
    "imputed_data_de_nuts2 = imputed_data_es[imputed_data_es[\"region_code\"].str.startswith(\"ES21\")].sort_values('region_code')\n",
    "\n",
    "# Plot\n",
    "plt.figure(figsize=(10, 3))\n",
    "plt.scatter(final_valdiation_data['region_code'], final_valdiation_data['value'], color='blue', label='Validation data', alpha=0.7)\n",
    "plt.scatter(imputed_data_de_nuts2['region_code'], imputed_data_de_nuts2['value'], color='red', label='Predicted data', alpha=0.7)\n",
    "\n",
    "plt.xlabel('Region Code')\n",
    "plt.ylabel('Number of passenger cars')\n",
    "\n",
    "plt.legend()\n",
    "plt.grid(True, linestyle='--', alpha=0.6)\n",
    "\n",
    "plt.savefig(os.path.join(\"..\", \"..\", \"figures\", \"missing_value_imputation\", \n",
    "                            f\"cars_es_validation.png\"), \n",
    "                            bbox_inches='tight')  # Save the figure as a PNG file"
   ]
  },
  {
   "cell_type": "code",
   "execution_count": null,
   "metadata": {},
   "outputs": [],
   "source": []
  }
 ],
 "metadata": {
  "language_info": {
   "name": "python"
  }
 },
 "nbformat": 4,
 "nbformat_minor": 2
}
