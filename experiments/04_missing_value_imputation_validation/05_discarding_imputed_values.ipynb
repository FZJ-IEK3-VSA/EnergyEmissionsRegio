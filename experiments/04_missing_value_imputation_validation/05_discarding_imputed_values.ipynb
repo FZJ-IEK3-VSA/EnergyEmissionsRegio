{
 "cells": [
  {
   "cell_type": "markdown",
   "metadata": {},
   "source": [
    "### During cross-country validation, it was found that only Utilized agricultural area could be filled for Germany. The other variables like number of passenger cars could not be filled for Spain. So these imputed values are discarded"
   ]
  },
  {
   "cell_type": "code",
   "execution_count": null,
   "metadata": {},
   "outputs": [],
   "source": [
    "import os\n",
    "import pandas as pd"
   ]
  },
  {
   "cell_type": "code",
   "execution_count": null,
   "metadata": {},
   "outputs": [],
   "source": [
    "vars = [\"es_number_of_dwellings\",\n",
    "        \"es_number_of_commerical_and_service_companies\",\n",
    "        \"es_average_daily_traffic_light_duty_vehicles\",\n",
    "        \"de_employment_in_food_and_beverage_manufacturing\",\n",
    "        \"de_employment_in_mechanical_and_automotive_engineering\",\n",
    "        \"de_employment_in_mechatronics_energy_and_electrical\",\n",
    "        \"de_employment_in_wood_processing\",\n",
    "        \"de_employment_in_textile_and_leather_manufacturing\",\n",
    "        \"de_number_of_passenger_cars_emission_group_euro_1\",\n",
    "        \"de_number_of_passenger_cars_emission_group_euro_2\",\n",
    "        \"de_number_of_passenger_cars_emission_group_euro_3\",\n",
    "        \"de_number_of_passenger_cars_emission_group_euro_4\",\n",
    "        \"de_number_of_passenger_cars_emission_group_euro_5\",\n",
    "        \"de_number_of_passenger_cars_emission_group_euro_6r\",\n",
    "        \"de_number_of_passenger_cars_emission_group_euro_6dt\",\n",
    "        \"de_number_of_passenger_cars_emission_group_euro_6d\",\n",
    "        \"de_number_of_passenger_cars_emission_group_euro_other\",\n",
    "        \"de_residential_building_living_area\",\n",
    "        \"de_non_residential_building_living_area\",]"
   ]
  },
  {
   "cell_type": "code",
   "execution_count": null,
   "metadata": {},
   "outputs": [],
   "source": [
    "for var in vars:\n",
    "    imputed_data = pd.read_csv(os.path.join(\"..\", \"..\", \"data\", \"imputed_data\", f\"{var}.csv\"))\n",
    "\n",
    "    if \"es_\" in var:\n",
    "        imputed_data = imputed_data[imputed_data[\"region_code\"].str.startswith(\"ES\")].copy()\n",
    "\n",
    "    else:\n",
    "        imputed_data = imputed_data[imputed_data[\"region_code\"].str.startswith(\"DE\")].copy()\n",
    "        \n",
    "    imputed_data.to_csv(os.path.join(\n",
    "         \"..\", \"..\", \"data\", \"imputed_data\", f\"{var}.csv\"\n",
    "    ), index=False)"
   ]
  },
  {
   "cell_type": "code",
   "execution_count": null,
   "metadata": {},
   "outputs": [],
   "source": []
  }
 ],
 "metadata": {
  "language_info": {
   "name": "python"
  }
 },
 "nbformat": 4,
 "nbformat_minor": 2
}
