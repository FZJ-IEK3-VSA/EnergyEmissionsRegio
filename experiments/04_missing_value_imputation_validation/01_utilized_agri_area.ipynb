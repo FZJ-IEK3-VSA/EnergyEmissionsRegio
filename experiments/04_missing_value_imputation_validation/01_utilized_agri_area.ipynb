{
 "cells": [
  {
   "cell_type": "code",
   "execution_count": null,
   "metadata": {},
   "outputs": [],
   "source": [
    "import os\n",
    "import pandas as pd\n",
    "import geopandas as gpd\n",
    "from energyemissionsregio.config import SHP_PATH\n",
    "import matplotlib.pyplot as plt\n",
    "from sklearn.metrics import mean_squared_error\n"
   ]
  },
  {
   "cell_type": "markdown",
   "metadata": {},
   "source": [
    "### validation - Germany"
   ]
  },
  {
   "cell_type": "code",
   "execution_count": null,
   "metadata": {},
   "outputs": [],
   "source": [
    "nuts1 = gpd.read_file(os.path.join(SHP_PATH, \"NUTS1.shp\"))\n",
    "nuts1_de = nuts1[nuts1[\"code\"].str.startswith(\"DE\")].copy()\n",
    "\n",
    "nuts1_de[\"name_small\"] = nuts1_de[\"name\"].str.lower()"
   ]
  },
  {
   "cell_type": "code",
   "execution_count": null,
   "metadata": {},
   "outputs": [],
   "source": [
    "# data from destatis for the year 2020, in hecatres \n",
    "validation_data = pd.read_csv(os.path.join(\"..\", \"..\", \"data\", \"validation_data\", \"41141-0101_de_flat.csv\"), delimiter=\";\")\n",
    "\n",
    "utilized_agri_area_de_states = validation_data[validation_data[\"value_variable_label\"] == \"Fläche\"][[\"1_variable_attribute_label\", \"value\"]].copy()\n",
    "\n",
    "utilized_agri_area_de_states[\"value\"] = utilized_agri_area_de_states[\"value\"] * 0.01 #hectare to sq. km."
   ]
  },
  {
   "cell_type": "code",
   "execution_count": null,
   "metadata": {},
   "outputs": [],
   "source": [
    "utilized_agri_area_de_states[\"name_small\"] = utilized_agri_area_de_states[\"1_variable_attribute_label\"].str.lower()"
   ]
  },
  {
   "cell_type": "code",
   "execution_count": null,
   "metadata": {},
   "outputs": [],
   "source": [
    "final_valdiation_data = pd.merge(nuts1_de, utilized_agri_area_de_states, on=\"name_small\", how = \"left\")"
   ]
  },
  {
   "cell_type": "code",
   "execution_count": null,
   "metadata": {},
   "outputs": [],
   "source": [
    "final_valdiation_data"
   ]
  },
  {
   "cell_type": "code",
   "execution_count": null,
   "metadata": {},
   "outputs": [],
   "source": [
    "imputed_data = pd.read_csv(os.path.join(\"..\", \"..\", \"data\", \"imputed_data\", \"es_utilized_agricultural_area.csv\"))"
   ]
  },
  {
   "cell_type": "code",
   "execution_count": null,
   "metadata": {},
   "outputs": [],
   "source": [
    "imputed_data_de = imputed_data[imputed_data[\"region_code\"].str.startswith(\"DE\")].copy()"
   ]
  },
  {
   "cell_type": "code",
   "execution_count": null,
   "metadata": {},
   "outputs": [],
   "source": [
    "imputed_data_de[\"NUTS2\"] = imputed_data_de[\"region_code\"].str[:3]"
   ]
  },
  {
   "cell_type": "code",
   "execution_count": null,
   "metadata": {},
   "outputs": [],
   "source": [
    "imputed_data_de_nuts2 = imputed_data_de[[\"value\", \"NUTS2\"]].groupby(\"NUTS2\").sum().reset_index()"
   ]
  },
  {
   "cell_type": "code",
   "execution_count": null,
   "metadata": {},
   "outputs": [],
   "source": [
    "imputed_data_de_nuts2"
   ]
  },
  {
   "cell_type": "code",
   "execution_count": null,
   "metadata": {},
   "outputs": [],
   "source": [
    "# Ensure region_code is sorted consistently\n",
    "plot_data = pd.merge(final_valdiation_data, imputed_data_de_nuts2, left_on = 'code', right_on=\"NUTS2\", how=\"left\", suffixes=[\"_validation\", \"_imputed\"])\n",
    "\n",
    "# Plot\n",
    "plt.figure(figsize=(9, 4))\n",
    "\n",
    "plt.scatter(plot_data['1_variable_attribute_label'], plot_data['value_imputed'], color='red', label='Predicted data', alpha=0.7)\n",
    "plt.scatter(plot_data['1_variable_attribute_label'], plot_data['value_validation'], color='blue', label='Validation data', alpha=0.7)\n",
    "\n",
    "plt.xlabel('Region name')\n",
    "plt.ylabel('Utilized agricultural area (square kilometer)')\n",
    "plt.xticks(rotation=45, ha=\"right\") \n",
    "plt.legend()\n",
    "plt.grid(True, linestyle='--', alpha=0.6)\n",
    "\n",
    "plt.savefig(os.path.join(\"..\", \"..\", \"figures\", \"missing_value_imputation\", \n",
    "                            f\"uaa_de_validation.png\"), \n",
    "                            bbox_inches='tight')  # Save the figure as a PNG file"
   ]
  },
  {
   "cell_type": "code",
   "execution_count": null,
   "metadata": {},
   "outputs": [],
   "source": [
    "plot_data[\"diff\"] = abs(plot_data[\"value_validation\"] - plot_data[\"value_imputed\"])"
   ]
  },
  {
   "cell_type": "code",
   "execution_count": null,
   "metadata": {},
   "outputs": [],
   "source": [
    "plot_data.sort_values(\"diff\")"
   ]
  },
  {
   "cell_type": "code",
   "execution_count": null,
   "metadata": {},
   "outputs": [],
   "source": []
  }
 ],
 "metadata": {
  "language_info": {
   "name": "python"
  }
 },
 "nbformat": 4,
 "nbformat_minor": 2
}
