{
 "cells": [
  {
   "cell_type": "code",
   "execution_count": null,
   "metadata": {},
   "outputs": [],
   "source": [
    "import os\n",
    "import pandas as pd\n",
    "import geopandas as gpd\n",
    "from energyemissionsregio.config import DATA_PATH, SHP_PATH\n",
    "import matplotlib.pyplot as plt"
   ]
  },
  {
   "cell_type": "code",
   "execution_count": null,
   "metadata": {},
   "outputs": [],
   "source": [
    "lau = gpd.read_file(os.path.join(SHP_PATH, \"LAU.shp\"))\n",
    "lau_es = lau[lau[\"code\"].str.startswith(\"ES21\")].copy()"
   ]
  },
  {
   "cell_type": "code",
   "execution_count": null,
   "metadata": {},
   "outputs": [],
   "source": [
    "# total residential area - year 2024\n",
    "validation_data = pd.read_csv(os.path.join(\"..\", \"..\", \"data\", \"validation_data\", \"xls0013414_i.csv\"), delimiter=\";\", decimal=\",\")\n",
    "\n",
    "validation_data[\"Surface area (Ha)\"] = validation_data[\"Surface area (Ha)\"].astype(str).str.replace(\",\", \".\").astype(float)\n",
    "\n",
    "validation_data[\"value\"] = validation_data[\"Surface area (Ha)\"] * 0.01 #hectare to sq. km."
   ]
  },
  {
   "cell_type": "code",
   "execution_count": null,
   "metadata": {},
   "outputs": [],
   "source": [
    "name_changes = {\"Abanto y Ciervana-Abanto Zierbena\": \"Abanto y Ciérvana-Abanto Zierbena\",\n",
    "                    \"Agurain/Salvatierra\": \"Agurain\",\n",
    "                    \"Armiñon\": \"Armiñón\",\n",
    "                    \"Arrasate/Mondragon\": \"Arrasate\",\n",
    "                    \"Ayala/Aiara\": \"Ayala\",\n",
    "                    \"Baños de Ebro/Mañueta\": \"Baños de Ebro\",\n",
    "                    \"Campezo/Kanpezu\": \"Campezo\",\n",
    "                    \"Donostia / San Sebastian\": \"Donostia\",\n",
    "                    \"Elburgo/Burgelu\": \"Elburgo\",\n",
    "                    \"Elvillar/Bilar\": \"Elvillar\",\n",
    "                    \"Erriberagoitia/Ribera Alta\": \"Erriberagoitia\",\n",
    "                    \"Harana/Valle de Arana\": \"Harana\",\n",
    "                    \"Iruña Oka/Iruña de Oca\": \"Iruña Oka\",\n",
    "                    \"Karrantza Harana/Valle de Carranza\": \"Karrantza Harana\",\n",
    "                    \"Labastida/Bastida\": \"Labastida\",\n",
    "                    \"Lagran\": \"Lagrán\",\n",
    "                    \"Lanciego/Lantziego\": \"Lanciego\",\n",
    "                    \"Lantaron\": \"Lantarón\",\n",
    "                    \"Laudio/Llodio\": \"Laudio\",\n",
    "                    \"Moreda de Alava/Moreda Araba\": \"Moreda de Álava\",\n",
    "                    \"MunitibarArbatzegi Gerrikaitz-\": \"Munitibar-Arbatzegi Gerrikaitz\",\n",
    "                    \"Ribera Baja/Erribera Beitia\" : \"Erriberabeitia\",\n",
    "                    \"San Millan/Donemiliaga\": \"San Millán\",\n",
    "                    \"Urduña/Orduña\": \"Urduña\",\n",
    "                    \"Valdegovia/Gaubea\": \"Valdegovía\",\n",
    "                    \"Valle de Trapaga-Trapagaran\": \"Valle de Trápaga-Trapagaran\",\n",
    "                    \"Villabuena de Alava/Eskuernaga\": \"Villabuena de Álava\",\n",
    "                    \"Yécora/Iekora\": \"Yécora\"}"
   ]
  },
  {
   "cell_type": "code",
   "execution_count": null,
   "metadata": {},
   "outputs": [],
   "source": [
    "validation_data[\"Municipalities\"] = validation_data[\"Municipalities\"].replace(name_changes)"
   ]
  },
  {
   "cell_type": "code",
   "execution_count": null,
   "metadata": {},
   "outputs": [],
   "source": [
    "validation_data"
   ]
  },
  {
   "cell_type": "code",
   "execution_count": null,
   "metadata": {},
   "outputs": [],
   "source": [
    "merge_df = pd.merge(lau_es, validation_data, left_on=\"name\", right_on = \"Municipalities\", how=\"outer\")"
   ]
  },
  {
   "cell_type": "code",
   "execution_count": null,
   "metadata": {},
   "outputs": [],
   "source": [
    "final_validation_data = merge_df[[\"code\", \"Surface area (Ha)\"]].copy()"
   ]
  },
  {
   "cell_type": "code",
   "execution_count": null,
   "metadata": {},
   "outputs": [],
   "source": [
    "final_validation_data[\"value\"] = final_validation_data[\"Surface area (Ha)\"] * 0.01 #hectare to sq. km."
   ]
  },
  {
   "cell_type": "code",
   "execution_count": null,
   "metadata": {},
   "outputs": [],
   "source": [
    "final_validation_data"
   ]
  },
  {
   "cell_type": "code",
   "execution_count": null,
   "metadata": {},
   "outputs": [],
   "source": [
    "final_validation_data[\"value\"].sum()"
   ]
  },
  {
   "cell_type": "code",
   "execution_count": null,
   "metadata": {},
   "outputs": [],
   "source": [
    "imputed_data = pd.read_csv(os.path.join(\"..\", \"..\", \"data\", \"imputed_data\", \"de_residential_building_living_area.csv\"))"
   ]
  },
  {
   "cell_type": "code",
   "execution_count": null,
   "metadata": {},
   "outputs": [],
   "source": [
    "imputed_data = imputed_data[imputed_data[\"region_code\"].str.startswith(\"ES21\")][[\"region_code\", \"value\"]].copy()"
   ]
  },
  {
   "cell_type": "code",
   "execution_count": null,
   "metadata": {},
   "outputs": [],
   "source": [
    "validation_data = {\"ES211\": 54582000,\n",
    "                    \"ES213\": 79987900,\n",
    "                    \"ES212\": 51070700\n",
    "                    }"
   ]
  },
  {
   "cell_type": "code",
   "execution_count": null,
   "metadata": {},
   "outputs": [],
   "source": [
    "validation_data = pd.DataFrame(list(validation_data.items()), columns=[\"region_code\", \"value\"])"
   ]
  },
  {
   "cell_type": "code",
   "execution_count": null,
   "metadata": {},
   "outputs": [],
   "source": [
    "validation_data[\"value_sq. km.\"] = validation_data[\"value\"] / 1000000"
   ]
  },
  {
   "cell_type": "code",
   "execution_count": null,
   "metadata": {},
   "outputs": [],
   "source": [
    "validation_data"
   ]
  },
  {
   "cell_type": "code",
   "execution_count": null,
   "metadata": {},
   "outputs": [],
   "source": [
    "# Ensure region_code is sorted consistently\n",
    "validation_data = validation_data.sort_values('region_code')\n",
    "imputed_data = imputed_data.sort_values('region_code')\n",
    "\n",
    "# Plot\n",
    "plt.figure(figsize=(8, 5))\n",
    "plt.scatter(validation_data['region_code'], \n",
    "            validation_data['value'], \n",
    "            color='blue', \n",
    "            label='Validation data', \n",
    "            alpha=0.7)\n",
    "\n",
    "\n",
    "plt.scatter(imputed_data['region_code'], \n",
    "            imputed_data['value'], \n",
    "            color='red', \n",
    "            label='Imputed data', \n",
    "            alpha=0.7)\n",
    "\n",
    "plt.xlabel('Region Code')\n",
    "plt.ylabel('Value')\n",
    "plt.title('Comparison of Values Across Regions')\n",
    "plt.legend()\n",
    "plt.grid(True, linestyle='--', alpha=0.6)\n",
    "plt.show()\n",
    "\n",
    "\n"
   ]
  },
  {
   "cell_type": "code",
   "execution_count": null,
   "metadata": {},
   "outputs": [],
   "source": []
  }
 ],
 "metadata": {
  "language_info": {
   "name": "python"
  }
 },
 "nbformat": 4,
 "nbformat_minor": 2
}
