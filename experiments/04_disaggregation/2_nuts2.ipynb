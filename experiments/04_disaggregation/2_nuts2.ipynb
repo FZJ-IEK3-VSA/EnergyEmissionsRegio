{
 "cells": [
  {
   "cell_type": "code",
   "execution_count": null,
   "metadata": {},
   "outputs": [],
   "source": [
    "import os \n",
    "\n",
    "import pandas as pd\n",
    "import geopandas as gpd\n",
    "from energyemissionsregio.config import DATA_PATH, SHP_PATH, units\n",
    "from energyemissionsregio.disaggregation import perform_proxy_based_disaggregation\n",
    "from energyemissionsregio.plotting_functions import plot_proxy_data, plot_target_data"
   ]
  },
  {
   "cell_type": "code",
   "execution_count": null,
   "metadata": {},
   "outputs": [],
   "source": [
    "cwd = os.getcwd()"
   ]
  },
  {
   "cell_type": "code",
   "execution_count": null,
   "metadata": {},
   "outputs": [],
   "source": [
    "lau_shp = gpd.read_file(os.path.join(SHP_PATH, \"LAU.shp\"))\n",
    "nuts2_shp = gpd.read_file(os.path.join(SHP_PATH, \"NUTS2.shp\"))"
   ]
  },
  {
   "cell_type": "code",
   "execution_count": null,
   "metadata": {},
   "outputs": [],
   "source": [
    "lau_shp = lau_shp[lau_shp[\"code\"].str.startswith((\"DE\", \"ES\"))]\n",
    "nuts2_shp = nuts2_shp[nuts2_shp[\"code\"].str.startswith((\"DE\", \"ES\"))]"
   ]
  },
  {
   "cell_type": "code",
   "execution_count": null,
   "metadata": {},
   "outputs": [],
   "source": [
    "var_proxy_details = [\n",
    "    {\"target_var\": \"number_of_motorcycles\",\n",
    "      \"proxy\": \"road_network\",\n",
    "      \"proxy_confidence_level\": 2}, \n",
    "\n",
    "    {\"target_var\": \"air_transport_of_freight\",\n",
    "     \"proxy\": \"airports_cover\",\n",
    "    \"proxy_confidence_level\": 4},\n",
    "\n",
    " {\"target_var\": \"air_transport_of_passengers\",\n",
    "  \"proxy\": \"airports_cover\",\n",
    "  \"proxy_confidence_level\": 4},]"
   ]
  },
  {
   "cell_type": "code",
   "execution_count": null,
   "metadata": {},
   "outputs": [],
   "source": [
    "for proxy_detail_dict in var_proxy_details: \n",
    "    target_var = proxy_detail_dict[\"target_var\"]\n",
    "    proxy_var = proxy_detail_dict[\"proxy\"]\n",
    "    proxy_confidence_level = proxy_detail_dict[\"proxy_confidence_level\"]\n",
    "\n",
    "    print(target_var)\n",
    "\n",
    "    # Fig paths \n",
    "    fig_path = os.path.join(\"..\", \"..\", \"figures\", \"disaggregation\", \"NUTS2\", target_var)\n",
    "    os.makedirs(fig_path, exist_ok=True)\n",
    "\n",
    "    # read in target data \n",
    "    if os.path.exists(os.path.join(cwd, \"..\", \"..\", \"data\", \"imputed_data\", f\"{target_var}.csv\")):\n",
    "        target_data = pd.read_csv(os.path.join(cwd, \"..\", \"..\", \"data\", \"imputed_data\", f\"{target_var}.csv\"))\n",
    "    else:\n",
    "        target_data = pd.read_csv(os.path.join(DATA_PATH, f\"{target_var}.csv\"))\n",
    "\n",
    "    target_data[\"value_confidence_level\"] = 5 # VERY HIGH\n",
    "\n",
    "    # read in proxy data \n",
    "    if os.path.exists(os.path.join(cwd, \"..\", \"..\", \"data\", \"imputed_data\", f\"{proxy_var}.csv\")):\n",
    "        proxy_data = pd.read_csv(os.path.join(cwd, \"..\", \"..\", \n",
    "                                              \"data\", \n",
    "                                              \"imputed_data\", \n",
    "                                              f\"{proxy_var}.csv\")) # has already assigned value_confidence_level (from data imputation stage)\n",
    "    else:\n",
    "        proxy_data = pd.read_csv(os.path.join(DATA_PATH, f\"{proxy_var}.csv\"))\n",
    "        proxy_data[\"value_confidence_level\"] = 5 # VERY HIGH because no missing values\n",
    "\n",
    "    target_data = target_data[target_data[\"region_code\"].str.startswith((\"DE\", \"ES\"))][[\"region_code\", \n",
    "                                                                                        \"value\", \n",
    "                                                                                        \"value_confidence_level\"]].copy()\n",
    "    \n",
    "    proxy_data = proxy_data[proxy_data[\"region_code\"].str.startswith((\"DE\", \"ES\"))][[\"region_code\", \n",
    "                                                                                     \"value\", \n",
    "                                                                                     \"value_confidence_level\"]].copy()\n",
    "\n",
    "    proxy_data[\"value\"] = proxy_data[\"value\"].fillna(0)\n",
    "\n",
    "    ## plot\n",
    "    proxy_var_unit = units[proxy_var]\n",
    "    save_path = os.path.join(fig_path, f\"{proxy_var}.png\")\n",
    "    plot_proxy_data(proxy_data, lau_shp, proxy_var_unit, save_path)\n",
    "\n",
    "    target_var_unit = units[target_var]\n",
    "    round_to_int = True if target_var_unit == \"number\" else False\n",
    "    \n",
    "    disagg_data = perform_proxy_based_disaggregation(target_data, proxy_data, \"NUTS2\", proxy_confidence_level, round_to_int)\n",
    "\n",
    "    disagg_data.to_csv(os.path.join(cwd, \"..\", \"..\", \"data\", \"disaggregated_data\", f\"{target_var}.csv\"), index=False)\n",
    "\n",
    "    ## plot\n",
    "    save_path = os.path.join(fig_path, f\"{target_var}.png\")\n",
    "    plot_target_data(target_data, disagg_data, nuts2_shp, lau_shp, target_var_unit, save_path)\n"
   ]
  }
 ],
 "metadata": {
  "language_info": {
   "name": "python"
  }
 },
 "nbformat": 4,
 "nbformat_minor": 2
}
