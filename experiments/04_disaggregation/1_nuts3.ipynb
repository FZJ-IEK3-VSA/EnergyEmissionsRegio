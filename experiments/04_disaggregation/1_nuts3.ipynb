{
 "cells": [
  {
   "cell_type": "code",
   "execution_count": null,
   "metadata": {},
   "outputs": [],
   "source": [
    "import os \n",
    "\n",
    "import pandas as pd\n",
    "import geopandas as gpd\n",
    "from energyemissionsregio.config import DATA_PATH, SHP_PATH, units\n",
    "from energyemissionsregio.utils import solve_proxy_equation, get_proxy_var_list\n",
    "from energyemissionsregio.disaggregation import distribute_data_equally, perform_proxy_based_disaggregation\n",
    "from energyemissionsregio.plotting_functions import plot_proxy_data, plot_solved_proxy_data, plot_target_data"
   ]
  },
  {
   "cell_type": "code",
   "execution_count": null,
   "metadata": {},
   "outputs": [],
   "source": [
    "%load_ext autoreload\n",
    "%autoreload 2"
   ]
  },
  {
   "cell_type": "code",
   "execution_count": null,
   "metadata": {},
   "outputs": [],
   "source": [
    "cwd = os.getcwd()"
   ]
  },
  {
   "cell_type": "code",
   "execution_count": null,
   "metadata": {},
   "outputs": [],
   "source": [
    "lau_shp = gpd.read_file(os.path.join(SHP_PATH, \"LAU.shp\"))\n",
    "nuts3_shp = gpd.read_file(os.path.join(SHP_PATH, \"NUTS3.shp\"))"
   ]
  },
  {
   "cell_type": "code",
   "execution_count": null,
   "metadata": {},
   "outputs": [],
   "source": [
    "lau_shp = lau_shp[lau_shp[\"code\"].str.startswith((\"DE\", \"ES\"))]\n",
    "nuts3_shp = nuts3_shp[nuts3_shp[\"code\"].str.startswith((\"DE\", \"ES\"))]"
   ]
  },
  {
   "cell_type": "code",
   "execution_count": null,
   "metadata": {},
   "outputs": [],
   "source": [
    "var_proxy_details = [\n",
    "    {\"target_var\": \"de_employment_in_agriculture\",\n",
    "      \"proxy\": \"es_utilized_agricultural_area\",\n",
    "      \"proxy_confidence_level\": 4}, \n",
    "\n",
    "#     {\"target_var\": \"de_employment_in_textile_and_leather_manufacturing\",\n",
    "#      \"proxy\": \"industrial_or_commercial_units_cover\",\n",
    "#     \"proxy_confidence_level\": 2},\n",
    "\n",
    "#  {\"target_var\": \"de_employment_in_food_and_beverage_manufacturing\",\n",
    "#   \"proxy\": \"industrial_or_commercial_units_cover\",\n",
    "#   \"proxy_confidence_level\": 2},\n",
    "\n",
    "#  {\"target_var\": \"de_employment_in_mechanical_and_automotive_engineering\",\n",
    "#   \"proxy\": \"industrial_or_commercial_units_cover\",\n",
    "#   \"proxy_confidence_level\": 2\n",
    "#   },\n",
    "  \n",
    "#  {\"target_var\": \"de_employment_in_mechatronics_energy_and_electrical\",\n",
    "#   \"proxy\": \"industrial_or_commercial_units_cover\",\n",
    "#   \"proxy_confidence_level\": 2},\n",
    "\n",
    "#  {\"target_var\": \"de_employment_in_wood_processing\",\n",
    "#    \"proxy\": \"industrial_or_commercial_units_cover\",\n",
    "#   \"proxy_confidence_level\": 2},\n",
    "\n",
    "#   {\"target_var\": \"employment_in_construction\",\n",
    "#    \"proxy\": \"construction_sites_cover+road_network\",\n",
    "#   \"proxy_confidence_level\": 3},\n",
    "\n",
    "#   {\"target_var\": \"employment_in_agriculture_forestry_and_fishing\",\n",
    "#    \"proxy\": \"\"\"es_utilized_agricultural_area+\n",
    "#                 number_of_cattle+\n",
    "#                 number_of_pigs+\n",
    "#                 number_of_buffaloes+\n",
    "#                 agro_forestry_areas_cover+\n",
    "#                 water_bodies_cover+\n",
    "#                 water_courses_cover\"\"\",\n",
    "#   \"proxy_confidence_level\": 3},\n",
    "\n",
    "\n",
    "#   {\"target_var\": \"road_transport_of_freight\",\n",
    "#    \"proxy\": \"road_network\",\n",
    "#   \"proxy_confidence_level\": 2},\n",
    "\n",
    "#   {\"target_var\": \"de_number_of_passenger_cars_emission_group_euro_1\",\n",
    "#    \"proxy\": \"population\",\n",
    "#   \"proxy_confidence_level\": 2},\n",
    "\n",
    "#   {\"target_var\": \"de_number_of_passenger_cars_emission_group_euro_2\",\n",
    "#    \"proxy\": \"population\",\n",
    "#   \"proxy_confidence_level\": 2},\n",
    "\n",
    "#   {\"target_var\":  \"de_number_of_passenger_cars_emission_group_euro_3\",\n",
    "#    \"proxy\": \"population\",\n",
    "#   \"proxy_confidence_level\": 2},\n",
    "\n",
    "#   {\"target_var\": \"de_number_of_passenger_cars_emission_group_euro_4\",\n",
    "#    \"proxy\": \"population\",\n",
    "#   \"proxy_confidence_level\": 2},\n",
    "\n",
    "#   {\"target_var\": \"de_number_of_passenger_cars_emission_group_euro_5\",\n",
    "#    \"proxy\": \"population\",\n",
    "#   \"proxy_confidence_level\": 2},\n",
    "\n",
    "#   {\"target_var\": \"de_number_of_passenger_cars_emission_group_euro_6r\",\n",
    "#    \"proxy\": \"population\",\n",
    "#   \"proxy_confidence_level\": 2},\n",
    "\n",
    "#   {\"target_var\": \"de_number_of_passenger_cars_emission_group_euro_6dt\",\n",
    "#    \"proxy\": \"population\",\n",
    "#   \"proxy_confidence_level\": 2},\n",
    "\n",
    "# {\"target_var\": \"de_number_of_passenger_cars_emission_group_euro_6d\",\n",
    "#    \"proxy\": \"population\",\n",
    "#   \"proxy_confidence_level\": 2},\n",
    "\n",
    "#   {\"target_var\": \"de_number_of_passenger_cars_emission_group_euro_other\",\n",
    "#    \"proxy\": \"population\",\n",
    "#   \"proxy_confidence_level\": 2},\n",
    "\n",
    "#   {\"target_var\": \"de_residential_building_living_area\",\n",
    "#    \"proxy\": \"population\",\n",
    "#   \"proxy_confidence_level\": 4},\n",
    "\n",
    "#   {\"target_var\": \"de_non_residential_building_living_area\",\n",
    "#    \"proxy\": \"industrial_or_commercial_units_cover\",\n",
    "#   \"proxy_confidence_level\": 4},\n",
    "]"
   ]
  },
  {
   "cell_type": "code",
   "execution_count": null,
   "metadata": {},
   "outputs": [],
   "source": [
    "for proxy_detail_dict in var_proxy_details: \n",
    "    target_var = proxy_detail_dict[\"target_var\"]\n",
    "    proxy_equation = proxy_detail_dict[\"proxy\"]\n",
    "    proxy_confidence_level = proxy_detail_dict[\"proxy_confidence_level\"]\n",
    "\n",
    "    print(target_var)\n",
    "\n",
    "    # Fig paths \n",
    "    fig_path = os.path.join(\"..\", \"..\", \"figures\", \"disaggregation\", \"NUTS3\", target_var)\n",
    "    os.makedirs(fig_path, exist_ok=True)\n",
    "\n",
    "    # read in target data \n",
    "    if os.path.exists(os.path.join(cwd, \"..\", \"..\", \"data\", \"imputed_data\", f\"{target_var}.csv\")):\n",
    "        target_data = pd.read_csv(os.path.join(cwd, \"..\", \"..\", \"data\", \"imputed_data\", f\"{target_var}.csv\"))\n",
    "    else:\n",
    "        target_data = pd.read_csv(os.path.join(DATA_PATH, f\"{target_var}.csv\"))\n",
    "\n",
    "    target_data = target_data[target_data[\"region_code\"].str.startswith((\"DE\", \"ES\"))][[\"region_code\", \"value\"]].copy()\n",
    "    target_data[\"value_confidence_level\"] = 5 # VERY HIGH\n",
    "\n",
    "    # read in proxy data \n",
    "    proxy_var_list = get_proxy_var_list(proxy_equation)\n",
    "    \n",
    "    proxy_data_dict = {}\n",
    "    for proxy_var in proxy_var_list:\n",
    "        \n",
    "        if \"cproj_\" in proxy_var:\n",
    "            _df_de = pd.read_csv(os.path.join(DATA_PATH, \"..\", \"climate_projections\", \"DE\", proxy_var, \"2020.csv\"))\n",
    "            _df_de = _df_de[_df_de[\"climate_experiment\"] == \"RCP4.5\"].copy()\n",
    "\n",
    "            _df_de.drop(columns=\"climate_experiment\", inplace=True)\n",
    "\n",
    "            _df_es = pd.read_csv(os.path.join(DATA_PATH, \"..\", \"climate_projections\", \"ES\", proxy_var, \"2020.csv\"))\n",
    "            _df_es = _df_es[_df_es[\"climate_experiment\"] == \"RCP4.5\"].copy()\n",
    "\n",
    "            _df_es.drop(columns=\"climate_experiment\", inplace=True)\n",
    "\n",
    "            proxy_data = pd.concat([_df_de, _df_es])\n",
    "\n",
    "            proxy_data[\"value_confidence_level\"] = 5 # VERY HIGH because no missing values\n",
    "\n",
    "        else:\n",
    "            if os.path.exists(os.path.join(cwd, \"..\", \"..\", \"data\", \"imputed_data\", f\"{proxy_var}.csv\")):\n",
    "                proxy_data = pd.read_csv(os.path.join(cwd, \"..\", \"..\", \"data\", \"imputed_data\", f\"{proxy_var}.csv\")) # has already assigned value_confidence_level (from data imputation stage)\n",
    "            else:\n",
    "                proxy_data = pd.read_csv(os.path.join(DATA_PATH, f\"{proxy_var}.csv\"))\n",
    "                proxy_data[\"value_confidence_level\"] = 5 # VERY HIGH because no missing values\n",
    "\n",
    "        proxy_data = proxy_data[proxy_data[\"region_code\"].str.startswith((\"DE\", \"ES\"))][[\"region_code\", \"value\", \"value_confidence_level\"]].copy()\n",
    "        proxy_data[\"value\"] = proxy_data[\"value\"].fillna(0) # LAU gridded data \n",
    "\n",
    "        ## plot\n",
    "        proxy_var_unit = units[proxy_var]\n",
    "        save_path = os.path.join(fig_path, f\"{proxy_var}.png\")\n",
    "        plot_proxy_data(proxy_data, lau_shp, proxy_var_unit, save_path)\n",
    "\n",
    "        proxy_data_dict.update({proxy_var: proxy_data})\n",
    "\n",
    "    solved_proxy_data = solve_proxy_equation(proxy_equation, proxy_data_dict)\n",
    "\n",
    "    ## plot\n",
    "    save_path = os.path.join(fig_path, \"solved_proxy_data.png\")\n",
    "    plot_solved_proxy_data(solved_proxy_data, lau_shp, save_path)\n",
    "\n",
    "    target_var_unit = units[target_var]\n",
    "    round_to_int = True if target_var_unit == \"number\" else False\n",
    "\n",
    "    disagg_data = perform_proxy_based_disaggregation(target_data, solved_proxy_data, \"NUTS3\", proxy_confidence_level, round_to_int)\n",
    "\n",
    "    disagg_data.to_csv(os.path.join(cwd, \"..\", \"..\", \"data\", \"disaggregated_data\", f\"{target_var}.csv\"), index=False)\n",
    "\n",
    "    ## plot\n",
    "    save_path = os.path.join(fig_path, f\"{target_var}.png\")\n",
    "    plot_target_data(target_data, disagg_data, nuts3_shp, lau_shp, target_var_unit, save_path)"
   ]
  },
  {
   "cell_type": "markdown",
   "metadata": {},
   "source": [
    "### cproj_annual_mean_temperature_heating_degree_days"
   ]
  },
  {
   "cell_type": "code",
   "execution_count": null,
   "metadata": {},
   "outputs": [],
   "source": [
    "target_var = \"cproj_annual_mean_temperature_heating_degree_days\"\n",
    "\n",
    "_df_de = pd.read_csv(os.path.join(DATA_PATH, \"..\", \"climate_projections\", \"DE\", target_var, \"2020.csv\"))\n",
    "_df_de = _df_de[_df_de[\"climate_experiment\"] == \"RCP4.5\"].copy()\n",
    "\n",
    "_df_de.drop(columns=\"climate_experiment\", inplace=True)\n",
    "\n",
    "_df_es = pd.read_csv(os.path.join(DATA_PATH, \"..\", \"climate_projections\", \"ES\", target_var, \"2020.csv\"))\n",
    "_df_es = _df_es[_df_es[\"climate_experiment\"] == \"RCP4.5\"].copy()\n",
    "\n",
    "_df_es.drop(columns=\"climate_experiment\", inplace=True)\n",
    "\n",
    "target_data = pd.concat([_df_de, _df_es])\n",
    "\n",
    "target_data[\"value_confidence_level\"] = 5"
   ]
  },
  {
   "cell_type": "code",
   "execution_count": null,
   "metadata": {},
   "outputs": [],
   "source": [
    "regions_gdf = gpd.read_file(os.path.join(DATA_PATH, \"..\", \"..\", \"02_processed\", \"shapefiles\", \"LAU.shp\"))\n",
    "lau_regions = regions_gdf[regions_gdf[\"code\"].str.startswith((\"DE\", \"ES\"))][[\"code\"]].copy()"
   ]
  },
  {
   "cell_type": "code",
   "execution_count": null,
   "metadata": {},
   "outputs": [],
   "source": [
    "proxy_confidence_level = 3"
   ]
  },
  {
   "cell_type": "code",
   "execution_count": null,
   "metadata": {},
   "outputs": [],
   "source": [
    "disagg_data = distribute_data_equally(target_data, \"NUTS3\", lau_regions, proxy_confidence_level)"
   ]
  },
  {
   "cell_type": "code",
   "execution_count": null,
   "metadata": {},
   "outputs": [],
   "source": [
    "disagg_data.to_csv(os.path.join(cwd, \"..\", \"..\", \"data\", \"disaggregated_data\", f\"{target_var}.csv\"), index=False)"
   ]
  },
  {
   "cell_type": "code",
   "execution_count": null,
   "metadata": {},
   "outputs": [],
   "source": []
  }
 ],
 "metadata": {
  "language_info": {
   "name": "python"
  }
 },
 "nbformat": 4,
 "nbformat_minor": 2
}
